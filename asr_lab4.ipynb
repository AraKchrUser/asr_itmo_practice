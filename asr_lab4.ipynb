{
 "cells": [
  {
   "cell_type": "code",
   "execution_count": 1,
   "id": "5a093105-8d73-49e0-b797-878eea47720c",
   "metadata": {},
   "outputs": [
    {
     "name": "stdout",
     "output_type": "stream",
     "text": [
      "Python 3.9.16\n"
     ]
    }
   ],
   "source": [
    "!python --version"
   ]
  },
  {
   "cell_type": "markdown",
   "id": "ceaa7b0d-bc13-4085-90cf-513b0e6c8ddc",
   "metadata": {},
   "source": [
    "# Практическая работа по распознаванию речи #4: <br> Поиск наилучшей гипотезы распознавания\n",
    "Задача распознавания речи состоит в поиске наиболее вероятной словной гипотезы по имеющемуся звуковому сигналу. Используя теорему Байеса, формулировку задачи можно написать так:\n",
    "$$ W^* = \\underset{W}{argmax} {P(W|O)} =  \\underset{W}{argmax} \\sum_i^N{(\\log{P(O|w_i)} + \\log{P(w_i|w_{i-1}, w_{i-2},..))}}$$\n",
    "Где: \n",
    "* $O$ - звук\n",
    "* $W$ - словная гипотеза распознавания \n",
    "* $W^*$ - лучшая гипотеза распознавания\n",
    "* $P(W|O)$ - вероятность гипотезы распознавания при условии наблюдения $O$\n",
    "* $N$ - количество слов в гипотезе\n",
    "* $w_i$ - i'ое слово в гипотезе\n",
    "* $P(O|w_i)$ - акустическое правдоподобие слова (выводится из предсказания акустической моделью)\n",
    "* $P(w_i|w_{i-1}, w_{i-2},..)$ - языковая вероятность слова при условии контекста (предсказывается языковой моделью)\n",
    "\n",
    "\n",
    "В прошлых лабораторных работах были изучены акустическая и языковая модели. Акустическая модель предсказывает вероятность принадлежности кадра некоему акустическому классу (фонеме). Языковая модель предсказывает априорную вероятность последовательности слов. Пришло время разобраться, как соединить эти части в одну систему и получить итоговый результат распознавания. \n",
    "\n",
    "\n",
    "\n",
    "\n",
    "\n",
    "Основная часть (14 баллов) данной практической работы состоит из двух частей: \n",
    "* знакомство с Weighted Finite State Transducer (WFST)\n",
    "* WFST декодинг в ASR системе\n",
    "\n",
    "Дополнительная часть - тюнинг параметров (2 балла)\n",
    "\n",
    "## Полезные ссылки: \n",
    "* Наиболее популярная библиотека WFST - [OpenFst](https://www.openfst.org/twiki/bin/view/FST/WebHome)\n",
    "* Библиотека для визуализации - [graphviz](https://graphviz.readthedocs.io/en/stable/manual.html)\n",
    "* Алгоритм обхода графа в ширину - [BFS](https://neerc.ifmo.ru/wiki/index.php?title=%D0%9E%D0%B1%D1%85%D0%BE%D0%B4_%D0%B2_%D1%88%D0%B8%D1%80%D0%B8%D0%BD%D1%83)"
   ]
  },
  {
   "cell_type": "code",
   "execution_count": 2,
   "id": "77e04b33-5e49-4ecf-8608-6710eb6c24dd",
   "metadata": {},
   "outputs": [
    {
     "name": "stdout",
     "output_type": "stream",
     "text": [
      "Python 3.9.16\n"
     ]
    }
   ],
   "source": [
    "!python --version "
   ]
  },
  {
   "cell_type": "code",
   "execution_count": 3,
   "id": "c5fc2f9b-c91b-44d1-b8b2-114a8836ddcb",
   "metadata": {},
   "outputs": [],
   "source": [
    "#!pip install graphviz kenlm kaldiio jiwer"
   ]
  },
  {
   "cell_type": "code",
   "execution_count": 4,
   "id": "747cd3cb-0d09-4ecb-8468-7341fc70b466",
   "metadata": {},
   "outputs": [],
   "source": [
    "import numpy as np\n",
    "import time\n",
    "import os\n",
    "import abc\n",
    "\n",
    "from typing import List, Dict, Union, Set, Any, Optional, Tuple\n",
    "from tqdm.auto import tqdm\n",
    "from collections import defaultdict\n",
    "from pathlib import Path\n",
    "from dataclasses import dataclass\n",
    "\n",
    "import matplotlib.pyplot as plt\n",
    "%matplotlib inline\n",
    "from IPython import display\n",
    "\n",
    "import graphviz\n",
    "import kenlm \n",
    "import jiwer\n",
    "from kaldiio import ReadHelper"
   ]
  },
  {
   "cell_type": "markdown",
   "id": "29dc3ee2-63c9-4fdb-a7ab-3fbace5043d4",
   "metadata": {},
   "source": [
    "# 1. Weighted Finite State Transducer (WFST)\n",
    "\n",
    "\n",
    "\n",
    "Из определения в wiki [Weighted Finite State Transducer (Взвешенный конечный автомат с выходом)](https://en.wikipedia.org/wiki/Finite-state_transducer) следует, что главная задача FST - это переводить символы из входного алфавита в соответствующие им символы из выходного алфавита. Например, с помощью FST можно перевести последовательность фонем в последовательность слов. Конечный автомат будет менять свое состояние при обработке последовательности входных символов (фонем). Когда он соберет из входных фонем корректную транскрипцию слова, то выдаст это слово на выход. \n",
    "\n",
    "Однако не всегда можно однозначно перевести последовательность фонем в слова (некоторые слова произносятся одинаково, а пишутся по-разному), поэтому для распознавания речи надо использовать не простой FST, а взвешенный. WFST позволяет не только перевести входные символы в выходные, но и оценить вес такого перевода. Чем больше вес, тем хуже гипотеза.  \n",
    "\n",
    "Напишем собственную реализацию WFST.\n"
   ]
  },
  {
   "cell_type": "markdown",
   "id": "18f84131-244f-4672-bb95-f245385b6a88",
   "metadata": {},
   "source": [
    "### AbstractWFST\n",
    "AbstractWFST -- это базовый интерфейс нашего WFST. В нем заданы основные методы, через которые мы будем работать с wfst  \n",
    "* get_start - возвращаяет стартовое состояние конечного автомата.\n",
    "* final_score - вес завершения работы в данном состоянии. В некоторых состояниях завершить обработку невозможно, в таких случаях final weight  будет равен бесконечности.\n",
    "*  transduce - совершает переход из текущего состояния в следующее, соответствующее переходу по символу ilabel. Возвращает выходной символ, вес перехода и следующее состояние.  \n",
    "\n",
    "\n",
    "\n",
    "\n",
    " "
   ]
  },
  {
   "cell_type": "code",
   "execution_count": 5,
   "id": "86425820-9a05-4463-8c97-5d749dc43f53",
   "metadata": {},
   "outputs": [],
   "source": [
    "class AbstractWFST(abc.ABC):\n",
    "    def __init__(self):\n",
    "        pass\n",
    "    \n",
    "    @abc.abstractmethod\n",
    "    def get_start(self) -> Any:\n",
    "        \"\"\"Return start state\"\"\"\n",
    "    \n",
    "    @abc.abstractmethod\n",
    "    def final_score(self, state: Any) -> float:\n",
    "        \"\"\"is the state final? If true return negative log likelihood of the finalization. otherwise return inf\"\"\"\n",
    "           \n",
    "    @abc.abstractmethod\n",
    "    def transduce(self, state: Any, ilabel: str) -> Tuple[Tuple[str, float, Any]]:\n",
    "        \"\"\"Transduce ilabel to olabel. \n",
    "        return all available olabels for this state and ilabel pair\n",
    "        return type - ((olabel1, weight1, nextstate1), \n",
    "                       ((olabel1, weight1, nextstate1), \n",
    "                       ...)\"\"\""
   ]
  },
  {
   "cell_type": "markdown",
   "id": "14df77d5-b466-4eb4-8179-51ed23b7b0db",
   "metadata": {},
   "source": [
    "### SymbolsMap\n",
    "\n",
    "Для того, чтобы задать WFST, первым делом нам понадобятся таблицы входных и выходных символов. Для задания таблиц будем использовать класс SymbolsMap. Данный класс служит для маппинга символов на индексы и обратно. "
   ]
  },
  {
   "cell_type": "code",
   "execution_count": 6,
   "id": "f4441149-62c8-4255-b240-4652f8ff9c33",
   "metadata": {},
   "outputs": [],
   "source": [
    "class SymbolsMap:\n",
    "    def __init__(self, id2symbol: Optional[Dict[int, str]] = None, symbol2id: Optional[Dict[str, int]] = None):\n",
    "        assert id2symbol is not None or symbol2id is not None, f\"One id2symbol or symbol2id must be not None\"\n",
    "        assert id2symbol is None or symbol2id is None, f\"Only one One id2symbol or symbol2id can be not None\"\n",
    "        if id2symbol is None:\n",
    "            self.id2symbol = {i:s for s,i in symbol2id.items()}\n",
    "        elif isinstance(id2symbol, dict):\n",
    "            self.id2symbol = id2symbol\n",
    "        elif isinstance(id2symbol, list):\n",
    "            self.id2symbol = {i:s for i, s in enumerate(id2symbol)}\n",
    "        else:\n",
    "            raise RuntimeError(f\"unknown type {type(id2symbol)=}\")\n",
    "            \n",
    "        if symbol2id is None:\n",
    "            self.symbol2id = {s:i for i, s in self.id2symbol.items()}\n",
    "        else:\n",
    "            self.symbol2id = symbol2id   \n",
    "                \n",
    "        assert self.id2symbol[0] == '<eps>', f\"wrong {self.id2symbol}\"\n",
    "\n",
    "    def get_id(self, symbol: str):\n",
    "        return self.symbol2id[symbol]\n",
    "        \n",
    "    def get_symbol(self, id: int):\n",
    "        return self.id2symbol[id] \n",
    "    \n",
    "    @classmethod\n",
    "    def from_file(cls, fname):\n",
    "        \"\"\"read symbols table from file\n",
    "        format: \n",
    "            word id\n",
    "            word2 id2\n",
    "            ...\n",
    "        \"\"\"\n",
    "        with open(fname) as f:\n",
    "            s2i = {s:int(i) for s, i in map(str.split, f.readlines())}\n",
    "        return cls(symbol2id=s2i)"
   ]
  },
  {
   "cell_type": "markdown",
   "id": "3bb6a626-366b-4ff9-ba63-0c2f03818367",
   "metadata": {},
   "source": [
    "### Arc и ILabelIndexedArcs\n",
    "Переходы внутри FST будем описывать с помощью класса, инкапсулирующего информацию о входном/выходном индексе символа, весе перехода и следующем состоянии FST. Поскольку дуги мы будем хранить отдельно для каждого состояния, информация о текущем состоянии в дуге не нужна. \n",
    "\n",
    "Для быстрого выбора нужной дуги создадим специальную коллекцию ILabelIndexedArcs. Данная коллекция хранит дуги таким образом, чтобы выбор дуги по входному символу осуществлялся за O(1). \n"
   ]
  },
  {
   "cell_type": "code",
   "execution_count": 7,
   "id": "6a098c7d-1d87-4e65-81c8-43a18e4df4dc",
   "metadata": {},
   "outputs": [],
   "source": [
    "@dataclass\n",
    "class Arc:\n",
    "    \"\"\"Arc in WFST\"\"\"\n",
    "    ilabel: int\n",
    "    olabel: int\n",
    "    weight: float\n",
    "    nextstate: Any\n",
    "\n",
    "class ILabelIndexedArcs:\n",
    "    def __init__(self, arcs: Optional[List[Arc]] = None):\n",
    "        self.ilabel2arclist = defaultdict(list)\n",
    "        if arcs is not None:\n",
    "            for arc in arcs:\n",
    "                self.add_arc(arc)\n",
    "\n",
    "    def add_arc(self, arc: Arc):\n",
    "        self.ilabel2arclist[arc.ilabel].append(arc)\n",
    "\n",
    "    def get_arcs_by_ilabel(self, ilabel: int):\n",
    "        return self.ilabel2arclist[ilabel]\n",
    "\n",
    "    def arcs(self) -> List[Arc]:\n",
    "        \"\"\"Return all arcs\"\"\"\n",
    "        all_arcs = []\n",
    "        # TODO\n",
    "        # реализуйте функцию, которая возвращает все дуги, хранящиеся в данной коллекции\n",
    "        for ilabel in self.ilabel2arclist:\n",
    "            arcs = self.ilabel2arclist[ilabel] # TODO: Or extend ?\n",
    "            all_arcs.extend(arcs)\n",
    "        return all_arcs \n",
    "\n",
    "    def __str__(self):\n",
    "        return \"ILabelIndexedArcs([\" + \", \".join(f\"{a}\" for a in self.arcs()) + \"])\"\n",
    "        \n",
    "    def __repr__(self):\n",
    "        return str(self)"
   ]
  },
  {
   "cell_type": "code",
   "execution_count": 8,
   "id": "b0bc0d83-fecf-42e6-9dd1-4e95622cc6db",
   "metadata": {},
   "outputs": [
    {
     "name": "stdout",
     "output_type": "stream",
     "text": [
      "Test 1.a passed\n"
     ]
    }
   ],
   "source": [
    "# test 1.a\n",
    "def test_ILabelIndexedArcs():\n",
    "    # проверка что arcs работает правильно \n",
    "    arcs = [Arc(i, -i, i/100, i+100) for i in range(10)]\n",
    "    c = ILabelIndexedArcs(arcs)\n",
    "    arcs2 = c.arcs()\n",
    "    \n",
    "    assert len(arcs) == len(arcs2), f\"{len(arcs)=}, {len(arcs2)=}\\n{arcs} != {c.arcs()}\"\n",
    "    for a in arcs2:\n",
    "        assert a in arcs, f\"{a=} not in {arcs=}\"\n",
    "    print('Test 1.a passed')\n",
    "test_ILabelIndexedArcs()    "
   ]
  },
  {
   "cell_type": "markdown",
   "id": "5f9d7679-8e0c-41d8-8ac5-bdd38841594f",
   "metadata": {},
   "source": [
    "### WFST \n",
    "Все готово для создания взвешенного конечного автомата. Класс WFST состоит из таблицы входных и выходных символов, списка состояний и коллекции дуг для каждого, а также множества финальных состояний. "
   ]
  },
  {
   "cell_type": "code",
   "execution_count": 9,
   "id": "fb8dab12-e963-44c8-98a1-cde9f8044c98",
   "metadata": {},
   "outputs": [],
   "source": [
    "class WFST(AbstractWFST):\n",
    "    def __init__(self, \n",
    "                 isymbols: Optional[SymbolsMap] = None, \n",
    "                 osymbols: Optional[SymbolsMap] = None):\n",
    "        self.start = 0\n",
    "        self.states = [0]\n",
    "        # состояния, в которых может завершиться декодирование без какого либо штрафа \n",
    "        self.final_states = set() \n",
    "        self.isymbols = isymbols\n",
    "        self.osymbols = osymbols\n",
    "        self.state2arcs = defaultdict(ILabelIndexedArcs)\n",
    "\n",
    "    def get_start(self):\n",
    "        \"\"\"return start state\"\"\"\n",
    "        return self.start\n",
    "        \n",
    "    def final_score(self, state_id: int):\n",
    "        \"\"\"return the weight of decoding completion in state_id\"\"\"\n",
    "        # TODO \n",
    "        # верните вес завершения декодирования в state_id \n",
    "        if state_id in self.final_states:\n",
    "            # weight = self.state2arcs[state_id] #.arcs()[-1].weight #!!!!! #TODO\n",
    "            return 0\n",
    "        return float('inf')\n",
    "       \n",
    "    def transduce(self, state, ilabel: str) -> Tuple[Tuple[str, float, int]]:\n",
    "        \"\"\"transitions wfst to next state by 'ilabel' input symbol, except when the input symbol is <eps>.\n",
    "        Returns all possible output results as a tuple of triples (olabel, weight, nextstate).\"\"\"\n",
    "        assert self.isymbols is not None and self.osymbols is not None, f\"Cannot transduce w/o both symbols tables\" \n",
    "        if ilabel == '<eps>':\n",
    "            # skip <eps> input\n",
    "            return ((ilabel, 0, state), )\n",
    "        label_id = self.isymbols.get_id(ilabel)\n",
    "        # TODO \n",
    "        # верните все возможные результаты перехода из текущего состояния по входу ilabel\n",
    "        # результат должен выглядеть так: tuple((\"слово\", 0.1, 2), (\"другоеслово\", 10, 4), ...)\n",
    "        result = tuple()\n",
    "        for arc in self.state2arcs[state].arcs():\n",
    "            if label_id == arc.ilabel:\n",
    "                result += ((self.osymbols.get_symbol(arc.olabel), arc.weight, arc.nextstate), )\n",
    "        return result\n",
    "    \n",
    "    def set_final(self, state: int):\n",
    "        \"\"\"sets the final weight for the state to zero\"\"\"\n",
    "        # TODO добавьте возможность завершать декодирование в state\n",
    "        self.final_states.add(state)\n",
    "        \n",
    "    def new_state(self):\n",
    "        \"\"\"Create new state id and return it\"\"\"\n",
    "        # TODO \n",
    "        # добавьте в конечный автомат новое состояние и верните его id \n",
    "        state_id = self.states[-1] + 1 \n",
    "        self.states.append(state_id) \n",
    "        return state_id \n",
    "    \n",
    "    def add_arc(self, state_from: int, arc: Arc):\n",
    "        \"\"\"adds a new arc for this state\"\"\"\n",
    "        # TODO \n",
    "        # добавьте в конечный автомат новых переход arc, выходящий из state_from \n",
    "        self.state2arcs[state_from].add_arc(arc)\n",
    "    \n",
    "    def to_dot(self):\n",
    "        \"\"\"Visualize the WFST\"\"\" \n",
    "        dot = graphviz.Digraph()\n",
    "        for s in self.states:\n",
    "            dot.node(str(s))\n",
    "        for state_from, arcs_container in self.state2arcs.items():\n",
    "            for arc in arcs_container.arcs():\n",
    "                il = self.isymbols.get_symbol(arc.ilabel) if self.isymbols is not None else arc.ilabel\n",
    "                ol = self.osymbols.get_symbol(arc.olabel) if self.osymbols is not None else arc.olabel\n",
    "                dot.edge(str(state_from), str(arc.nextstate), label=f\"{il}:{ol}:{arc.weight:.2f}\")\n",
    "        return dot\n",
    "    "
   ]
  },
  {
   "cell_type": "code",
   "execution_count": 10,
   "id": "b8959ca8-4e58-4ea2-b4c9-d4ce12d800cf",
   "metadata": {},
   "outputs": [
    {
     "data": {
      "image/svg+xml": [
       "<?xml version=\"1.0\" encoding=\"UTF-8\" standalone=\"no\"?>\n",
       "<!DOCTYPE svg PUBLIC \"-//W3C//DTD SVG 1.1//EN\"\n",
       " \"http://www.w3.org/Graphics/SVG/1.1/DTD/svg11.dtd\">\n",
       "<!-- Generated by graphviz version 2.40.1 (20161225.0304)\n",
       " -->\n",
       "<!-- Title: %3 Pages: 1 -->\n",
       "<svg width=\"178pt\" height=\"131pt\"\n",
       " viewBox=\"0.00 0.00 178.35 131.00\" xmlns=\"http://www.w3.org/2000/svg\" xmlns:xlink=\"http://www.w3.org/1999/xlink\">\n",
       "<g id=\"graph0\" class=\"graph\" transform=\"scale(1 1) rotate(0) translate(4 127)\">\n",
       "<title>%3</title>\n",
       "<polygon fill=\"#ffffff\" stroke=\"transparent\" points=\"-4,4 -4,-127 174.3472,-127 174.3472,4 -4,4\"/>\n",
       "<!-- 0 -->\n",
       "<g id=\"node1\" class=\"node\">\n",
       "<title>0</title>\n",
       "<ellipse fill=\"none\" stroke=\"#000000\" cx=\"71.3472\" cy=\"-105\" rx=\"27\" ry=\"18\"/>\n",
       "<text text-anchor=\"middle\" x=\"71.3472\" y=\"-101.3\" font-family=\"Times,serif\" font-size=\"14.00\" fill=\"#000000\">0</text>\n",
       "</g>\n",
       "<!-- 1 -->\n",
       "<g id=\"node2\" class=\"node\">\n",
       "<title>1</title>\n",
       "<ellipse fill=\"none\" stroke=\"#000000\" cx=\"71.3472\" cy=\"-18\" rx=\"27\" ry=\"18\"/>\n",
       "<text text-anchor=\"middle\" x=\"71.3472\" y=\"-14.3\" font-family=\"Times,serif\" font-size=\"14.00\" fill=\"#000000\">1</text>\n",
       "</g>\n",
       "<!-- 0&#45;&gt;1 -->\n",
       "<g id=\"edge1\" class=\"edge\">\n",
       "<title>0&#45;&gt;1</title>\n",
       "<path fill=\"none\" stroke=\"#000000\" d=\"M46.0266,-98.7128C30.7782,-93.4794 12.5799,-84.3347 3.3472,-69 -7.4606,-51.0493 14.6392,-37.3221 36.4675,-28.6553\"/>\n",
       "<polygon fill=\"#000000\" stroke=\"#000000\" points=\"37.852,-31.8755 46.0327,-25.1429 35.4391,-25.3045 37.852,-31.8755\"/>\n",
       "<text text-anchor=\"middle\" x=\"26.3472\" y=\"-57.8\" font-family=\"Times,serif\" font-size=\"14.00\" fill=\"#000000\">b:б:1.00</text>\n",
       "</g>\n",
       "<!-- 0&#45;&gt;1 -->\n",
       "<g id=\"edge2\" class=\"edge\">\n",
       "<title>0&#45;&gt;1</title>\n",
       "<path fill=\"none\" stroke=\"#000000\" d=\"M71.3472,-86.9735C71.3472,-75.1918 71.3472,-59.5607 71.3472,-46.1581\"/>\n",
       "<polygon fill=\"#000000\" stroke=\"#000000\" points=\"74.8473,-46.0033 71.3472,-36.0034 67.8473,-46.0034 74.8473,-46.0033\"/>\n",
       "<text text-anchor=\"middle\" x=\"95.3472\" y=\"-57.8\" font-family=\"Times,serif\" font-size=\"14.00\" fill=\"#000000\">u:ю:3.00</text>\n",
       "</g>\n",
       "<!-- 1&#45;&gt;0 -->\n",
       "<g id=\"edge3\" class=\"edge\">\n",
       "<title>1&#45;&gt;0</title>\n",
       "<path fill=\"none\" stroke=\"#000000\" d=\"M93.5406,-28.3523C110.1681,-37.6865 128.7205,-52.4578 120.3472,-69 116.2696,-77.0555 109.447,-83.7468 102.1688,-89.0863\"/>\n",
       "<polygon fill=\"#000000\" stroke=\"#000000\" points=\"99.9973,-86.3247 93.5527,-94.7341 103.8348,-92.1791 99.9973,-86.3247\"/>\n",
       "<text text-anchor=\"middle\" x=\"145.3472\" y=\"-57.8\" font-family=\"Times,serif\" font-size=\"14.00\" fill=\"#000000\">d:д:2.00</text>\n",
       "</g>\n",
       "<!-- 2 -->\n",
       "<g id=\"node3\" class=\"node\">\n",
       "<title>2</title>\n",
       "<ellipse fill=\"none\" stroke=\"#000000\" cx=\"143.3472\" cy=\"-105\" rx=\"27\" ry=\"18\"/>\n",
       "<text text-anchor=\"middle\" x=\"143.3472\" y=\"-101.3\" font-family=\"Times,serif\" font-size=\"14.00\" fill=\"#000000\">2</text>\n",
       "</g>\n",
       "</g>\n",
       "</svg>\n"
      ],
      "text/plain": [
       "<graphviz.graphs.Digraph at 0x7f226836ee80>"
      ]
     },
     "metadata": {},
     "output_type": "display_data"
    },
    {
     "name": "stdout",
     "output_type": "stream",
     "text": [
      "test 1.b passed\n"
     ]
    }
   ],
   "source": [
    "# test 1.b\n",
    "def test_WFST():\n",
    "    en_l = SymbolsMap(id2symbol=['<eps>', 'b', 'd', 'u'])\n",
    "    ru_l = SymbolsMap(id2symbol=['<eps>', 'ю', 'б', 'д'])\n",
    "    \n",
    "    # create first transducer\n",
    "    en2ru = WFST(isymbols=en_l, osymbols=ru_l)\n",
    "    # new_state\n",
    "    en2ru_final = en2ru.new_state()\n",
    "    assert en2ru_final == 1 , f'start - zero, next state - one, next - two ...'\n",
    "    assert en2ru.new_state() == 2, f'start - zero, next state - one, next - two ...'\n",
    "    en2ru.set_final(en2ru_final)\n",
    "    en2ru.add_arc(en2ru.get_start(), Arc(1, 2, 1.0, en2ru_final))\n",
    "    en2ru.add_arc(en2ru_final, Arc(2, 3, 2.0, en2ru.get_start()))\n",
    "    en2ru.add_arc(en2ru.get_start(), Arc(3, 1, 3.0, en2ru_final))\n",
    "    # you can use this line to visualize\n",
    "    display.display(en2ru.to_dot())\n",
    "\n",
    "    # final_score # set_final\n",
    "    assert en2ru.final_score(en2ru.get_start()) == float('inf')\n",
    "    assert en2ru.final_score(en2ru_final) == 0\n",
    "    en2ru.set_final(en2ru.get_start())\n",
    "    assert en2ru.final_score(en2ru_final) == en2ru.final_score(en2ru.get_start()) == 0\n",
    "\n",
    "    # transduce # add_arc\n",
    "    assert en2ru.transduce(en2ru.get_start(), 'd') == tuple() , \"Cannot transduce 'd' from start state. output must be zero len tuple\"\n",
    "    assert en2ru.transduce(en2ru.get_start(), 'b') == (('б', 1.0, en2ru_final), ) , \"Arc(1, 2, 1.0, en2ru_final)\"\n",
    "    assert en2ru.transduce(en2ru.get_start(), 'u') == (('ю', 3.0, en2ru_final), ) , \"Arc(3, 1, 3.0, en2ru_final)\"\n",
    "    assert en2ru.transduce(en2ru_final, 'd') == (('д', 2.0, en2ru.get_start()), ) , \"Arc(2, 3, 2.0, en2ru.get_start())\"\n",
    "    \n",
    "    print('test 1.b passed')\n",
    "test_WFST()"
   ]
  },
  {
   "cell_type": "markdown",
   "id": "b598f04d-11fe-4b37-a396-1eea00d351bd",
   "metadata": {},
   "source": [
    "## wfst композиция \n",
    "\n",
    "\n",
    "Над WFST определен большой набор различных операций, реализация большинства из которых является сложной алгоритмической задачей. Важной для распознавания речи операцией является [композиция](https://www.openfst.org/twiki/bin/view/FST/ComposeDoc) набора различных wfst. \n",
    "\n",
    "OpenFST дает следующее определение композиции:\n",
    " \n",
    "\"This operation computes the composition of two transducers. If A transduces string x to y with weight a and B transduces y to z with weight b, then their composition transduces string x to z with weight a ⊗ b.\"\n",
    "\n",
    "Другими словами, результатом композиции является wfst, применение которого к входной последовательности даст такой же результат, как и последовательное применение композируемых wfst. \n",
    "\n",
    "Хорошим примером композиции различных WFST является граф распознавания в гибридных системах распознавания речи. Такой граф является результатом композиции четырех wfst:\n",
    "* H - Hidden Markov Model wfst (переводит акустические классы, предсказанные с помощью AM, в трифоны)\n",
    "* С - Context-dependency transducer (переводит трифоны (тройки (leftcontext,phone,rightcontext)) в фонемы)\n",
    "* L - lexicon (переводит фонемы в слова)\n",
    "* G - ngram lm (оценивает вероятность последовательностей слов)\n",
    " \n",
    "Итого граф распознавания можно выразить с помощью следующей формулы:\n",
    "$$ HCLG = H⊗C⊗L⊗G $$ \n",
    "где ⊗ - оператор композиции двух wfst. Подробнее про граф распознавания можно почитать в [документации к фреймворку kaldi](https://kaldi-asr.org/doc/graph.html)\n",
    "\n",
    "\n",
    "Композиция позволяет объединить много обработчиков в один большой граф, что несомненно является большим плюсом для построения продакшн решений. Но у такого подхода есть и минусы - процесс подготовки графа очень сложен и требует множества оптимизаций. Это усложняет любые эксперименты и модификации системы. В данной работе мы не будем реализовывать честную композицию графа, а будем считать композицию \"On the Fly\". То есть сделаем обертку, реализующую интерфейс AbstractWFST, состоянием которой будет Tuple состояний всех композируемых wfst, а метод transduce будет последовательно проходить через эти wfst. Тем самым, по определению композиции, наш класс будет эквивалентен честной композиции.  \n",
    "\n"
   ]
  },
  {
   "cell_type": "code",
   "execution_count": 11,
   "id": "a52b7dc4-b98d-468a-9d61-990eda9217d0",
   "metadata": {},
   "outputs": [],
   "source": [
    "class OnTheFlyCompose(AbstractWFST):\n",
    "    def __init__(self, wfsts: List[AbstractWFST]):\n",
    "        # !!!Attention!!! wfsts - это лист AbstractWFST, а не WFST. \n",
    "        # Для работы с wfsts истользуйте только методы из AbstractWFST\n",
    "        self.wfsts = wfsts\n",
    "\n",
    "    def get_start(self):\n",
    "        return tuple(fst.get_start() for fst in self.wfsts)\n",
    "\n",
    "    def final_score(self, state: Tuple[Any]):\n",
    "        assert len(state) == len(self.wfsts)\n",
    "        # TODO \n",
    "        # посчитайте финальный скор для state\n",
    "        # результат композиции может завершить обработку только в тех стейтах, где все wfsts будут в финальных состояниях\n",
    "        scores = []\n",
    "        for st, wfst in zip(state, self.wfsts):\n",
    "            scores.append(wfst.final_score(st))\n",
    "        return 0 if all([score == 0 for score in scores]) else float(\"inf\")\n",
    "    \n",
    "    def _transduce(self, state: Tuple[Any], ilabel: str) -> List[Tuple[List[str], float, List[int]]]:\n",
    "        assert len(self.wfsts) == len(state)\n",
    "        # Найдите все возможные гипотезы перевода ilabel с помощью композиции всех self.wfsts\n",
    "        # Последовательно пройдите через все self.wfsts, расширяя список гипотез и дополняя гипотезы новыми слоями \n",
    "        # Верните результат в виде списка гипотез. \n",
    "        # Каждая гипотеза содержит три элемента: \n",
    "        #   0. список символов со ВСЕХ прошедших слоев композиции \n",
    "        #   1. суммарный вес гипотезы \n",
    "        #   2. список состояний, в которые перешли self.wfsts \n",
    "\n",
    "        # Одна стартовая гипотеза. Корень для всех гипотез.\n",
    "        # Еще никакой wfst не применен, символ только ilabel, вес стартовый, стейтов еще нет. \n",
    "        hyps_per_layer = [([ilabel], 0, [])]\n",
    "        for fst, s in zip(self.wfsts, state):\n",
    "            new_hyps = []\n",
    "            # TODO \n",
    "            # примените fst.transduce ко всем гипотезам из hyps_per_layer\n",
    "            # постепенно разветвляя их и сохраняя в new_hyp\n",
    "            # на вход подайте выход последнего из уже обработаных слоев \n",
    "\n",
    "            for hyp in hyps_per_layer:\n",
    "                ilabel = hyp[0][-1]\n",
    "                for trans in fst.transduce(s, ilabel):\n",
    "                    # new_hyps.append(( # Тут был баг\n",
    "                    #     hyps_per_layer[0][0]  + [trans[0]],\n",
    "                    #     hyps_per_layer[0][1]  +   trans[1],\n",
    "                    #     hyps_per_layer[0][2]  + [trans[2]],\n",
    "                    # ))\n",
    "                    new_hyps.append((\n",
    "                        hyp[0]  + [trans[0]],\n",
    "                        hyp[1]  +   trans[1],\n",
    "                        hyp[2]  + [trans[2]],\n",
    "                    ))\n",
    "            \n",
    "            hyps_per_layer = new_hyps\n",
    "            \n",
    "        return hyps_per_layer\n",
    "\n",
    "    def transduce(self, state: Tuple[Any], ilabel: str):\n",
    "        hyps_per_layer = self._transduce(state, ilabel)\n",
    "        # выходной символ transduce в композиции - это выходной символ самого последнего wfst \n",
    "        return tuple((ls[-1], w, tuple(ss)) for ls, w, ss in hyps_per_layer)\n",
    "    "
   ]
  },
  {
   "cell_type": "code",
   "execution_count": 12,
   "id": "de383686-63f9-4664-bceb-e6eed2f1c1e0",
   "metadata": {},
   "outputs": [
    {
     "data": {
      "image/svg+xml": [
       "<?xml version=\"1.0\" encoding=\"UTF-8\" standalone=\"no\"?>\n",
       "<!DOCTYPE svg PUBLIC \"-//W3C//DTD SVG 1.1//EN\"\n",
       " \"http://www.w3.org/Graphics/SVG/1.1/DTD/svg11.dtd\">\n",
       "<!-- Generated by graphviz version 2.40.1 (20161225.0304)\n",
       " -->\n",
       "<!-- Title: %3 Pages: 1 -->\n",
       "<svg width=\"197pt\" height=\"131pt\"\n",
       " viewBox=\"0.00 0.00 197.35 131.00\" xmlns=\"http://www.w3.org/2000/svg\" xmlns:xlink=\"http://www.w3.org/1999/xlink\">\n",
       "<g id=\"graph0\" class=\"graph\" transform=\"scale(1 1) rotate(0) translate(4 127)\">\n",
       "<title>%3</title>\n",
       "<polygon fill=\"#ffffff\" stroke=\"transparent\" points=\"-4,4 -4,-127 193.3472,-127 193.3472,4 -4,4\"/>\n",
       "<!-- 0 -->\n",
       "<g id=\"node1\" class=\"node\">\n",
       "<title>0</title>\n",
       "<ellipse fill=\"none\" stroke=\"#000000\" cx=\"71.3472\" cy=\"-105\" rx=\"27\" ry=\"18\"/>\n",
       "<text text-anchor=\"middle\" x=\"71.3472\" y=\"-101.3\" font-family=\"Times,serif\" font-size=\"14.00\" fill=\"#000000\">0</text>\n",
       "</g>\n",
       "<!-- 0&#45;&gt;0 -->\n",
       "<g id=\"edge2\" class=\"edge\">\n",
       "<title>0&#45;&gt;0</title>\n",
       "<path fill=\"none\" stroke=\"#000000\" d=\"M95.8796,-112.752C106.855,-113.4902 116.3472,-110.9063 116.3472,-105 116.3472,-101.0317 112.0622,-98.5632 105.9215,-97.5944\"/>\n",
       "<polygon fill=\"#000000\" stroke=\"#000000\" points=\"105.9944,-94.0949 95.8796,-97.248 105.753,-101.0908 105.9944,-94.0949\"/>\n",
       "<text text-anchor=\"middle\" x=\"152.8472\" y=\"-101.3\" font-family=\"Times,serif\" font-size=\"14.00\" fill=\"#000000\">d:&lt;eps&gt;:0.10</text>\n",
       "</g>\n",
       "<!-- 1 -->\n",
       "<g id=\"node2\" class=\"node\">\n",
       "<title>1</title>\n",
       "<ellipse fill=\"none\" stroke=\"#000000\" cx=\"71.3472\" cy=\"-18\" rx=\"27\" ry=\"18\"/>\n",
       "<text text-anchor=\"middle\" x=\"71.3472\" y=\"-14.3\" font-family=\"Times,serif\" font-size=\"14.00\" fill=\"#000000\">1</text>\n",
       "</g>\n",
       "<!-- 0&#45;&gt;1 -->\n",
       "<g id=\"edge1\" class=\"edge\">\n",
       "<title>0&#45;&gt;1</title>\n",
       "<path fill=\"none\" stroke=\"#000000\" d=\"M46.0266,-98.7128C30.7782,-93.4794 12.5799,-84.3347 3.3472,-69 -7.4606,-51.0493 14.6392,-37.3221 36.4675,-28.6553\"/>\n",
       "<polygon fill=\"#000000\" stroke=\"#000000\" points=\"37.852,-31.8755 46.0327,-25.1429 35.4391,-25.3045 37.852,-31.8755\"/>\n",
       "<text text-anchor=\"middle\" x=\"26.3472\" y=\"-57.8\" font-family=\"Times,serif\" font-size=\"14.00\" fill=\"#000000\">b:б:1.00</text>\n",
       "</g>\n",
       "<!-- 0&#45;&gt;1 -->\n",
       "<g id=\"edge3\" class=\"edge\">\n",
       "<title>0&#45;&gt;1</title>\n",
       "<path fill=\"none\" stroke=\"#000000\" d=\"M71.3472,-86.9735C71.3472,-75.1918 71.3472,-59.5607 71.3472,-46.1581\"/>\n",
       "<polygon fill=\"#000000\" stroke=\"#000000\" points=\"74.8473,-46.0033 71.3472,-36.0034 67.8473,-46.0034 74.8473,-46.0033\"/>\n",
       "<text text-anchor=\"middle\" x=\"95.3472\" y=\"-57.8\" font-family=\"Times,serif\" font-size=\"14.00\" fill=\"#000000\">u:ю:3.00</text>\n",
       "</g>\n",
       "<!-- 1&#45;&gt;0 -->\n",
       "<g id=\"edge4\" class=\"edge\">\n",
       "<title>1&#45;&gt;0</title>\n",
       "<path fill=\"none\" stroke=\"#000000\" d=\"M93.5406,-28.3523C110.1681,-37.6865 128.7205,-52.4578 120.3472,-69 116.2696,-77.0555 109.447,-83.7468 102.1688,-89.0863\"/>\n",
       "<polygon fill=\"#000000\" stroke=\"#000000\" points=\"99.9973,-86.3247 93.5527,-94.7341 103.8348,-92.1791 99.9973,-86.3247\"/>\n",
       "<text text-anchor=\"middle\" x=\"145.3472\" y=\"-57.8\" font-family=\"Times,serif\" font-size=\"14.00\" fill=\"#000000\">d:д:2.00</text>\n",
       "</g>\n",
       "</g>\n",
       "</svg>\n"
      ],
      "text/plain": [
       "<graphviz.graphs.Digraph at 0x7f221e7c0d60>"
      ]
     },
     "metadata": {},
     "output_type": "display_data"
    },
    {
     "data": {
      "image/svg+xml": [
       "<?xml version=\"1.0\" encoding=\"UTF-8\" standalone=\"no\"?>\n",
       "<!DOCTYPE svg PUBLIC \"-//W3C//DTD SVG 1.1//EN\"\n",
       " \"http://www.w3.org/Graphics/SVG/1.1/DTD/svg11.dtd\">\n",
       "<!-- Generated by graphviz version 2.40.1 (20161225.0304)\n",
       " -->\n",
       "<!-- Title: %3 Pages: 1 -->\n",
       "<svg width=\"205pt\" height=\"131pt\"\n",
       " viewBox=\"0.00 0.00 205.38 131.00\" xmlns=\"http://www.w3.org/2000/svg\" xmlns:xlink=\"http://www.w3.org/1999/xlink\">\n",
       "<g id=\"graph0\" class=\"graph\" transform=\"scale(1 1) rotate(0) translate(4 127)\">\n",
       "<title>%3</title>\n",
       "<polygon fill=\"#ffffff\" stroke=\"transparent\" points=\"-4,4 -4,-127 201.3814,-127 201.3814,4 -4,4\"/>\n",
       "<!-- 0 -->\n",
       "<g id=\"node1\" class=\"node\">\n",
       "<title>0</title>\n",
       "<ellipse fill=\"none\" stroke=\"#000000\" cx=\"80.3814\" cy=\"-105\" rx=\"27\" ry=\"18\"/>\n",
       "<text text-anchor=\"middle\" x=\"80.3814\" y=\"-101.3\" font-family=\"Times,serif\" font-size=\"14.00\" fill=\"#000000\">0</text>\n",
       "</g>\n",
       "<!-- 1 -->\n",
       "<g id=\"node2\" class=\"node\">\n",
       "<title>1</title>\n",
       "<ellipse fill=\"none\" stroke=\"#000000\" cx=\"80.3814\" cy=\"-18\" rx=\"27\" ry=\"18\"/>\n",
       "<text text-anchor=\"middle\" x=\"80.3814\" y=\"-14.3\" font-family=\"Times,serif\" font-size=\"14.00\" fill=\"#000000\">1</text>\n",
       "</g>\n",
       "<!-- 0&#45;&gt;1 -->\n",
       "<g id=\"edge1\" class=\"edge\">\n",
       "<title>0&#45;&gt;1</title>\n",
       "<path fill=\"none\" stroke=\"#000000\" d=\"M54.1117,-100.26C36.4618,-95.5624 14.4731,-86.4298 3.3814,-69 -9.5189,-48.7282 19.0687,-34.7138 44.9928,-26.5773\"/>\n",
       "<polygon fill=\"#000000\" stroke=\"#000000\" points=\"46.0851,-29.9047 54.7061,-23.7459 44.1261,-23.1844 46.0851,-29.9047\"/>\n",
       "<text text-anchor=\"middle\" x=\"30.8814\" y=\"-57.8\" font-family=\"Times,serif\" font-size=\"14.00\" fill=\"#000000\">б:B:10.00</text>\n",
       "</g>\n",
       "<!-- 1&#45;&gt;0 -->\n",
       "<g id=\"edge3\" class=\"edge\">\n",
       "<title>1&#45;&gt;0</title>\n",
       "<path fill=\"none\" stroke=\"#000000\" d=\"M80.3814,-36.0034C80.3814,-47.7801 80.3814,-63.4102 80.3814,-76.8156\"/>\n",
       "<polygon fill=\"#000000\" stroke=\"#000000\" points=\"76.8815,-76.9735 80.3814,-86.9735 83.8815,-76.9736 76.8815,-76.9735\"/>\n",
       "<text text-anchor=\"middle\" x=\"108.3814\" y=\"-57.8\" font-family=\"Times,serif\" font-size=\"14.00\" fill=\"#000000\">д:D:30.00</text>\n",
       "</g>\n",
       "<!-- 1&#45;&gt;0 -->\n",
       "<g id=\"edge4\" class=\"edge\">\n",
       "<title>1&#45;&gt;0</title>\n",
       "<path fill=\"none\" stroke=\"#000000\" d=\"M104.2562,-26.9617C124.0269,-35.8886 147.3805,-50.8584 137.3814,-69 132.0296,-78.7099 122.834,-86.163 113.372,-91.7001\"/>\n",
       "<polygon fill=\"#000000\" stroke=\"#000000\" points=\"111.5701,-88.6927 104.3353,-96.4328 114.8178,-94.8938 111.5701,-88.6927\"/>\n",
       "<text text-anchor=\"middle\" x=\"168.3814\" y=\"-57.8\" font-family=\"Times,serif\" font-size=\"14.00\" fill=\"#000000\">ю:U:40.00</text>\n",
       "</g>\n",
       "<!-- 1&#45;&gt;1 -->\n",
       "<g id=\"edge2\" class=\"edge\">\n",
       "<title>1&#45;&gt;1</title>\n",
       "<path fill=\"none\" stroke=\"#000000\" d=\"M104.9138,-25.752C115.8892,-26.4902 125.3814,-23.9063 125.3814,-18 125.3814,-14.0317 121.0964,-11.5632 114.9557,-10.5944\"/>\n",
       "<polygon fill=\"#000000\" stroke=\"#000000\" points=\"115.0286,-7.0949 104.9138,-10.248 114.7872,-14.0908 115.0286,-7.0949\"/>\n",
       "<text text-anchor=\"middle\" x=\"153.3814\" y=\"-14.3\" font-family=\"Times,serif\" font-size=\"14.00\" fill=\"#000000\">д:D:20.00</text>\n",
       "</g>\n",
       "</g>\n",
       "</svg>\n"
      ],
      "text/plain": [
       "<graphviz.graphs.Digraph at 0x7f221e7c0160>"
      ]
     },
     "metadata": {},
     "output_type": "display_data"
    },
    {
     "name": "stdout",
     "output_type": "stream",
     "text": [
      "Test 1.c passed\n"
     ]
    }
   ],
   "source": [
    "def test_OnTheFlyCompose():\n",
    "    en_l = SymbolsMap(id2symbol=['<eps>', 'b', 'd', 'u'])\n",
    "    ru_l = SymbolsMap(id2symbol=['<eps>', 'ю', 'д', 'б'])\n",
    "    en_U = SymbolsMap(id2symbol=['<eps>', 'B', 'D', 'U'])\n",
    "    ru_U = SymbolsMap(id2symbol=['<eps>', 'Ю', 'Д', 'Б'])\n",
    "    \n",
    "    # create first transducer\n",
    "    en2ru = WFST(isymbols=en_l, osymbols=ru_l)\n",
    "    en2ru_final = en2ru.new_state()\n",
    "    en2ru.set_final(en2ru_final)\n",
    "    en2ru.add_arc(en2ru.get_start(), Arc(1, 3, 1.0, en2ru_final))\n",
    "    en2ru.add_arc(en2ru_final, Arc(2, 2, 2.0, en2ru.get_start()))\n",
    "    en2ru.add_arc(en2ru.get_start(), Arc(2, 0, 0.1, en2ru.get_start()))\n",
    "    en2ru.add_arc(en2ru.get_start(), Arc(3, 1, 3.0, en2ru_final))\n",
    "    # you can use this line to visualize\n",
    "    display.display(en2ru.to_dot())\n",
    "\n",
    "    # OnTheFlyCompose одного fst работает так же как и этот fst\n",
    "    comp = OnTheFlyCompose([en2ru])\n",
    "    for s in (0, 1):\n",
    "        for il in 'bdu':\n",
    "            hyps1 = en2ru.transduce(s, il)\n",
    "            hyps2 = comp.transduce((s,), il)\n",
    "            for h in hyps2:\n",
    "                # only one state\n",
    "                assert len(h[2]) == 1, f\"{hyps2=}\"\n",
    "            hyps2_flatten = tuple((l, w, ss[0]) for l,w,ss in hyps2)\n",
    "            assert hyps1 == hyps2_flatten, f\"{hyps1=} {hyps2_flatten=}\"\n",
    "        \n",
    "        scores = [float('inf'), 0]\n",
    "        your_score = comp.final_score((s,))\n",
    "        assert your_score == scores[s], f\"Your score = {your_score}, correct = {scores[s]}\"\n",
    "\n",
    "    # create second transducer\n",
    "    ru2en = WFST(isymbols=ru_l, osymbols=en_U)\n",
    "    ru2en_final = ru2en.new_state()\n",
    "    ru2en.set_final(ru2en_final)\n",
    "    ru2en.add_arc(ru2en.get_start(), Arc(3, 1, 10.0, ru2en_final))\n",
    "    ru2en.add_arc(ru2en_final, Arc(2, 2, 20.0, ru2en_final))\n",
    "    ru2en.add_arc(ru2en_final, Arc(2, 2, 30.0, ru2en.get_start()))\n",
    "    ru2en.add_arc(ru2en_final, Arc(1, 3, 40.0, ru2en.get_start()))\n",
    "    \n",
    "    # you can use this line to visualize\n",
    "    display.display(ru2en.to_dot())\n",
    "\n",
    "    # композиция двух работает как последовательное применение каждого \n",
    "    comp = OnTheFlyCompose([en2ru, ru2en])\n",
    "    hyps = comp.transduce((0, 0), 'b')\n",
    "    assert hyps == (('B', 11.0, (1, 1)), ) , f\"{hyps =}\"\n",
    "    hyps = comp.transduce((1, 1), 'd')\n",
    "    assert hyps == (('D', 22.0, (0, 1)), ('D', 32.0, (0, 0))) , f\"{hyps =}\"\n",
    "    hyps = comp.transduce((0, 1), 'd')\n",
    "    assert hyps == (('<eps>', 0.1, (0, 1)), ) , f\"{hyps =}\"\n",
    "    # Проверка правильности расчетов final_score\n",
    "    your_score = comp.final_score((0, 0))\n",
    "    assert your_score == float('inf'), f\"Your score = {your_score}, correct = {float('inf')}\"\n",
    "    your_score = comp.final_score((0, 1))\n",
    "    assert your_score == float('inf'), f\"Your score = {your_score}, correct = {float('inf')}\"\n",
    "    your_score = comp.final_score((1, 0))\n",
    "    assert your_score == float('inf'), f\"Your score = {your_score}, correct = {float('inf')}\"\n",
    "    your_score = comp.final_score((1, 1))\n",
    "    assert your_score == 0, f\"Your score = {your_score}, correct = {0}\"\n",
    "    print('Test 1.c passed')\n",
    "    \n",
    "    \n",
    "test_OnTheFlyCompose()"
   ]
  },
  {
   "cell_type": "markdown",
   "id": "615649a8-ea1b-4d59-be37-1a18fb509619",
   "metadata": {},
   "source": [
    "# 2. WFST декодинг в ASR системе\n",
    "Отлично, код WFST готов, теперь необходимо собрать граф распознавания и написать поиск наилучшей гипотезы \n",
    "\n",
    "\n"
   ]
  },
  {
   "cell_type": "code",
   "execution_count": 13,
   "id": "2cba40b2-2a44-47d2-897f-f26df9dfb51c",
   "metadata": {},
   "outputs": [],
   "source": [
    "# Сначала подготовим нужные нам таблицы символов\n",
    "AM_PHONES = {0: 'pau', 1: 'aa', 2: 'ae', 3: 'ah', 4: 'ao', 5: 'aw', 6: 'ax', 7: 'ax-h', 8: 'axr', 9: 'ay', 10: 'b', \n",
    "             11: 'bcl', 12: 'ch', 13: 'd', 14: 'dcl', 15: 'dh', 16: 'dx', 17: 'eh', 18: 'el', 19: 'em', 20: 'en', \n",
    "             21: 'eng', 22: 'er', 23: 'ey', 24: 'f', 25: 'g', 26: 'gcl', 27: 'hh', 28: 'hv', 29: 'ih', 30: 'ix', \n",
    "             31: 'iy', 32: 'jh', 33: 'k', 34: 'kcl', 35: 'l', 36: 'm', 37: 'n', 38: 'ng', 39: 'nx', 40: 'ow', \n",
    "             41: 'oy', 42: 'p', 43: 'pcl', 44: 'q', 45: 'r', 46: 's', 47: 'sh', 48: 't', 49: 'tcl', 50: 'th', \n",
    "             51: 'uh', 52: 'uw', 53: 'ux', 54: 'v', 55: 'w', 56: 'y', 57: 'z', 58: 'zh'}\n",
    "\n",
    "# таблица фонем для wfst \n",
    "def create_phones_txt(fname='exp/phones.txt'):\n",
    "    fname = Path(fname) \n",
    "    fname.parent.mkdir(exist_ok=True, parents=True)\n",
    "    with open(fname, 'w') as f:\n",
    "        f.write('<eps> 0\\n') # !! shift all ids by one !! \n",
    "        for i, p in sorted(AM_PHONES.items()):\n",
    "            f.write(f'{p} {i+1}\\n')\n",
    "create_phones_txt()\n"
   ]
  },
  {
   "cell_type": "code",
   "execution_count": 14,
   "id": "565bc3b5-d319-481d-bf69-01251746fcad",
   "metadata": {},
   "outputs": [],
   "source": [
    "# Загрузим подготовленный лексикон из датасета \n",
    "def load_lexicon_file(fname='timit/TIMITDIC.TXT', words_limit=-1):\n",
    "    \"\"\"generator running through the 'fname' phonetic dictionary \n",
    "    yield (word: str, phones: List[str])\"\"\"\n",
    "    num = 0\n",
    "    with open(fname) as f:\n",
    "        for line in map(str.strip, f.readlines()):\n",
    "            if line.startswith(';'):\n",
    "                continue\n",
    "            word, trans, _ = line.split('/')\n",
    "            # remove ~adj suffix \n",
    "            word = word.split('~')[0].strip() \n",
    "            # remove stress factor\n",
    "            trans = [t[:-1] if t[-1].isdigit() else t for t in trans.split()]\n",
    "            yield word, trans\n",
    "            num += 1\n",
    "            if words_limit == num:\n",
    "                break"
   ]
  },
  {
   "cell_type": "code",
   "execution_count": 15,
   "id": "bc001f37-c1b9-499b-8128-127892fda6b1",
   "metadata": {},
   "outputs": [],
   "source": [
    "# подготовим таблицу слов\n",
    "def create_words_txt(fname='exp/words.txt', dic_fname='../../asr_itmo_practice/timit/TIMITDIC.TXT'):\n",
    "    fname = Path(fname)\n",
    "    fname.parent.mkdir(exist_ok=True, parents=True)\n",
    "    words = ['<eps>'] + [w for w, _ in sorted(load_lexicon_file(dic_fname))] + ['<s>', '</s>']\n",
    "    with open(fname, 'w') as f:\n",
    "        f.write(''.join(f'{w} {i}\\n' for i, w in enumerate(words)))\n",
    "create_words_txt()"
   ]
  },
  {
   "cell_type": "markdown",
   "id": "876b2c09-14f1-4c5a-aa8c-c7c0efb6d9fe",
   "metadata": {},
   "source": [
    "# H transducer\n",
    "\n",
    "Создадим первый wfst. \n",
    "\n",
    "В гибридном пайплайне задача первых двух wfst (H и C) - это перевести предсказанные с помощью акустической модели классы в последовательность фонем. В нашем случае все значительно легче, так как АМ (из работы №3) уже учится предсказывать фонемы. H.wfst остается только преобразовать вероятности, которые оценивает AM, в правдоподобие, добавив к скорам фонем их априорную вероятность.\n",
    "\n",
    "\n",
    "Необходимый нам для декодирования граф H.wfst состоит из одного состояния и N петель, где N - это количество фонем. Каждая петля соответствует определенной фонеме и хранит логарифм ее априорной вероятности.\n",
    "\n",
    "![image](resources/lab4/H_example.svg)"
   ]
  },
  {
   "cell_type": "code",
   "execution_count": 16,
   "id": "572a9a8b-8973-4453-91d9-203a18dd7993",
   "metadata": {},
   "outputs": [
    {
     "data": {
      "image/svg+xml": [
       "<?xml version=\"1.0\" encoding=\"UTF-8\" standalone=\"no\"?>\n",
       "<!DOCTYPE svg PUBLIC \"-//W3C//DTD SVG 1.1//EN\"\n",
       " \"http://www.w3.org/Graphics/SVG/1.1/DTD/svg11.dtd\">\n",
       "<!-- Generated by graphviz version 2.40.1 (20161225.0304)\n",
       " -->\n",
       "<!-- Title: %3 Pages: 1 -->\n",
       "<svg width=\"4781pt\" height=\"189pt\"\n",
       " viewBox=\"0.00 0.00 4781.00 188.58\" xmlns=\"http://www.w3.org/2000/svg\" xmlns:xlink=\"http://www.w3.org/1999/xlink\">\n",
       "<g id=\"graph0\" class=\"graph\" transform=\"scale(1 1) rotate(0) translate(4 184.5791)\">\n",
       "<title>%3</title>\n",
       "<polygon fill=\"#ffffff\" stroke=\"transparent\" points=\"-4,4 -4,-184.5791 4777,-184.5791 4777,4 -4,4\"/>\n",
       "<!-- 0 -->\n",
       "<g id=\"node1\" class=\"node\">\n",
       "<title>0</title>\n",
       "<ellipse fill=\"none\" stroke=\"#000000\" cx=\"27\" cy=\"-90.3235\" rx=\"27\" ry=\"18\"/>\n",
       "<text text-anchor=\"middle\" x=\"27\" y=\"-86.6235\" font-family=\"Times,serif\" font-size=\"14.00\" fill=\"#000000\">0</text>\n",
       "</g>\n",
       "<!-- 0&#45;&gt;0 -->\n",
       "<g id=\"edge1\" class=\"edge\">\n",
       "<title>0&#45;&gt;0</title>\n",
       "<path fill=\"none\" stroke=\"#000000\" d=\"M54.2408,-91.8221C64.0239,-91.8543 72,-91.3548 72,-90.3235 72,-89.6951 69.0382,-89.2642 64.5105,-89.0306\"/>\n",
       "<polygon fill=\"#000000\" stroke=\"#000000\" points=\"64.3089,-85.526 54.2408,-88.825 64.1687,-92.5246 64.3089,-85.526\"/>\n",
       "<text text-anchor=\"middle\" x=\"110\" y=\"-86.6235\" font-family=\"Times,serif\" font-size=\"14.00\" fill=\"#000000\">pau:pau:&#45;2.07</text>\n",
       "</g>\n",
       "<!-- 0&#45;&gt;0 -->\n",
       "<g id=\"edge2\" class=\"edge\">\n",
       "<title>0&#45;&gt;0</title>\n",
       "<path fill=\"none\" stroke=\"#000000\" d=\"M53.9024,-92.538C90.8677,-94.0851 148,-93.347 148,-90.3235 148,-87.5717 100.6725,-86.713 64.298,-87.7474\"/>\n",
       "<polygon fill=\"#000000\" stroke=\"#000000\" points=\"63.7746,-84.2634 53.9024,-88.1091 64.018,-91.2592 63.7746,-84.2634\"/>\n",
       "<text text-anchor=\"middle\" x=\"186\" y=\"-86.6235\" font-family=\"Times,serif\" font-size=\"14.00\" fill=\"#000000\">pau:pau:&#45;4.39</text>\n",
       "</g>\n",
       "<!-- 0&#45;&gt;0 -->\n",
       "<g id=\"edge3\" class=\"edge\">\n",
       "<title>0&#45;&gt;0</title>\n",
       "<path fill=\"none\" stroke=\"#000000\" d=\"M53.9912,-92.9992C110.1489,-96.1256 224,-95.2337 224,-90.3235 224,-85.6915 122.6809,-84.6354 64.0578,-87.1553\"/>\n",
       "<polygon fill=\"#000000\" stroke=\"#000000\" points=\"63.8082,-83.6632 53.9912,-87.6479 64.1504,-90.6549 63.8082,-83.6632\"/>\n",
       "<text text-anchor=\"middle\" x=\"254.5\" y=\"-86.6235\" font-family=\"Times,serif\" font-size=\"14.00\" fill=\"#000000\">sh:sh:&#45;4.00</text>\n",
       "</g>\n",
       "<!-- 0&#45;&gt;0 -->\n",
       "<g id=\"edge4\" class=\"edge\">\n",
       "<title>0&#45;&gt;0</title>\n",
       "<path fill=\"none\" stroke=\"#000000\" d=\"M53.9758,-93.4228C123.3327,-98.1379 285,-97.1048 285,-90.3235 285,-83.8602 138.1338,-82.6187 64.3115,-86.5991\"/>\n",
       "<polygon fill=\"#000000\" stroke=\"#000000\" points=\"63.7462,-83.1268 53.9758,-87.2243 64.1689,-90.1141 63.7462,-83.1268\"/>\n",
       "<text text-anchor=\"middle\" x=\"314\" y=\"-86.6235\" font-family=\"Times,serif\" font-size=\"14.00\" fill=\"#000000\">ix:ix:&#45;3.46</text>\n",
       "</g>\n",
       "<!-- 0&#45;&gt;0 -->\n",
       "<g id=\"edge5\" class=\"edge\">\n",
       "<title>0&#45;&gt;0</title>\n",
       "<path fill=\"none\" stroke=\"#000000\" d=\"M53.6546,-93.7572C134.2227,-100.1497 343,-99.0052 343,-90.3235 343,-81.981 150.2148,-80.5983 63.6629,-86.1753\"/>\n",
       "<polygon fill=\"#000000\" stroke=\"#000000\" points=\"63.3799,-82.6865 53.6546,-86.8899 63.8785,-89.6687 63.3799,-82.6865\"/>\n",
       "<text text-anchor=\"middle\" x=\"375\" y=\"-86.6235\" font-family=\"Times,serif\" font-size=\"14.00\" fill=\"#000000\">hv:hv:&#45;5.19</text>\n",
       "</g>\n",
       "<!-- 0&#45;&gt;0 -->\n",
       "<g id=\"edge6\" class=\"edge\">\n",
       "<title>0&#45;&gt;0</title>\n",
       "<path fill=\"none\" stroke=\"#000000\" d=\"M53.4569,-94.021C145.3372,-102.1615 407,-100.929 407,-90.3235 407,-80.0806 162.9186,-78.5808 63.4561,-85.8243\"/>\n",
       "<polygon fill=\"#000000\" stroke=\"#000000\" points=\"63.1451,-82.3379 53.4569,-86.6261 63.7047,-89.3155 63.1451,-82.3379\"/>\n",
       "<text text-anchor=\"middle\" x=\"438\" y=\"-86.6235\" font-family=\"Times,serif\" font-size=\"14.00\" fill=\"#000000\">eh:eh:&#45;3.70</text>\n",
       "</g>\n",
       "<!-- 0&#45;&gt;0 -->\n",
       "<g id=\"edge7\" class=\"edge\">\n",
       "<title>0&#45;&gt;0</title>\n",
       "<path fill=\"none\" stroke=\"#000000\" d=\"M53.6252,-94.286C156.1272,-104.1678 469,-102.847 469,-90.3235 469,-78.1915 175.3762,-76.5728 63.8352,-85.4674\"/>\n",
       "<polygon fill=\"#000000\" stroke=\"#000000\" points=\"63.282,-82.0024 53.6252,-86.361 63.8924,-88.9757 63.282,-82.0024\"/>\n",
       "<text text-anchor=\"middle\" x=\"504\" y=\"-86.6235\" font-family=\"Times,serif\" font-size=\"14.00\" fill=\"#000000\">dcl:dcl:&#45;4.03</text>\n",
       "</g>\n",
       "<!-- 0&#45;&gt;0 -->\n",
       "<g id=\"edge8\" class=\"edge\">\n",
       "<title>0&#45;&gt;0</title>\n",
       "<path fill=\"none\" stroke=\"#000000\" d=\"M53.5535,-94.4777C166.9225,-106.177 539,-104.7923 539,-90.3235 539,-76.2645 187.6987,-74.559 63.7936,-85.2069\"/>\n",
       "<polygon fill=\"#000000\" stroke=\"#000000\" points=\"63.182,-81.7489 53.5535,-86.1694 63.8372,-88.7182 63.182,-81.7489\"/>\n",
       "<text text-anchor=\"middle\" x=\"568\" y=\"-86.6235\" font-family=\"Times,serif\" font-size=\"14.00\" fill=\"#000000\">jh:jh:&#45;5.30</text>\n",
       "</g>\n",
       "<!-- 0&#45;&gt;0 -->\n",
       "<g id=\"edge9\" class=\"edge\">\n",
       "<title>0&#45;&gt;0</title>\n",
       "<path fill=\"none\" stroke=\"#000000\" d=\"M53.255,-94.6525C175.2046,-108.1845 597,-106.7415 597,-90.3235 597,-74.3385 197.1545,-72.5491 63.5136,-84.9554\"/>\n",
       "<polygon fill=\"#000000\" stroke=\"#000000\" points=\"62.8514,-81.5045 53.255,-85.9946 63.5569,-88.4689 62.8514,-81.5045\"/>\n",
       "<text text-anchor=\"middle\" x=\"626\" y=\"-86.6235\" font-family=\"Times,serif\" font-size=\"14.00\" fill=\"#000000\">ih:ih:&#45;3.57</text>\n",
       "</g>\n",
       "<!-- 0&#45;&gt;0 -->\n",
       "<g id=\"edge10\" class=\"edge\">\n",
       "<title>0&#45;&gt;0</title>\n",
       "<path fill=\"none\" stroke=\"#000000\" d=\"M53.2932,-94.8417C183.9494,-110.189 655,-108.6829 655,-90.3235 655,-72.4124 206.6691,-70.5417 63.4596,-84.7115\"/>\n",
       "<polygon fill=\"#000000\" stroke=\"#000000\" points=\"62.8614,-81.2556 53.2932,-85.8054 63.6103,-88.2154 62.8614,-81.2556\"/>\n",
       "<text text-anchor=\"middle\" x=\"680\" y=\"-86.6235\" font-family=\"Times,serif\" font-size=\"14.00\" fill=\"#000000\">d:d:&#45;5.16</text>\n",
       "</g>\n",
       "<!-- 0&#45;&gt;0 -->\n",
       "<g id=\"edge11\" class=\"edge\">\n",
       "<title>0&#45;&gt;0</title>\n",
       "<path fill=\"none\" stroke=\"#000000\" d=\"M53.2668,-95.0225C191.452,-112.1926 705,-110.6263 705,-90.3235 705,-70.4966 215.2425,-68.5382 63.5901,-84.4482\"/>\n",
       "<polygon fill=\"#000000\" stroke=\"#000000\" points=\"62.8062,-81.0148 53.2668,-85.6246 63.5989,-87.9697 62.8062,-81.0148\"/>\n",
       "<text text-anchor=\"middle\" x=\"736\" y=\"-86.6235\" font-family=\"Times,serif\" font-size=\"14.00\" fill=\"#000000\">ah:ah:&#45;4.24</text>\n",
       "</g>\n",
       "<!-- 0&#45;&gt;0 -->\n",
       "<g id=\"edge12\" class=\"edge\">\n",
       "<title>0&#45;&gt;0</title>\n",
       "<path fill=\"none\" stroke=\"#000000\" d=\"M53.1492,-95.1507C199.8046,-114.1982 767,-112.5892 767,-90.3235 767,-68.5363 223.9145,-66.5275 63.1742,-84.2974\"/>\n",
       "<polygon fill=\"#000000\" stroke=\"#000000\" points=\"62.6627,-80.8335 53.1492,-85.4964 63.4941,-87.7839 62.6627,-80.8335\"/>\n",
       "<text text-anchor=\"middle\" x=\"802\" y=\"-86.6235\" font-family=\"Times,serif\" font-size=\"14.00\" fill=\"#000000\">kcl:kcl:&#45;3.70</text>\n",
       "</g>\n",
       "<!-- 0&#45;&gt;0 -->\n",
       "<g id=\"edge13\" class=\"edge\">\n",
       "<title>0&#45;&gt;0</title>\n",
       "<path fill=\"none\" stroke=\"#000000\" d=\"M53.3238,-95.2911C209.4691,-116.202 837,-114.5462 837,-90.3235 837,-66.5858 234.3433,-64.5204 63.2596,-84.1273\"/>\n",
       "<polygon fill=\"#000000\" stroke=\"#000000\" points=\"62.8186,-80.655 53.3238,-85.356 63.6778,-87.6021 62.8186,-80.655\"/>\n",
       "<text text-anchor=\"middle\" x=\"862\" y=\"-86.6235\" font-family=\"Times,serif\" font-size=\"14.00\" fill=\"#000000\">k:k:&#45;4.04</text>\n",
       "</g>\n",
       "<!-- 0&#45;&gt;0 -->\n",
       "<g id=\"edge14\" class=\"edge\">\n",
       "<title>0&#45;&gt;0</title>\n",
       "<path fill=\"none\" stroke=\"#000000\" d=\"M52.9964,-95.3886C215.6848,-118.2072 887,-116.5189 887,-90.3235 887,-64.6399 241.652,-62.5152 63.1022,-83.9494\"/>\n",
       "<polygon fill=\"#000000\" stroke=\"#000000\" points=\"62.4639,-80.5028 52.9964,-85.2584 63.3632,-87.4448 62.4639,-80.5028\"/>\n",
       "<text text-anchor=\"middle\" x=\"910.5\" y=\"-86.6235\" font-family=\"Times,serif\" font-size=\"14.00\" fill=\"#000000\">s:s:&#45;2.82</text>\n",
       "</g>\n",
       "<!-- 0&#45;&gt;0 -->\n",
       "<g id=\"edge15\" class=\"edge\">\n",
       "<title>0&#45;&gt;0</title>\n",
       "<path fill=\"none\" stroke=\"#000000\" d=\"M52.9702,-95.52C222.3635,-120.21 934,-118.4778 934,-90.3235 934,-62.6916 248.5269,-60.5105 62.9513,-83.78\"/>\n",
       "<polygon fill=\"#000000\" stroke=\"#000000\" points=\"62.4122,-80.321 52.9702,-85.1271 63.3485,-87.2581 62.4122,-80.321\"/>\n",
       "<text text-anchor=\"middle\" x=\"966\" y=\"-86.6235\" font-family=\"Times,serif\" font-size=\"14.00\" fill=\"#000000\">ux:ux:&#45;4.23</text>\n",
       "</g>\n",
       "<!-- 0&#45;&gt;0 -->\n",
       "<g id=\"edge16\" class=\"edge\">\n",
       "<title>0&#45;&gt;0</title>\n",
       "<path fill=\"none\" stroke=\"#000000\" d=\"M52.9678,-95.6189C230.5112,-122.2137 998,-120.4485 998,-90.3235 998,-60.7428 257.9922,-58.5064 63.1602,-83.6145\"/>\n",
       "<polygon fill=\"#000000\" stroke=\"#000000\" points=\"62.3921,-80.1874 52.9678,-85.0281 63.3538,-87.121 62.3921,-80.1874\"/>\n",
       "<text text-anchor=\"middle\" x=\"1023\" y=\"-86.6235\" font-family=\"Times,serif\" font-size=\"14.00\" fill=\"#000000\">q:q:&#45;4.11</text>\n",
       "</g>\n",
       "<!-- 0&#45;&gt;0 -->\n",
       "<g id=\"edge17\" class=\"edge\">\n",
       "<title>0&#45;&gt;0</title>\n",
       "<path fill=\"none\" stroke=\"#000000\" d=\"M52.9541,-95.7295C237.328,-124.2163 1048,-122.4144 1048,-90.3235 1048,-58.7811 264.7997,-56.5012 62.9484,-83.4836\"/>\n",
       "<polygon fill=\"#000000\" stroke=\"#000000\" points=\"62.3556,-80.0328 52.9541,-84.9176 63.3498,-86.9618 62.3556,-80.0328\"/>\n",
       "<text text-anchor=\"middle\" x=\"1079\" y=\"-86.6235\" font-family=\"Times,serif\" font-size=\"14.00\" fill=\"#000000\">en:en:&#45;5.51</text>\n",
       "</g>\n",
       "<!-- 0&#45;&gt;0 -->\n",
       "<g id=\"edge18\" class=\"edge\">\n",
       "<title>0&#45;&gt;0</title>\n",
       "<path fill=\"none\" stroke=\"#000000\" d=\"M52.9191,-95.8128C244.9828,-126.2197 1110,-124.3899 1110,-90.3235 1110,-56.8227 273.4656,-54.497 63.0341,-83.3466\"/>\n",
       "<polygon fill=\"#000000\" stroke=\"#000000\" points=\"62.3033,-79.9163 52.9191,-84.8343 63.322,-86.8418 62.3033,-79.9163\"/>\n",
       "<text text-anchor=\"middle\" x=\"1145\" y=\"-86.6235\" font-family=\"Times,serif\" font-size=\"14.00\" fill=\"#000000\">gcl:gcl:&#45;4.85</text>\n",
       "</g>\n",
       "<!-- 0&#45;&gt;0 -->\n",
       "<g id=\"edge19\" class=\"edge\">\n",
       "<title>0&#45;&gt;0</title>\n",
       "<path fill=\"none\" stroke=\"#000000\" d=\"M52.8097,-95.8686C252.9078,-128.2237 1180,-126.3753 1180,-90.3235 1180,-54.8351 281.6531,-52.4895 62.7155,-83.2869\"/>\n",
       "<polygon fill=\"#000000\" stroke=\"#000000\" points=\"62.1771,-79.8284 52.8097,-84.7785 63.2194,-86.7504 62.1771,-79.8284\"/>\n",
       "<text text-anchor=\"middle\" x=\"1205\" y=\"-86.6235\" font-family=\"Times,serif\" font-size=\"14.00\" fill=\"#000000\">g:g:&#45;5.46</text>\n",
       "</g>\n",
       "<!-- 0&#45;&gt;0 -->\n",
       "<g id=\"edge20\" class=\"edge\">\n",
       "<title>0&#45;&gt;0</title>\n",
       "<path fill=\"none\" stroke=\"#000000\" d=\"M52.7383,-95.9497C259.3196,-130.2263 1230,-128.3509 1230,-90.3235 1230,-52.8718 288.483,-50.4859 62.6384,-83.1658\"/>\n",
       "<polygon fill=\"#000000\" stroke=\"#000000\" points=\"62.0856,-79.7096 52.7383,-84.6974 63.1559,-86.6273 62.0856,-79.7096\"/>\n",
       "<text text-anchor=\"middle\" x=\"1253\" y=\"-86.6235\" font-family=\"Times,serif\" font-size=\"14.00\" fill=\"#000000\">r:r:&#45;3.58</text>\n",
       "</g>\n",
       "<!-- 0&#45;&gt;0 -->\n",
       "<g id=\"edge21\" class=\"edge\">\n",
       "<title>0&#45;&gt;0</title>\n",
       "<path fill=\"none\" stroke=\"#000000\" d=\"M52.8756,-96.0643C266.0625,-132.2274 1276,-130.3138 1276,-90.3235 1276,-50.9386 296.4054,-48.4864 63.0979,-82.9668\"/>\n",
       "<polygon fill=\"#000000\" stroke=\"#000000\" points=\"62.2064,-79.5641 52.8756,-84.5828 63.2995,-86.4783 62.2064,-79.5641\"/>\n",
       "<text text-anchor=\"middle\" x=\"1304\" y=\"-86.6235\" font-family=\"Times,serif\" font-size=\"14.00\" fill=\"#000000\">w:w:&#45;4.22</text>\n",
       "</g>\n",
       "<!-- 0&#45;&gt;0 -->\n",
       "<g id=\"edge22\" class=\"edge\">\n",
       "<title>0&#45;&gt;0</title>\n",
       "<path fill=\"none\" stroke=\"#000000\" d=\"M52.6689,-96.1041C272.3994,-134.2308 1332,-132.304 1332,-90.3235 1332,-48.958 303.215,-46.4813 62.8597,-82.8933\"/>\n",
       "<polygon fill=\"#000000\" stroke=\"#000000\" points=\"61.9811,-79.4899 52.6689,-84.543 63.0998,-86.3999 61.9811,-79.4899\"/>\n",
       "<text text-anchor=\"middle\" x=\"1363\" y=\"-86.6235\" font-family=\"Times,serif\" font-size=\"14.00\" fill=\"#000000\">ao:ao:&#45;3.66</text>\n",
       "</g>\n",
       "<!-- 0&#45;&gt;0 -->\n",
       "<g id=\"edge23\" class=\"edge\">\n",
       "<title>0&#45;&gt;0</title>\n",
       "<path fill=\"none\" stroke=\"#000000\" d=\"M52.7495,-96.1829C280.0093,-136.2327 1394,-134.2796 1394,-90.3235 1394,-46.9899 311.3345,-44.4781 62.9313,-82.7881\"/>\n",
       "<polygon fill=\"#000000\" stroke=\"#000000\" points=\"62.0482,-79.3863 52.7495,-84.4642 63.1852,-86.2933 62.0482,-79.3863\"/>\n",
       "<text text-anchor=\"middle\" x=\"1426\" y=\"-86.6235\" font-family=\"Times,serif\" font-size=\"14.00\" fill=\"#000000\">dx:dx:&#45;5.20</text>\n",
       "</g>\n",
       "<!-- 0&#45;&gt;0 -->\n",
       "<g id=\"edge24\" class=\"edge\">\n",
       "<title>0&#45;&gt;0</title>\n",
       "<path fill=\"none\" stroke=\"#000000\" d=\"M52.7633,-96.2452C287.4685,-138.2349 1458,-136.261 1458,-90.3235 1458,-45.0141 319.2565,-42.4744 62.9093,-82.7043\"/>\n",
       "<polygon fill=\"#000000\" stroke=\"#000000\" points=\"62.0486,-79.2996 52.7633,-84.4019 63.2038,-86.2036 62.0486,-79.2996\"/>\n",
       "<text text-anchor=\"middle\" x=\"1493.5\" y=\"-86.6235\" font-family=\"Times,serif\" font-size=\"14.00\" fill=\"#000000\">axr:axr:&#45;3.93</text>\n",
       "</g>\n",
       "<!-- 0&#45;&gt;0 -->\n",
       "<g id=\"edge25\" class=\"edge\">\n",
       "<title>0&#45;&gt;0</title>\n",
       "<path fill=\"none\" stroke=\"#000000\" d=\"M52.7353,-96.2907C295.1661,-140.2374 1529,-138.2483 1529,-90.3235 1529,-43.0306 327.4844,-40.4701 62.8354,-82.6422\"/>\n",
       "<polygon fill=\"#000000\" stroke=\"#000000\" points=\"62.0086,-79.2324 52.7353,-84.3563 63.18,-86.1337 62.0086,-79.2324\"/>\n",
       "<text text-anchor=\"middle\" x=\"1551\" y=\"-86.6235\" font-family=\"Times,serif\" font-size=\"14.00\" fill=\"#000000\">l:l:&#45;3.70</text>\n",
       "</g>\n",
       "<!-- 0&#45;&gt;0 -->\n",
       "<g id=\"edge26\" class=\"edge\">\n",
       "<title>0&#45;&gt;0</title>\n",
       "<path fill=\"none\" stroke=\"#000000\" d=\"M52.5008,-96.3195C300.374,-142.2402 1573,-140.2415 1573,-90.3235 1573,-41.0393 332.4816,-38.4654 62.4321,-82.6018\"/>\n",
       "<polygon fill=\"#000000\" stroke=\"#000000\" points=\"61.754,-79.1671 52.5008,-84.3275 62.9524,-86.0637 61.754,-79.1671\"/>\n",
       "<text text-anchor=\"middle\" x=\"1598\" y=\"-86.6235\" font-family=\"Times,serif\" font-size=\"14.00\" fill=\"#000000\">y:y:&#45;4.83</text>\n",
       "</g>\n",
       "<!-- 0&#45;&gt;0 -->\n",
       "<g id=\"edge27\" class=\"edge\">\n",
       "<title>0&#45;&gt;0</title>\n",
       "<path fill=\"none\" stroke=\"#000000\" d=\"M52.6197,-96.4045C307.1537,-144.2411 1623,-142.2142 1623,-90.3235 1623,-39.0917 340.3518,-36.4654 62.8222,-82.4448\"/>\n",
       "<polygon fill=\"#000000\" stroke=\"#000000\" points=\"61.8606,-79.0602 52.6197,-84.2426 63.0754,-85.954 61.8606,-79.0602\"/>\n",
       "<text text-anchor=\"middle\" x=\"1655\" y=\"-86.6235\" font-family=\"Times,serif\" font-size=\"14.00\" fill=\"#000000\">uh:uh:&#45;5.85</text>\n",
       "</g>\n",
       "<!-- 0&#45;&gt;0 -->\n",
       "<g id=\"edge28\" class=\"edge\">\n",
       "<title>0&#45;&gt;0</title>\n",
       "<path fill=\"none\" stroke=\"#000000\" d=\"M52.7528,-96.4783C314.8117,-146.2423 1687,-144.1907 1687,-90.3235 1687,-37.1139 348.108,-34.4626 62.8414,-82.3695\"/>\n",
       "<polygon fill=\"#000000\" stroke=\"#000000\" points=\"61.9829,-78.9673 52.7528,-84.1688 63.212,-85.8586 61.9829,-78.9673\"/>\n",
       "<text text-anchor=\"middle\" x=\"1712\" y=\"-86.6235\" font-family=\"Times,serif\" font-size=\"14.00\" fill=\"#000000\">n:n:&#45;3.61</text>\n",
       "</g>\n",
       "<!-- 0&#45;&gt;0 -->\n",
       "<g id=\"edge29\" class=\"edge\">\n",
       "<title>0&#45;&gt;0</title>\n",
       "<path fill=\"none\" stroke=\"#000000\" d=\"M52.7788,-96.541C321.2292,-148.2437 1737,-146.1712 1737,-90.3235 1737,-35.1303 354.2169,-32.4594 62.6851,-82.3106\"/>\n",
       "<polygon fill=\"#000000\" stroke=\"#000000\" points=\"61.9943,-78.8787 52.7788,-84.1061 63.2427,-85.7665 61.9943,-78.8787\"/>\n",
       "<text text-anchor=\"middle\" x=\"1767.5\" y=\"-86.6235\" font-family=\"Times,serif\" font-size=\"14.00\" fill=\"#000000\">ae:ae:&#45;3.17</text>\n",
       "</g>\n",
       "<!-- 0&#45;&gt;0 -->\n",
       "<g id=\"edge30\" class=\"edge\">\n",
       "<title>0&#45;&gt;0</title>\n",
       "<path fill=\"none\" stroke=\"#000000\" d=\"M52.3853,-96.5109C326.7693,-150.2473 1798,-148.1849 1798,-90.3235 1798,-33.1403 361.0492,-30.4558 62.5204,-82.27\"/>\n",
       "<polygon fill=\"#000000\" stroke=\"#000000\" points=\"61.5861,-78.8831 52.3853,-84.1362 62.8538,-85.7674 61.5861,-78.8831\"/>\n",
       "<text text-anchor=\"middle\" x=\"1827.5\" y=\"-86.6235\" font-family=\"Times,serif\" font-size=\"14.00\" fill=\"#000000\">m:m:&#45;4.08</text>\n",
       "</g>\n",
       "<!-- 0&#45;&gt;0 -->\n",
       "<g id=\"edge31\" class=\"edge\">\n",
       "<title>0&#45;&gt;0</title>\n",
       "<path fill=\"none\" stroke=\"#000000\" d=\"M52.3447,-96.5482C333.3992,-152.249 1857,-150.1741 1857,-90.3235 1857,-31.1451 367.4285,-28.4519 62.2801,-82.2441\"/>\n",
       "<polygon fill=\"#000000\" stroke=\"#000000\" points=\"61.5326,-78.8231 52.3447,-84.0988 62.8172,-85.7042 61.5326,-78.8231\"/>\n",
       "<text text-anchor=\"middle\" x=\"1889\" y=\"-86.6235\" font-family=\"Times,serif\" font-size=\"14.00\" fill=\"#000000\">oy:oy:&#45;4.86</text>\n",
       "</g>\n",
       "<!-- 0&#45;&gt;0 -->\n",
       "<g id=\"edge32\" class=\"edge\">\n",
       "<title>0&#45;&gt;0</title>\n",
       "<path fill=\"none\" stroke=\"#000000\" d=\"M52.7123,-96.6617C341.7546,-154.2488 1921,-152.136 1921,-90.3235 1921,-29.2052 377.0267,-26.4533 62.9346,-82.0677\"/>\n",
       "<polygon fill=\"#000000\" stroke=\"#000000\" points=\"61.8955,-78.7015 52.7123,-83.9853 63.1862,-85.5815 61.8955,-78.7015\"/>\n",
       "<text text-anchor=\"middle\" x=\"1952\" y=\"-86.6235\" font-family=\"Times,serif\" font-size=\"14.00\" fill=\"#000000\">ax:ax:&#45;4.40</text>\n",
       "</g>\n",
       "<!-- 0&#45;&gt;0 -->\n",
       "<g id=\"edge33\" class=\"edge\">\n",
       "<title>0&#45;&gt;0</title>\n",
       "<path fill=\"none\" stroke=\"#000000\" d=\"M52.5986,-96.6795C348.2164,-156.2508 1983,-154.1321 1983,-90.3235 1983,-27.2004 383.15,-24.4489 62.5853,-82.0692\"/>\n",
       "<polygon fill=\"#000000\" stroke=\"#000000\" points=\"61.769,-78.6616 52.5986,-83.9676 63.0763,-85.5384 61.769,-78.6616\"/>\n",
       "<text text-anchor=\"middle\" x=\"2015\" y=\"-86.6235\" font-family=\"Times,serif\" font-size=\"14.00\" fill=\"#000000\">dh:dh:&#45;4.89</text>\n",
       "</g>\n",
       "<!-- 0&#45;&gt;0 -->\n",
       "<g id=\"edge34\" class=\"edge\">\n",
       "<title>0&#45;&gt;0</title>\n",
       "<path fill=\"none\" stroke=\"#000000\" d=\"M52.4453,-96.6859C354.5901,-158.2529 2047,-156.1321 2047,-90.3235 2047,-25.2219 390.7552,-22.4471 62.6599,-81.9991\"/>\n",
       "<polygon fill=\"#000000\" stroke=\"#000000\" points=\"61.6055,-78.6376 52.4453,-83.9612 62.926,-85.5119 61.6055,-78.6376\"/>\n",
       "<text text-anchor=\"middle\" x=\"2079\" y=\"-86.6235\" font-family=\"Times,serif\" font-size=\"14.00\" fill=\"#000000\">tcl:tcl:&#45;3.66</text>\n",
       "</g>\n",
       "<!-- 0&#45;&gt;0 -->\n",
       "<g id=\"edge35\" class=\"edge\">\n",
       "<title>0&#45;&gt;0</title>\n",
       "<path fill=\"none\" stroke=\"#000000\" d=\"M52.7139,-96.777C362.5051,-160.253 2111,-158.1019 2111,-90.3235 2111,-23.2402 398.1791,-20.4451 62.694,-81.9381\"/>\n",
       "<polygon fill=\"#000000\" stroke=\"#000000\" points=\"61.8665,-78.5332 52.7139,-83.87 63.1969,-85.4057 61.8665,-78.5332\"/>\n",
       "<text text-anchor=\"middle\" x=\"2140\" y=\"-86.6235\" font-family=\"Times,serif\" font-size=\"14.00\" fill=\"#000000\">iy:iy:&#45;3.11</text>\n",
       "</g>\n",
       "<!-- 0&#45;&gt;0 -->\n",
       "<g id=\"edge36\" class=\"edge\">\n",
       "<title>0&#45;&gt;0</title>\n",
       "<path fill=\"none\" stroke=\"#000000\" d=\"M52.4624,-96.7637C368.1264,-162.2554 2169,-160.1087 2169,-90.3235 2169,-21.2369 403.9986,-18.4414 62.3847,-81.9371\"/>\n",
       "<polygon fill=\"#000000\" stroke=\"#000000\" points=\"61.6017,-78.5239 52.4624,-83.8834 62.9492,-85.393 61.6017,-78.5239\"/>\n",
       "<text text-anchor=\"middle\" x=\"2194\" y=\"-86.6235\" font-family=\"Times,serif\" font-size=\"14.00\" fill=\"#000000\">v:v:&#45;4.77</text>\n",
       "</g>\n",
       "<!-- 0&#45;&gt;0 -->\n",
       "<g id=\"edge37\" class=\"edge\">\n",
       "<title>0&#45;&gt;0</title>\n",
       "<path fill=\"none\" stroke=\"#000000\" d=\"M52.6336,-96.8408C374.9352,-164.2557 2219,-162.0833 2219,-90.3235 2219,-19.2646 410.7762,-16.4404 62.5083,-81.8512\"/>\n",
       "<polygon fill=\"#000000\" stroke=\"#000000\" points=\"61.7634,-78.4306 52.6336,-83.8063 63.123,-85.2973 61.7634,-78.4306\"/>\n",
       "<text text-anchor=\"middle\" x=\"2242\" y=\"-86.6235\" font-family=\"Times,serif\" font-size=\"14.00\" fill=\"#000000\">f:f:&#45;4.13</text>\n",
       "</g>\n",
       "<!-- 0&#45;&gt;0 -->\n",
       "<g id=\"edge38\" class=\"edge\">\n",
       "<title>0&#45;&gt;0</title>\n",
       "<path fill=\"none\" stroke=\"#000000\" d=\"M52.2776,-96.8075C379.5286,-166.2583 2265,-164.097 2265,-90.3235 2265,-17.2705 416.1744,-14.4378 62.3076,-81.8253\"/>\n",
       "<polygon fill=\"#000000\" stroke=\"#000000\" points=\"61.3927,-78.4391 52.2776,-83.8395 62.771,-85.3021 61.3927,-78.4391\"/>\n",
       "<text text-anchor=\"middle\" x=\"2287\" y=\"-86.6235\" font-family=\"Times,serif\" font-size=\"14.00\" fill=\"#000000\">t:t:&#45;4.21</text>\n",
       "</g>\n",
       "<!-- 0&#45;&gt;0 -->\n",
       "<g id=\"edge39\" class=\"edge\">\n",
       "<title>0&#45;&gt;0</title>\n",
       "<path fill=\"none\" stroke=\"#000000\" d=\"M52.3815,-96.8705C385.7892,-168.2588 2309,-166.0765 2309,-90.3235 2309,-15.2919 422.2385,-12.4365 62.3344,-81.7574\"/>\n",
       "<polygon fill=\"#000000\" stroke=\"#000000\" points=\"61.4859,-78.3581 52.3815,-83.7765 62.8777,-85.2184 61.4859,-78.3581\"/>\n",
       "<text text-anchor=\"middle\" x=\"2344\" y=\"-86.6235\" font-family=\"Times,serif\" font-size=\"14.00\" fill=\"#000000\">pcl:pcl:&#45;4.34</text>\n",
       "</g>\n",
       "<!-- 0&#45;&gt;0 -->\n",
       "<g id=\"edge40\" class=\"edge\">\n",
       "<title>0&#45;&gt;0</title>\n",
       "<path fill=\"none\" stroke=\"#000000\" d=\"M52.2697,-96.8726C392.4306,-170.2605 2379,-168.0774 2379,-90.3235 2379,-13.291 429.1198,-10.4336 62.1593,-81.7514\"/>\n",
       "<polygon fill=\"#000000\" stroke=\"#000000\" points=\"61.3653,-78.3413 52.2697,-83.7744 62.7683,-85.1993 61.3653,-78.3413\"/>\n",
       "<text text-anchor=\"middle\" x=\"2414\" y=\"-86.6235\" font-family=\"Times,serif\" font-size=\"14.00\" fill=\"#000000\">ow:ow:&#45;3.96</text>\n",
       "</g>\n",
       "<!-- 0&#45;&gt;0 -->\n",
       "<g id=\"edge41\" class=\"edge\">\n",
       "<title>0&#45;&gt;0</title>\n",
       "<path fill=\"none\" stroke=\"#000000\" d=\"M52.3847,-96.9229C399.9166,-172.2611 2449,-170.0613 2449,-90.3235 2449,-11.306 436.769,-8.432 62.2165,-81.7015\"/>\n",
       "<polygon fill=\"#000000\" stroke=\"#000000\" points=\"61.4743,-78.2808 52.3847,-83.7241 62.8849,-85.1372 61.4743,-78.2808\"/>\n",
       "<text text-anchor=\"middle\" x=\"2481\" y=\"-86.6235\" font-family=\"Times,serif\" font-size=\"14.00\" fill=\"#000000\">hh:hh:&#45;5.43</text>\n",
       "</g>\n",
       "<!-- 0&#45;&gt;0 -->\n",
       "<g id=\"edge42\" class=\"edge\">\n",
       "<title>0&#45;&gt;0</title>\n",
       "<path fill=\"none\" stroke=\"#000000\" d=\"M52.1961,-96.9094C405.9021,-174.263 2513,-172.0677 2513,-90.3235 2513,-9.3178 443.7979,-6.4303 62.2078,-81.6609\"/>\n",
       "<polygon fill=\"#000000\" stroke=\"#000000\" points=\"61.2767,-78.2795 52.1961,-83.7377 62.6986,-85.1336 61.2767,-78.2795\"/>\n",
       "<text text-anchor=\"middle\" x=\"2544\" y=\"-86.6235\" font-family=\"Times,serif\" font-size=\"14.00\" fill=\"#000000\">ch:ch:&#45;5.30</text>\n",
       "</g>\n",
       "<!-- 0&#45;&gt;0 -->\n",
       "<g id=\"edge43\" class=\"edge\">\n",
       "<title>0&#45;&gt;0</title>\n",
       "<path fill=\"none\" stroke=\"#000000\" d=\"M52.242,-96.9469C412.7013,-176.2637 2575,-174.056 2575,-90.3235 2575,-7.327 450.5434,-4.4284 62.1611,-81.6277\"/>\n",
       "<polygon fill=\"#000000\" stroke=\"#000000\" points=\"61.3147,-78.2289 52.242,-83.7002 62.7464,-85.0809 61.3147,-78.2289\"/>\n",
       "<text text-anchor=\"middle\" x=\"2610\" y=\"-86.6235\" font-family=\"Times,serif\" font-size=\"14.00\" fill=\"#000000\">bcl:bcl:&#45;4.77</text>\n",
       "</g>\n",
       "<!-- 0&#45;&gt;0 -->\n",
       "<g id=\"edge44\" class=\"edge\">\n",
       "<title>0&#45;&gt;0</title>\n",
       "<path fill=\"none\" stroke=\"#000000\" d=\"M52.2812,-96.9788C419.8016,-178.2646 2645,-176.0462 2645,-90.3235 2645,-5.3334 457.6674,-2.4265 62.1069,-81.6029\"/>\n",
       "<polygon fill=\"#000000\" stroke=\"#000000\" points=\"61.3473,-78.186 52.2812,-83.6683 62.7874,-85.0362 61.3473,-78.186\"/>\n",
       "<text text-anchor=\"middle\" x=\"2670\" y=\"-86.6235\" font-family=\"Times,serif\" font-size=\"14.00\" fill=\"#000000\">b:b:&#45;5.92</text>\n",
       "</g>\n",
       "<!-- 0&#45;&gt;0 -->\n",
       "<g id=\"edge45\" class=\"edge\">\n",
       "<title>0&#45;&gt;0</title>\n",
       "<path fill=\"none\" stroke=\"#000000\" d=\"M52.2592,-97.0049C425.7763,-180.2655 2695,-178.0384 2695,-90.3235 2695,-3.3582 464.3912,-.4259 62.2468,-81.5265\"/>\n",
       "<polygon fill=\"#000000\" stroke=\"#000000\" points=\"61.3168,-78.1458 52.2592,-83.6421 62.7674,-84.9938 61.3168,-78.1458\"/>\n",
       "<text text-anchor=\"middle\" x=\"2725.5\" y=\"-86.6235\" font-family=\"Times,serif\" font-size=\"14.00\" fill=\"#000000\">aa:aa:&#45;3.63</text>\n",
       "</g>\n",
       "<!-- 0&#45;&gt;0 -->\n",
       "<g id=\"edge46\" class=\"edge\">\n",
       "<title>0&#45;&gt;0</title>\n",
       "<path fill=\"none\" stroke=\"#000000\" d=\"M52.237,-97.0254C432.2071,-182.2665 2756,-180.0325 2756,-90.3235 2756,-1.3592 470.6255,1.5763 62.0985,-81.517\"/>\n",
       "<polygon fill=\"#000000\" stroke=\"#000000\" points=\"61.2862,-78.1115 52.237,-83.6216 62.7473,-84.9573 61.2862,-78.1115\"/>\n",
       "<text text-anchor=\"middle\" x=\"2791.5\" y=\"-86.6235\" font-family=\"Times,serif\" font-size=\"14.00\" fill=\"#000000\">em:em:&#45;7.25</text>\n",
       "</g>\n",
       "<!-- 0&#45;&gt;0 -->\n",
       "<g id=\"edge47\" class=\"edge\">\n",
       "<title>0&#45;&gt;0</title>\n",
       "<path fill=\"none\" stroke=\"#000000\" d=\"M52.2108,-97.0402C439.0143,-184.2675 2827,-182.0286 2827,-90.3235 2827,.6203 478.494,3.5771 62.2542,-81.4532\"/>\n",
       "<polygon fill=\"#000000\" stroke=\"#000000\" points=\"61.2546,-78.0879 52.2108,-83.6069 62.7224,-84.9323 61.2546,-78.0879\"/>\n",
       "<text text-anchor=\"middle\" x=\"2859\" y=\"-86.6235\" font-family=\"Times,serif\" font-size=\"14.00\" fill=\"#000000\">ng:ng:&#45;5.15</text>\n",
       "</g>\n",
       "<!-- 0&#45;&gt;0 -->\n",
       "<g id=\"edge48\" class=\"edge\">\n",
       "<title>0&#45;&gt;0</title>\n",
       "<path fill=\"none\" stroke=\"#000000\" d=\"M52.15,-97.0493C445.3655,-186.2686 2891,-184.0267 2891,-90.3235 2891,2.6247 484.614,5.5794 62.0513,-81.4592\"/>\n",
       "<polygon fill=\"#000000\" stroke=\"#000000\" points=\"61.1856,-78.0653 52.15,-83.5978 62.6635,-84.9076 61.1856,-78.0653\"/>\n",
       "<text text-anchor=\"middle\" x=\"2922\" y=\"-86.6235\" font-family=\"Times,serif\" font-size=\"14.00\" fill=\"#000000\">ay:ay:&#45;3.72</text>\n",
       "</g>\n",
       "<!-- 0&#45;&gt;0 -->\n",
       "<g id=\"edge49\" class=\"edge\">\n",
       "<title>0&#45;&gt;0</title>\n",
       "<path fill=\"none\" stroke=\"#000000\" d=\"M52.0643,-97.0527C451.5123,-188.2697 2953,-186.0267 2953,-90.3235 2953,4.6085 491.6571,7.5804 62.1258,-81.4079\"/>\n",
       "<polygon fill=\"#000000\" stroke=\"#000000\" points=\"61.0929,-78.0506 52.0643,-83.5944 62.5795,-84.8909 61.0929,-78.0506\"/>\n",
       "<text text-anchor=\"middle\" x=\"2982\" y=\"-86.6235\" font-family=\"Times,serif\" font-size=\"14.00\" fill=\"#000000\">th:th:&#45;5.33</text>\n",
       "</g>\n",
       "<!-- 0&#45;&gt;0 -->\n",
       "<g id=\"edge50\" class=\"edge\">\n",
       "<title>0&#45;&gt;0</title>\n",
       "<path fill=\"none\" stroke=\"#000000\" d=\"M52.2556,-97.1202C458.6455,-190.2697 3011,-188.0042 3011,-90.3235 3011,6.594 498.3703,9.5814 62.1711,-81.3612\"/>\n",
       "<polygon fill=\"#000000\" stroke=\"#000000\" points=\"61.2784,-77.9736 52.2556,-83.5269 62.7722,-84.8123 61.2784,-77.9736\"/>\n",
       "<text text-anchor=\"middle\" x=\"3053.5\" y=\"-86.6235\" font-family=\"Times,serif\" font-size=\"14.00\" fill=\"#000000\">ax&#45;h:ax&#45;h:&#45;7.04</text>\n",
       "</g>\n",
       "<!-- 0&#45;&gt;0 -->\n",
       "<g id=\"edge51\" class=\"edge\">\n",
       "<title>0&#45;&gt;0</title>\n",
       "<path fill=\"none\" stroke=\"#000000\" d=\"M52.1676,-97.1135C465.6398,-192.271 3096,-190.0076 3096,-90.3235 3096,8.5818 506.5787,11.5826 62.2619,-81.3211\"/>\n",
       "<polygon fill=\"#000000\" stroke=\"#000000\" points=\"61.1864,-77.9737 52.1676,-83.5335 62.6851,-84.8114 61.1864,-77.9737\"/>\n",
       "<text text-anchor=\"middle\" x=\"3127\" y=\"-86.6235\" font-family=\"Times,serif\" font-size=\"14.00\" fill=\"#000000\">ey:ey:&#45;3.89</text>\n",
       "</g>\n",
       "<!-- 0&#45;&gt;0 -->\n",
       "<g id=\"edge52\" class=\"edge\">\n",
       "<title>0&#45;&gt;0</title>\n",
       "<path fill=\"none\" stroke=\"#000000\" d=\"M52.0223,-97.1012C471.4714,-194.2722 3158,-192.013 3158,-90.3235 3158,10.5963 511.9828,13.5852 61.9333,-81.3567\"/>\n",
       "<polygon fill=\"#000000\" stroke=\"#000000\" points=\"61.032,-77.9714 52.0223,-83.5459 62.5418,-84.8066 61.032,-77.9714\"/>\n",
       "<text text-anchor=\"middle\" x=\"3183\" y=\"-86.6235\" font-family=\"Times,serif\" font-size=\"14.00\" fill=\"#000000\">p:p:&#45;4.82</text>\n",
       "</g>\n",
       "<!-- 0&#45;&gt;0 -->\n",
       "<g id=\"edge53\" class=\"edge\">\n",
       "<title>0&#45;&gt;0</title>\n",
       "<path fill=\"none\" stroke=\"#000000\" d=\"M52.1582,-97.1573C478.042,-196.2724 3208,-193.9944 3208,-90.3235 3208,12.5627 519.2083,15.585 62.2217,-81.2568\"/>\n",
       "<polygon fill=\"#000000\" stroke=\"#000000\" points=\"61.1625,-77.9066 52.1582,-83.4898 62.6789,-84.7404 61.1625,-77.9066\"/>\n",
       "<text text-anchor=\"middle\" x=\"3242\" y=\"-86.6235\" font-family=\"Times,serif\" font-size=\"14.00\" fill=\"#000000\">aw:aw:&#45;4.79</text>\n",
       "</g>\n",
       "<!-- 0&#45;&gt;0 -->\n",
       "<g id=\"edge54\" class=\"edge\">\n",
       "<title>0&#45;&gt;0</title>\n",
       "<path fill=\"none\" stroke=\"#000000\" d=\"M52.3089,-97.2106C485.344,-198.2725 3276,-195.9769 3276,-90.3235 3276,14.556 526.073,17.5863 62.2012,-81.2325\"/>\n",
       "<polygon fill=\"#000000\" stroke=\"#000000\" points=\"61.3084,-77.8455 52.3089,-83.4365 62.8307,-84.678 61.3084,-77.8455\"/>\n",
       "<text text-anchor=\"middle\" x=\"3305\" y=\"-86.6235\" font-family=\"Times,serif\" font-size=\"14.00\" fill=\"#000000\">er:er:&#45;4.08</text>\n",
       "</g>\n",
       "<!-- 0&#45;&gt;0 -->\n",
       "<g id=\"edge55\" class=\"edge\">\n",
       "<title>0&#45;&gt;0</title>\n",
       "<path fill=\"none\" stroke=\"#000000\" d=\"M52.1059,-97.1839C490.743,-200.2739 3334,-197.9871 3334,-90.3235 3334,16.5515 532.2398,19.5877 62.1288,-81.2149\"/>\n",
       "<polygon fill=\"#000000\" stroke=\"#000000\" points=\"61.0974,-77.8592 52.1059,-83.4631 62.6295,-84.6895 61.0974,-77.8592\"/>\n",
       "<text text-anchor=\"middle\" x=\"3366\" y=\"-86.6235\" font-family=\"Times,serif\" font-size=\"14.00\" fill=\"#000000\">nx:nx:&#45;6.23</text>\n",
       "</g>\n",
       "<!-- 0&#45;&gt;0 -->\n",
       "<g id=\"edge56\" class=\"edge\">\n",
       "<title>0&#45;&gt;0</title>\n",
       "<path fill=\"none\" stroke=\"#000000\" d=\"M52.2238,-97.2301C497.7344,-202.2742 3398,-199.972 3398,-90.3235 3398,18.5486 538.6572,21.5891 62.0538,-81.202\"/>\n",
       "<polygon fill=\"#000000\" stroke=\"#000000\" points=\"61.2098,-77.8043 52.2238,-83.417 62.7486,-84.6331 61.2098,-77.8043\"/>\n",
       "<text text-anchor=\"middle\" x=\"3422.5\" y=\"-86.6235\" font-family=\"Times,serif\" font-size=\"14.00\" fill=\"#000000\">z:z:&#45;3.80</text>\n",
       "</g>\n",
       "<!-- 0&#45;&gt;0 -->\n",
       "<g id=\"edge57\" class=\"edge\">\n",
       "<title>0&#45;&gt;0</title>\n",
       "<path fill=\"none\" stroke=\"#000000\" d=\"M51.9741,-97.1934C502.5862,-204.2756 3447,-201.9856 3447,-90.3235 3447,20.548 544.132,23.5906 61.9183,-81.1957\"/>\n",
       "<polygon fill=\"#000000\" stroke=\"#000000\" points=\"60.9509,-77.8262 51.9741,-83.4537 62.5009,-84.6524 60.9509,-77.8262\"/>\n",
       "<text text-anchor=\"middle\" x=\"3475\" y=\"-86.6235\" font-family=\"Times,serif\" font-size=\"14.00\" fill=\"#000000\">el:el:&#45;5.10</text>\n",
       "</g>\n",
       "<!-- 0&#45;&gt;0 -->\n",
       "<g id=\"edge58\" class=\"edge\">\n",
       "<title>0&#45;&gt;0</title>\n",
       "<path fill=\"none\" stroke=\"#000000\" d=\"M52.0558,-97.2324C509.1241,-206.2759 3503,-203.973 3503,-90.3235 3503,22.5212 551.3677,25.5906 62.1436,-81.1153\"/>\n",
       "<polygon fill=\"#000000\" stroke=\"#000000\" points=\"61.0279,-77.7798 52.0558,-83.4147 62.5836,-84.6047 61.0279,-77.7798\"/>\n",
       "<text text-anchor=\"middle\" x=\"3538\" y=\"-86.6235\" font-family=\"Times,serif\" font-size=\"14.00\" fill=\"#000000\">uw:uw:&#45;5.48</text>\n",
       "</g>\n",
       "<!-- 0&#45;&gt;0 -->\n",
       "<g id=\"edge59\" class=\"edge\">\n",
       "<title>0&#45;&gt;0</title>\n",
       "<path fill=\"none\" stroke=\"#000000\" d=\"M52.1437,-97.2686C516.1686,-208.2762 3573,-205.9612 3573,-90.3235 3573,24.5237 557.8184,27.5922 62.0215,-81.1179\"/>\n",
       "<polygon fill=\"#000000\" stroke=\"#000000\" points=\"61.1108,-77.7357 52.1437,-83.3785 62.6725,-84.5593 61.1108,-77.7357\"/>\n",
       "<text text-anchor=\"middle\" x=\"3604\" y=\"-86.6235\" font-family=\"Times,serif\" font-size=\"14.00\" fill=\"#000000\">zh:zh:&#45;7.05</text>\n",
       "</g>\n",
       "<!-- 0&#45;&gt;0 -->\n",
       "<g id=\"edge60\" class=\"edge\">\n",
       "<title>0&#45;&gt;0</title>\n",
       "<path fill=\"none\" stroke=\"#000000\" d=\"M52.2112,-97.3019C522.8383,-210.2766 3635,-207.9505 3635,-90.3235 3635,26.4993 565.242,29.5923 62.2312,-81.0445\"/>\n",
       "<polygon fill=\"#000000\" stroke=\"#000000\" points=\"61.1743,-77.696 52.2112,-83.3452 62.7409,-84.5185 61.1743,-77.696\"/>\n",
       "<text text-anchor=\"middle\" x=\"3673\" y=\"-86.6235\" font-family=\"Times,serif\" font-size=\"14.00\" fill=\"#000000\">eng:eng:&#45;8.42</text>\n",
       "</g>\n",
       "</g>\n",
       "</svg>\n"
      ],
      "text/plain": [
       "<graphviz.graphs.Digraph at 0x7f221e7c0f70>"
      ]
     },
     "execution_count": 16,
     "metadata": {},
     "output_type": "execute_result"
    }
   ],
   "source": [
    "def create_h_wfst(prior_file='resources/lab4/phone.priors', phones_fname='exp/phones.txt'):\n",
    "    \"\"\"Create H.wfst. just transduce AM probability to AM likelihood (Bayes theorem)\n",
    "    \"\"\"\n",
    "    symbols = SymbolsMap.from_file(phones_fname)\n",
    "    h_fst = WFST(isymbols=symbols, osymbols=symbols)\n",
    "    s = h_fst.get_start()\n",
    "    h_fst.set_final(s)\n",
    "    with open(prior_file) as f:\n",
    "        for ph, prior in map(str.split, f.readlines()):\n",
    "            log_prior = np.log(float(prior))\n",
    "            ph_id = symbols.get_id(ph)\n",
    "            h_fst.add_arc(s, Arc(ph_id, ph_id, log_prior, s))\n",
    "    return h_fst\n",
    "create_h_wfst().to_dot()"
   ]
  },
  {
   "cell_type": "markdown",
   "id": "3e5765ec-0a60-4dc1-9bdd-28975b45f971",
   "metadata": {},
   "source": [
    "# L transducer\n",
    "\n",
    "Lwfst - это WFST, который преобразует входные последовательности фонем в слова.\n",
    "\n",
    "Например, `pau pau ae1 ae1 ae1 ae1 ae1 ae1 r pau pau pau y y y y eh1 s s s pau` -> `air yes`\n",
    "\n",
    "Чтобы контролировать количество слов в выходной гипотезе, в L добавляется два веса: \n",
    "* word_insertion_penalty - штраф за добавление слова \n",
    "* stay_in_silence_penalty - штраф за пропуск паузы (фонемы pau)\n",
    "\n",
    "Пример Lwfst, построенного для слов `'em` `-knacks`, с параметрами word_insertion_penalty=0.5, stay_in_silence_penalty=0.01\n",
    "\n",
    "![image](./resources/lab4/L_example.svg)\n",
    "\n",
    "Фонема паузы pau обрабатывается особым способом: L.fst может пропускать ее, не генерируя ничего на выходе. Также у окончания каждой транскрипции слова есть две отдельные дуги, возвращающие FST в стартовое состояние. Это нужно для того, чтобы была возможность как обработать подряд идущие дупликаты последней фонемы на конце слова, так и перейти в стартовое состояние всего по одной финальной фонеме. "
   ]
  },
  {
   "cell_type": "code",
   "execution_count": 17,
   "id": "2249beae-7404-4634-9e7a-7f6a4a6bc05d",
   "metadata": {},
   "outputs": [
    {
     "data": {
      "image/svg+xml": [
       "<?xml version=\"1.0\" encoding=\"UTF-8\" standalone=\"no\"?>\n",
       "<!DOCTYPE svg PUBLIC \"-//W3C//DTD SVG 1.1//EN\"\n",
       " \"http://www.w3.org/Graphics/SVG/1.1/DTD/svg11.dtd\">\n",
       "<!-- Generated by graphviz version 2.40.1 (20161225.0304)\n",
       " -->\n",
       "<!-- Title: %3 Pages: 1 -->\n",
       "<svg width=\"580pt\" height=\"392pt\"\n",
       " viewBox=\"0.00 0.00 580.00 392.00\" xmlns=\"http://www.w3.org/2000/svg\" xmlns:xlink=\"http://www.w3.org/1999/xlink\">\n",
       "<g id=\"graph0\" class=\"graph\" transform=\"scale(1 1) rotate(0) translate(4 388)\">\n",
       "<title>%3</title>\n",
       "<polygon fill=\"#ffffff\" stroke=\"transparent\" points=\"-4,4 -4,-388 576,-388 576,4 -4,4\"/>\n",
       "<!-- 0 -->\n",
       "<g id=\"node1\" class=\"node\">\n",
       "<title>0</title>\n",
       "<ellipse fill=\"none\" stroke=\"#000000\" cx=\"232\" cy=\"-366\" rx=\"27\" ry=\"18\"/>\n",
       "<text text-anchor=\"middle\" x=\"232\" y=\"-362.3\" font-family=\"Times,serif\" font-size=\"14.00\" fill=\"#000000\">0</text>\n",
       "</g>\n",
       "<!-- 0&#45;&gt;0 -->\n",
       "<g id=\"edge1\" class=\"edge\">\n",
       "<title>0&#45;&gt;0</title>\n",
       "<path fill=\"none\" stroke=\"#000000\" d=\"M256.5325,-373.752C267.5078,-374.4902 277,-371.9063 277,-366 277,-362.0317 272.7151,-359.5632 266.5743,-358.5944\"/>\n",
       "<polygon fill=\"#000000\" stroke=\"#000000\" points=\"266.6472,-355.0949 256.5325,-358.248 266.4059,-362.0908 266.6472,-355.0949\"/>\n",
       "<text text-anchor=\"middle\" x=\"320\" y=\"-362.3\" font-family=\"Times,serif\" font-size=\"14.00\" fill=\"#000000\">pau:&lt;eps&gt;:0.01</text>\n",
       "</g>\n",
       "<!-- 1 -->\n",
       "<g id=\"node2\" class=\"node\">\n",
       "<title>1</title>\n",
       "<ellipse fill=\"none\" stroke=\"#000000\" cx=\"27\" cy=\"-279\" rx=\"27\" ry=\"18\"/>\n",
       "<text text-anchor=\"middle\" x=\"27\" y=\"-275.3\" font-family=\"Times,serif\" font-size=\"14.00\" fill=\"#000000\">1</text>\n",
       "</g>\n",
       "<!-- 0&#45;&gt;1 -->\n",
       "<g id=\"edge2\" class=\"edge\">\n",
       "<title>0&#45;&gt;1</title>\n",
       "<path fill=\"none\" stroke=\"#000000\" d=\"M205.0932,-363.619C148.3706,-358.3276 20.6774,-344.8775 8,-330 1.5653,-322.4486 3.6054,-312.5121 8.2509,-303.4174\"/>\n",
       "<polygon fill=\"#000000\" stroke=\"#000000\" points=\"11.334,-305.0838 13.5473,-294.7227 5.3558,-301.4421 11.334,-305.0838\"/>\n",
       "<text text-anchor=\"middle\" x=\"47.5\" y=\"-318.8\" font-family=\"Times,serif\" font-size=\"14.00\" fill=\"#000000\">ax:&lt;eps&gt;:0.00</text>\n",
       "</g>\n",
       "<!-- 3 -->\n",
       "<g id=\"node4\" class=\"node\">\n",
       "<title>3</title>\n",
       "<ellipse fill=\"none\" stroke=\"#000000\" cx=\"340\" cy=\"-279\" rx=\"27\" ry=\"18\"/>\n",
       "<text text-anchor=\"middle\" x=\"340\" y=\"-275.3\" font-family=\"Times,serif\" font-size=\"14.00\" fill=\"#000000\">3</text>\n",
       "</g>\n",
       "<!-- 0&#45;&gt;3 -->\n",
       "<g id=\"edge3\" class=\"edge\">\n",
       "<title>0&#45;&gt;3</title>\n",
       "<path fill=\"none\" stroke=\"#000000\" d=\"M253.4812,-355.0059C265.3584,-348.4723 280.0796,-339.6013 292,-330 301.9606,-321.9773 311.8396,-311.9371 320.0224,-302.8919\"/>\n",
       "<polygon fill=\"#000000\" stroke=\"#000000\" points=\"322.7495,-305.0911 326.7362,-295.2749 317.4982,-300.4625 322.7495,-305.0911\"/>\n",
       "<text text-anchor=\"middle\" x=\"343.5\" y=\"-318.8\" font-family=\"Times,serif\" font-size=\"14.00\" fill=\"#000000\">n:&lt;eps&gt;:0.00</text>\n",
       "</g>\n",
       "<!-- 1&#45;&gt;0 -->\n",
       "<g id=\"edge5\" class=\"edge\">\n",
       "<title>1&#45;&gt;0</title>\n",
       "<path fill=\"none\" stroke=\"#000000\" d=\"M47.3891,-290.9766C59.0532,-297.8921 73.9219,-306.816 87,-315 97.3454,-321.4739 98.9193,-324.8857 110,-330 137.8439,-342.8515 171.3787,-352.3534 196.2372,-358.3582\"/>\n",
       "<polygon fill=\"#000000\" stroke=\"#000000\" points=\"195.4457,-361.7675 205.9804,-360.6407 197.0423,-354.952 195.4457,-361.7675\"/>\n",
       "<text text-anchor=\"middle\" x=\"141.5\" y=\"-318.8\" font-family=\"Times,serif\" font-size=\"14.00\" fill=\"#000000\">m:&#39;em:0.50</text>\n",
       "</g>\n",
       "<!-- 1&#45;&gt;1 -->\n",
       "<g id=\"edge4\" class=\"edge\">\n",
       "<title>1&#45;&gt;1</title>\n",
       "<path fill=\"none\" stroke=\"#000000\" d=\"M51.5325,-286.752C62.5078,-287.4902 72,-284.9063 72,-279 72,-275.0317 67.7151,-272.5632 61.5743,-271.5944\"/>\n",
       "<polygon fill=\"#000000\" stroke=\"#000000\" points=\"61.6472,-268.0949 51.5325,-271.248 61.4059,-275.0908 61.6472,-268.0949\"/>\n",
       "<text text-anchor=\"middle\" x=\"111.5\" y=\"-275.3\" font-family=\"Times,serif\" font-size=\"14.00\" fill=\"#000000\">ax:&lt;eps&gt;:0.00</text>\n",
       "</g>\n",
       "<!-- 2 -->\n",
       "<g id=\"node3\" class=\"node\">\n",
       "<title>2</title>\n",
       "<ellipse fill=\"none\" stroke=\"#000000\" cx=\"111\" cy=\"-192\" rx=\"27\" ry=\"18\"/>\n",
       "<text text-anchor=\"middle\" x=\"111\" y=\"-188.3\" font-family=\"Times,serif\" font-size=\"14.00\" fill=\"#000000\">2</text>\n",
       "</g>\n",
       "<!-- 1&#45;&gt;2 -->\n",
       "<g id=\"edge6\" class=\"edge\">\n",
       "<title>1&#45;&gt;2</title>\n",
       "<path fill=\"none\" stroke=\"#000000\" d=\"M41.6317,-263.8458C54.6807,-250.3307 73.9726,-230.3498 88.9013,-214.8879\"/>\n",
       "<polygon fill=\"#000000\" stroke=\"#000000\" points=\"91.8261,-216.8976 96.2541,-207.2725 86.7903,-212.0354 91.8261,-216.8976\"/>\n",
       "<text text-anchor=\"middle\" x=\"114\" y=\"-231.8\" font-family=\"Times,serif\" font-size=\"14.00\" fill=\"#000000\">m:&lt;eps&gt;:0.00</text>\n",
       "</g>\n",
       "<!-- 2&#45;&gt;0 -->\n",
       "<g id=\"edge8\" class=\"edge\">\n",
       "<title>2&#45;&gt;0</title>\n",
       "<path fill=\"none\" stroke=\"#000000\" d=\"M130.8653,-204.7955C139.5934,-211.0707 149.5321,-219.1749 157,-228 172.5369,-246.3607 202.2765,-304.9499 219.266,-339.6041\"/>\n",
       "<polygon fill=\"#000000\" stroke=\"#000000\" points=\"216.168,-341.2365 223.6974,-348.6903 222.4596,-338.168 216.168,-341.2365\"/>\n",
       "<text text-anchor=\"middle\" x=\"229.5\" y=\"-275.3\" font-family=\"Times,serif\" font-size=\"14.00\" fill=\"#000000\">m:&#39;em:0.50</text>\n",
       "</g>\n",
       "<!-- 2&#45;&gt;2 -->\n",
       "<g id=\"edge7\" class=\"edge\">\n",
       "<title>2&#45;&gt;2</title>\n",
       "<path fill=\"none\" stroke=\"#000000\" d=\"M135.5325,-199.752C146.5078,-200.4902 156,-197.9063 156,-192 156,-188.0317 151.7151,-185.5632 145.5743,-184.5944\"/>\n",
       "<polygon fill=\"#000000\" stroke=\"#000000\" points=\"145.6472,-181.0949 135.5325,-184.248 145.4059,-188.0908 145.6472,-181.0949\"/>\n",
       "<text text-anchor=\"middle\" x=\"195\" y=\"-188.3\" font-family=\"Times,serif\" font-size=\"14.00\" fill=\"#000000\">m:&lt;eps&gt;:0.00</text>\n",
       "</g>\n",
       "<!-- 3&#45;&gt;3 -->\n",
       "<g id=\"edge9\" class=\"edge\">\n",
       "<title>3&#45;&gt;3</title>\n",
       "<path fill=\"none\" stroke=\"#000000\" d=\"M364.5325,-286.752C375.5078,-287.4902 385,-284.9063 385,-279 385,-275.0317 380.7151,-272.5632 374.5743,-271.5944\"/>\n",
       "<polygon fill=\"#000000\" stroke=\"#000000\" points=\"374.6472,-268.0949 364.5325,-271.248 374.4059,-275.0908 374.6472,-268.0949\"/>\n",
       "<text text-anchor=\"middle\" x=\"421.5\" y=\"-275.3\" font-family=\"Times,serif\" font-size=\"14.00\" fill=\"#000000\">n:&lt;eps&gt;:0.00</text>\n",
       "</g>\n",
       "<!-- 4 -->\n",
       "<g id=\"node5\" class=\"node\">\n",
       "<title>4</title>\n",
       "<ellipse fill=\"none\" stroke=\"#000000\" cx=\"333\" cy=\"-192\" rx=\"27\" ry=\"18\"/>\n",
       "<text text-anchor=\"middle\" x=\"333\" y=\"-188.3\" font-family=\"Times,serif\" font-size=\"14.00\" fill=\"#000000\">4</text>\n",
       "</g>\n",
       "<!-- 3&#45;&gt;4 -->\n",
       "<g id=\"edge10\" class=\"edge\">\n",
       "<title>3&#45;&gt;4</title>\n",
       "<path fill=\"none\" stroke=\"#000000\" d=\"M351.4402,-262.5631C356.9492,-252.618 361.6479,-239.6484 358,-228 356.7208,-223.9154 354.7968,-219.8877 352.5731,-216.0892\"/>\n",
       "<polygon fill=\"#000000\" stroke=\"#000000\" points=\"355.4581,-214.1069 347.0028,-207.7227 349.6314,-217.9863 355.4581,-214.1069\"/>\n",
       "<text text-anchor=\"middle\" x=\"398.5\" y=\"-231.8\" font-family=\"Times,serif\" font-size=\"14.00\" fill=\"#000000\">ae:&lt;eps&gt;:0.00</text>\n",
       "</g>\n",
       "<!-- 4&#45;&gt;4 -->\n",
       "<g id=\"edge11\" class=\"edge\">\n",
       "<title>4&#45;&gt;4</title>\n",
       "<path fill=\"none\" stroke=\"#000000\" d=\"M357.5325,-199.752C368.5078,-200.4902 378,-197.9063 378,-192 378,-188.0317 373.7151,-185.5632 367.5743,-184.5944\"/>\n",
       "<polygon fill=\"#000000\" stroke=\"#000000\" points=\"367.6472,-181.0949 357.5325,-184.248 367.4059,-188.0908 367.6472,-181.0949\"/>\n",
       "<text text-anchor=\"middle\" x=\"417.5\" y=\"-188.3\" font-family=\"Times,serif\" font-size=\"14.00\" fill=\"#000000\">ae:&lt;eps&gt;:0.00</text>\n",
       "</g>\n",
       "<!-- 5 -->\n",
       "<g id=\"node6\" class=\"node\">\n",
       "<title>5</title>\n",
       "<ellipse fill=\"none\" stroke=\"#000000\" cx=\"333\" cy=\"-105\" rx=\"27\" ry=\"18\"/>\n",
       "<text text-anchor=\"middle\" x=\"333\" y=\"-101.3\" font-family=\"Times,serif\" font-size=\"14.00\" fill=\"#000000\">5</text>\n",
       "</g>\n",
       "<!-- 4&#45;&gt;5 -->\n",
       "<g id=\"edge12\" class=\"edge\">\n",
       "<title>4&#45;&gt;5</title>\n",
       "<path fill=\"none\" stroke=\"#000000\" d=\"M333,-173.9735C333,-162.1918 333,-146.5607 333,-133.1581\"/>\n",
       "<polygon fill=\"#000000\" stroke=\"#000000\" points=\"336.5001,-133.0033 333,-123.0034 329.5001,-133.0034 336.5001,-133.0033\"/>\n",
       "<text text-anchor=\"middle\" x=\"369.5\" y=\"-144.8\" font-family=\"Times,serif\" font-size=\"14.00\" fill=\"#000000\">k:&lt;eps&gt;:0.00</text>\n",
       "</g>\n",
       "<!-- 5&#45;&gt;0 -->\n",
       "<g id=\"edge14\" class=\"edge\">\n",
       "<title>5&#45;&gt;0</title>\n",
       "<path fill=\"none\" stroke=\"#000000\" d=\"M323.5196,-122.0734C315.9807,-135.9023 305.3499,-155.9784 297,-174 286.1053,-197.514 281.9744,-203.0408 275,-228 266.6427,-257.9082 273.0633,-267.2981 264,-297 259.5162,-311.694 252.4986,-327.2834 246.1763,-339.9195\"/>\n",
       "<polygon fill=\"#000000\" stroke=\"#000000\" points=\"242.9963,-338.4499 241.5307,-348.9429 249.2199,-341.6542 242.9963,-338.4499\"/>\n",
       "<text text-anchor=\"middle\" x=\"314.5\" y=\"-231.8\" font-family=\"Times,serif\" font-size=\"14.00\" fill=\"#000000\">s:&#45;knacks:0.50</text>\n",
       "</g>\n",
       "<!-- 5&#45;&gt;5 -->\n",
       "<g id=\"edge13\" class=\"edge\">\n",
       "<title>5&#45;&gt;5</title>\n",
       "<path fill=\"none\" stroke=\"#000000\" d=\"M357.5325,-112.752C368.5078,-113.4902 378,-110.9063 378,-105 378,-101.0317 373.7151,-98.5632 367.5743,-97.5944\"/>\n",
       "<polygon fill=\"#000000\" stroke=\"#000000\" points=\"367.6472,-94.0949 357.5325,-97.248 367.4059,-101.0908 367.6472,-94.0949\"/>\n",
       "<text text-anchor=\"middle\" x=\"414.5\" y=\"-101.3\" font-family=\"Times,serif\" font-size=\"14.00\" fill=\"#000000\">k:&lt;eps&gt;:0.00</text>\n",
       "</g>\n",
       "<!-- 6 -->\n",
       "<g id=\"node7\" class=\"node\">\n",
       "<title>6</title>\n",
       "<ellipse fill=\"none\" stroke=\"#000000\" cx=\"413\" cy=\"-18\" rx=\"27\" ry=\"18\"/>\n",
       "<text text-anchor=\"middle\" x=\"413\" y=\"-14.3\" font-family=\"Times,serif\" font-size=\"14.00\" fill=\"#000000\">6</text>\n",
       "</g>\n",
       "<!-- 5&#45;&gt;6 -->\n",
       "<g id=\"edge15\" class=\"edge\">\n",
       "<title>5&#45;&gt;6</title>\n",
       "<path fill=\"none\" stroke=\"#000000\" d=\"M347.3024,-89.4461C359.7025,-75.9611 377.8162,-56.2623 391.8849,-40.9627\"/>\n",
       "<polygon fill=\"#000000\" stroke=\"#000000\" points=\"394.629,-43.1493 398.8214,-33.4192 389.4763,-38.4112 394.629,-43.1493\"/>\n",
       "<text text-anchor=\"middle\" x=\"413\" y=\"-57.8\" font-family=\"Times,serif\" font-size=\"14.00\" fill=\"#000000\">s:&lt;eps&gt;:0.00</text>\n",
       "</g>\n",
       "<!-- 6&#45;&gt;0 -->\n",
       "<g id=\"edge17\" class=\"edge\">\n",
       "<title>6&#45;&gt;0</title>\n",
       "<path fill=\"none\" stroke=\"#000000\" d=\"M434.4385,-29.2993C458.1355,-43.515 493,-70.3226 493,-105 493,-279 493,-279 493,-279 493,-325.6628 340.9564,-351.7765 268.9622,-361.5261\"/>\n",
       "<polygon fill=\"#000000\" stroke=\"#000000\" points=\"268.4052,-358.0691 258.9485,-362.8463 269.3203,-365.009 268.4052,-358.0691\"/>\n",
       "<text text-anchor=\"middle\" x=\"532.5\" y=\"-188.3\" font-family=\"Times,serif\" font-size=\"14.00\" fill=\"#000000\">s:&#45;knacks:0.50</text>\n",
       "</g>\n",
       "<!-- 6&#45;&gt;6 -->\n",
       "<g id=\"edge16\" class=\"edge\">\n",
       "<title>6&#45;&gt;6</title>\n",
       "<path fill=\"none\" stroke=\"#000000\" d=\"M437.5325,-25.752C448.5078,-26.4902 458,-23.9063 458,-18 458,-14.0317 453.7151,-11.5632 447.5743,-10.5944\"/>\n",
       "<polygon fill=\"#000000\" stroke=\"#000000\" points=\"447.6472,-7.0949 437.5325,-10.248 447.4059,-14.0908 447.6472,-7.0949\"/>\n",
       "<text text-anchor=\"middle\" x=\"494\" y=\"-14.3\" font-family=\"Times,serif\" font-size=\"14.00\" fill=\"#000000\">s:&lt;eps&gt;:0.00</text>\n",
       "</g>\n",
       "</g>\n",
       "</svg>\n"
      ],
      "text/plain": [
       "<graphviz.graphs.Digraph at 0x7f22683abcd0>"
      ]
     },
     "execution_count": 17,
     "metadata": {},
     "output_type": "execute_result"
    }
   ],
   "source": [
    "def create_Lwfst_from_file(dic_fname='../../asr_itmo_practice/timit/TIMITDIC.TXT', \n",
    "                           phones_fname='exp/phones.txt', \n",
    "                           words_fname='exp/words.txt', \n",
    "                           words_limit=-1, \n",
    "                           word_insertion_penalty=0.5, \n",
    "                           stay_in_silence_penalty=0.01):\n",
    "    isymbols = SymbolsMap.from_file(phones_fname)\n",
    "    osymbols = SymbolsMap.from_file(words_fname)\n",
    "    sil_id = isymbols.get_id('pau')\n",
    "    l_wfst = WFST(isymbols=isymbols, osymbols=osymbols)\n",
    "    start = l_wfst.get_start()\n",
    "    ### Пропуск скольких угодно фонем тишины\n",
    "    l_wfst.add_arc(start, Arc(sil_id, 0, stay_in_silence_penalty, start))\n",
    "    # Стартовое состояние также является и финальным\n",
    "    l_wfst.set_final(start)\n",
    "    \n",
    "    for word, trans in load_lexicon_file(dic_fname, words_limit=words_limit):\n",
    "        tran_ids = [isymbols.get_id(t) for t in trans]\n",
    "        word_id = osymbols.get_id(word)\n",
    "        # TODO \n",
    "        # Добавьте последовательные дуги в wfst, определяющие транскрипцию слова\n",
    "        # Все дуги, кроме последней, на выходе имеют <eps>\n",
    "        # Последняя дуга выводит word_id и возвращает конечный автомат в стартовое (оно же финальное) состояние\n",
    "        # Каждая фонема может тянуться от 1 до inf кадров, поэтому помимо переходов в новое состояние, должны быть еще петли \n",
    "        trans_len = len(tran_ids)\n",
    "        start_state = start\n",
    "        for i in range(trans_len):\n",
    "            if i == trans_len - 1:\n",
    "                l_wfst.add_arc(start_state, Arc(tran_ids[i], word_id, word_insertion_penalty, start))\n",
    "            new_state = l_wfst.new_state()\n",
    "            l_wfst.add_arc(start_state, Arc(tran_ids[i], isymbols.get_id('<eps>'), 0, new_state)) # новое состояние\n",
    "            l_wfst.add_arc(new_state, Arc(tran_ids[i], isymbols.get_id('<eps>'), 0, new_state))   # петли\n",
    "            start_state = new_state \n",
    "        l_wfst.add_arc(start_state, Arc(tran_ids[i], word_id, word_insertion_penalty, start))\n",
    "        \n",
    "    return l_wfst\n",
    "\n",
    "create_Lwfst_from_file(words_limit=2, word_insertion_penalty=0.5, stay_in_silence_penalty=0.01).to_dot()"
   ]
  },
  {
   "cell_type": "code",
   "execution_count": 18,
   "id": "3e518300-0337-4727-9312-c2027b73cb5e",
   "metadata": {},
   "outputs": [
    {
     "data": {
      "application/vnd.jupyter.widget-view+json": {
       "model_id": "fd77ea3e4cb04f4ab3d97124b14ef062",
       "version_major": 2,
       "version_minor": 0
      },
      "text/plain": [
       "  0%|          | 0/100 [00:00<?, ?it/s]"
      ]
     },
     "metadata": {},
     "output_type": "display_data"
    },
    {
     "name": "stdout",
     "output_type": "stream",
     "text": [
      "test 2.a passed\n"
     ]
    }
   ],
   "source": [
    "def test_l_wfst():\n",
    "    l_wfst = create_Lwfst_from_file(dic_fname='../../asr_itmo_practice/timit/TIMITDIC.TXT', \n",
    "                                    word_insertion_penalty=1.0, stay_in_silence_penalty=0.01)\n",
    "    start = l_wfst.get_start()\n",
    "    hyps = l_wfst.transduce(start, 'pau')\n",
    "    loop_hyp = [(l, w, s) for l, w, s in hyps if s == start]\n",
    "    assert (len(loop_hyp) == 1 \n",
    "            and loop_hyp[0][0] == '<eps>' \n",
    "            and loop_hyp[0][1] == 0.01), f\"{hyps}\\n skip pause test failed\"\n",
    "    # смотрим, что поданная на вход транскрипция корректно переводится в слово\n",
    "    # количество подряд идущих одинаковых фонем постепенно увеличивается от одной до 6\n",
    "    for i, (word, trans) in enumerate(tqdm(load_lexicon_file('../../asr_itmo_practice/timit/TIMITDIC.TXT', words_limit=100), total=100)):\n",
    "        hyps = [('', 0, l_wfst.get_start()), ]\n",
    "        # Breadth First Search\n",
    "        for t in [t for t in trans for _ in range(i//20+1)]:\n",
    "            # t repeated many times\n",
    "            new_hyps = []\n",
    "            for prev_l, prev_w, prev_s in hyps: \n",
    "                new_hyps.extend([(f\"{prev_l} {l}\", prev_w + w, s) for l,w,s in l_wfst.transduce(prev_s, t)])\n",
    "            hyps = new_hyps\n",
    "        # choose only final hyp\n",
    "        # ограничение веса нужно, чтобы отсечь гипотезы где комбинация других слов мапится на теже фонемы\n",
    "        hyps = [(l, w, s) for l, w, s in hyps if l_wfst.final_score(s) != float('inf') and w == 1.0]\n",
    "       \n",
    "        assert len(hyps) == 1 or len(trans) == 1 , f\"Test failed for word \\\"{word}\\\" {hyps=}\"\n",
    "        assert hyps[0][0].replace('<eps>', ' ').split() == [word], f\"Test failed for word {word} {hyps=}\"\n",
    "        assert hyps[0][1] == 1.0, f\"Test failed for word {word} {hyps=}\"\n",
    "        assert hyps[0][2] == start, f\"Test failed for word {word} {hyps=}\"       \n",
    "    print(\"test 2.a passed\")\n",
    "test_l_wfst()"
   ]
  },
  {
   "cell_type": "markdown",
   "id": "4085d806-f619-4941-b339-6c7ee21b3803",
   "metadata": {},
   "source": [
    "# Поиск наилучшей гипотезы распознавания с помощью beam search\n",
    "\n",
    "Для того, чтобы найти результат распознавания с помощью акустической модели и графа распознавания, надо выполнить поиск наилучшей гипотезы в графе. Для поиска лучшего пути будем использовать [лучевой поиск (Beam Search)](https://ru.wikipedia.org/wiki/%D0%9B%D1%83%D1%87%D0%B5%D0%B2%D0%BE%D0%B9_%D0%BF%D0%BE%D0%B8%D1%81%D0%BA). В основе этого алгоритма лежит обход графа в ширину, но на каждом шаге рассматриваются только наиболее \"хорошие\" гипотезы, а остальные уничтожаются. Такая эвристика позволяет значительно ускорить процесс декодирования, но не всегда находит наилучший путь. "
   ]
  },
  {
   "cell_type": "code",
   "execution_count": 19,
   "id": "746bf3bb-9301-423e-9464-0479a9435f79",
   "metadata": {},
   "outputs": [],
   "source": [
    "@dataclass(order=True)\n",
    "class Hypothesis:\n",
    "    # накопленный штраф гипотезы\n",
    "    score: float\n",
    "    # до какого кадра из входной последовательности дошла гипотеза\n",
    "    time: int\n",
    "    # накопленная последовательность слов\n",
    "    words: List[str]\n",
    "    # состояние графа декодирования \n",
    "    state: Any\n"
   ]
  },
  {
   "cell_type": "markdown",
   "id": "2142b823-9612-46ee-a54b-152b37d815ff",
   "metadata": {},
   "source": [
    "### HypothesesKeeper\n",
    "Реализуем специальную коллекцию, которая хранит все гипотезы распознавания и применяет прунинг (удаление ненужных гипотез). \n",
    "Прунинг делится на два типа: \n",
    "#### State pruning \n",
    "Eсли мы можем дойти до состояния X в момент времени T несколькими способами, то для дальнейшей обработки достаточно только наилучшего пути до состояния X. Эта гипотеза гарантированно будет лучше всех других гипотез, проходящих через точку (X, T). \n",
    "#### Beam pruning\n",
    "Эвристика лучевого поиска. Отсекаем все гипотезы, которые хуже, чем лучшая текущая гипотеза плюс beam_size. Вероятность того, что гипотезы с сильно худшим весом вдруг станут наилучшими, крайне мала, поэтому такая эвристика работает достаточно хорошо. \n"
   ]
  },
  {
   "cell_type": "code",
   "execution_count": 20,
   "id": "58a2485a-834f-499c-a356-b17983fd85fe",
   "metadata": {},
   "outputs": [],
   "source": [
    "class HypothesesKeeper:\n",
    "    def __init__(self, init_hyps: List[Hypothesis] = [], beam_size=10):\n",
    "        self.state2hyp = {h.state: h for h in init_hyps}\n",
    "        self.beam_size = beam_size\n",
    "        if len(self.state2hyp) == 0:\n",
    "            self.set_best(None, float('inf'))\n",
    "        else:\n",
    "            min_hyp = min(self.state2hyp.values())\n",
    "            self.set_best(min_hyp.state, min_hyp.score)\n",
    "\n",
    "    def set_best(self, state, score):\n",
    "        self.best_state = state\n",
    "        self.best_score = score\n",
    "        \n",
    "    def get_best_hyp(self) -> Hypothesis:\n",
    "        \"\"\"return the best hyp based on self.best_state\"\"\"\n",
    "        # TODO \n",
    "        # верните лучшую гипотезу \n",
    "        return [hyp for state, hyp in self.state2hyp.items() if state == self.best_state and hyp.score == self.best_score][0]\n",
    "    \n",
    "    def prune(self):\n",
    "        self.state2hyp = {s:h for s, h in self.state2hyp.items() if not self.is_prunned_by_beam(h.score)}\n",
    "        \n",
    "    def tolist(self) -> List[Hypothesis]:\n",
    "        \"\"\"Return all hypotheses. Apply beam pruning\"\"\"\n",
    "        # TODO \n",
    "        # верните все гипотезы, которые находятся в луче поиска \n",
    "        self.prune()\n",
    "        return self.state2hyp.values()\n",
    "        \n",
    "    def is_prunned_by_beam(self, score: float):\n",
    "        \"\"\"Return true if score greater than beam\"\"\"\n",
    "        # TODO \n",
    "        # верните True, если значение score находится вне луча поиска \n",
    "        return score - self.beam_size > self.best_score\n",
    "        \n",
    "    def is_prunned_by_state(self, state, score):\n",
    "        \"\"\"Returns true if the keeper already has a hyp in the same state and the score of this hyp is lower\"\"\"\n",
    "        # TODO\n",
    "        # верните True, если state уже имеет гипотезу, со скором лучше чем score\n",
    "        return state in self.state2hyp and self.state2hyp[state].score < score\n",
    "    \n",
    "    def append(self, hyp: Hypothesis):\n",
    "        \"\"\"Append new hyp into collection\"\"\"\n",
    "        if self.is_prunned_by_beam(hyp.score) or self.is_prunned_by_state(hyp.state, hyp.score):\n",
    "            return \n",
    "        self.state2hyp[hyp.state] = hyp\n",
    "        if hyp.score < self.best_score or self.best_state is None:\n",
    "            self.set_best(hyp.state, hyp.score)\n",
    "\n",
    "    def extend(self, hyps):\n",
    "        if isinstance(hyps, HypothesesKeeper):\n",
    "            hyps = hyps.tolist()\n",
    "        for h in hyps:\n",
    "            self.append(h)\n",
    "    \n",
    "    def __len__(self):\n",
    "        return len(self.state2hyp)\n",
    "\n",
    "    def __str__(self):\n",
    "        return '[' + \",\\n\".join(map(str, self.tolist())) + ']'\n",
    "\n",
    "    def describe(self):\n",
    "        # TODO \n",
    "        # посчитайте средний и максимальный скор хранящихся гипотез\n",
    "        # mean_score = ...\n",
    "        # max_score = ...\n",
    "        scores = [hyp.score for hyp in self.state2hyp.values()]\n",
    "        mean_score = sum(scores) / len(scores)\n",
    "        max_score  = max(scores)\n",
    "        return (\n",
    "            f\"{len(self)} hyps. \"\n",
    "            f\"Best {self.get_best_hyp()}. \"\n",
    "            f\"Mean score {mean_score:.2f}. \"\n",
    "            f\"Max {max_score:.2f}\"\n",
    "        )"
   ]
  },
  {
   "cell_type": "code",
   "execution_count": 21,
   "id": "349961f4-c05b-41e5-a514-277b69bde94d",
   "metadata": {},
   "outputs": [
    {
     "name": "stdout",
     "output_type": "stream",
     "text": [
      "test 2.b passed!\n"
     ]
    }
   ],
   "source": [
    "def test_hyp_keeper():\n",
    "    hyps = HypothesesKeeper(beam_size=10)\n",
    "    hyps.append(Hypothesis(10, 0, ['a'],  1))\n",
    "    assert len(hyps) == 1 and hyps.best_state == 1 and hyps.best_score == 10, f\"First append doesn't work well\"\n",
    "    hyps.append(Hypothesis(100, 0, ['err'], 2))\n",
    "    assert len(hyps) == 1 and hyps.best_state == 1 and hyps.best_score == 10, f\"Append didn't prune the input\"\n",
    "    \n",
    "    hyps.append(Hypothesis(11, 0, ['b'], 2))\n",
    "    assert len(hyps) == 2 and hyps.best_state == 1 and hyps.best_score == 10, f\"Append doesn't work well\"\n",
    "    hyps.append(Hypothesis(12, 0, ['err2'], 2))\n",
    "    assert len(hyps) == 2 and hyps.state2hyp[2].score == 11, f\"Append didn't prune the input\"\n",
    "    \n",
    "    hyps.append(Hypothesis(0, 0, ['c'], 3))\n",
    "    assert hyps.best_state == 3 and hyps.best_score == 0, f\"Append didn't update best_* attributes\"\n",
    "\n",
    "    hyps_list = hyps.tolist()\n",
    "    assert len(hyps_list) == 2, f\"tolist didn't prune the output\"\n",
    "\n",
    "    hyp = hyps.get_best_hyp()\n",
    "    assert hyp == Hypothesis(0, 0, ['c'], 3), f\"{hyp=}\"\n",
    "    print(\"test 2.b passed!\")\n",
    "test_hyp_keeper()"
   ]
  },
  {
   "cell_type": "code",
   "execution_count": 22,
   "id": "972bbcf8-e7db-4670-8a93-f13760cdcd25",
   "metadata": {},
   "outputs": [],
   "source": [
    "class BeamSearcher:\n",
    "    def __init__(self, am2phone_mapping, graph: AbstractWFST, beam_size=3):\n",
    "        self.am2phone_mapping = am2phone_mapping\n",
    "        self.graph = graph\n",
    "        self.beam_size = beam_size\n",
    "        \n",
    "    def decode(self, phonemes_nll: np.ndarray):\n",
    "        \"\"\"\n",
    "        Decoding input phonemes negative loglikelihood into word level hypthesis\n",
    "        phonemes_logprobs.shape is (Time, num_phones)\n",
    "        \"\"\"\n",
    "        parent_hyps = HypothesesKeeper(init_hyps=[Hypothesis(0, -1, [], self.graph.get_start())], \n",
    "                                       beam_size=self.beam_size)\n",
    "        pbar = tqdm(phonemes_nll)\n",
    "        for new_time, frame_dist in enumerate(pbar):\n",
    "            new_hyps = HypothesesKeeper(beam_size=self.beam_size)\n",
    "            for parent_hyp in parent_hyps.tolist():\n",
    "                assert parent_hyp.time + 1 == new_time, f\"Wrong time {new_time=}, \\n{parent_hyp=}\"\n",
    "                # TODO \n",
    "                # Продолжите гипотезу parent_hyp с помощью всех фонем и их вероятностей из frame_dist\n",
    "                # соханите новые гипотезы в new_hyps\n",
    "                # words гипотез не должен содержать <eps> \n",
    "                # score гипотезы равен сумме скора родителя, phone_nll и веса от transduce по графу \n",
    "                for i, phone_nll in enumerate(frame_dist):\n",
    "                    trans = self.graph.transduce(parent_hyp.state, self.am2phone_mapping[i])\n",
    "                    for tran in trans:\n",
    "                        score = parent_hyp.score + phone_nll + tran[1]\n",
    "                        words = parent_hyp.words + ([] if tran[0] == \"<eps>\" else [tran[0]])\n",
    "                        state = tran[2]\n",
    "                        time  = parent_hyp.time  + 1\n",
    "                        new_hyp = Hypothesis(score=score, time=time, words=words, state=state)\n",
    "                        new_hyps.append(new_hyp)\n",
    "            new_hyps.prune() \n",
    "            parent_hyps = new_hyps \n",
    "            statictic_str = parent_hyps.describe() \n",
    "            pbar.set_description(statictic_str, refresh=False) \n",
    "        # TODO \n",
    "        # сформируйте список финальных гипотез\n",
    "        # пройдитесь по parent_hyps и добавьте ко всем гипотезам финальный вес \n",
    "        final_hyps = HypothesesKeeper(beam_size=self.beam_size)\n",
    "        for parent_hyp in parent_hyps.tolist():\n",
    "            final_score = self.graph.final_score(parent_hyp.state)\n",
    "            parent_hyp.score += final_score\n",
    "            final_hyps.append(parent_hyp)\n",
    "        \n",
    "        print(f\"Found {len(final_hyps)} hypotheses\")\n",
    "        best_hyp = final_hyps.get_best_hyp()\n",
    "        return best_hyp"
   ]
  },
  {
   "cell_type": "code",
   "execution_count": 23,
   "id": "85ecdf4e-0d13-4ea6-b8b2-1826c009ef66",
   "metadata": {},
   "outputs": [
    {
     "data": {
      "image/svg+xml": [
       "<?xml version=\"1.0\" encoding=\"UTF-8\" standalone=\"no\"?>\n",
       "<!DOCTYPE svg PUBLIC \"-//W3C//DTD SVG 1.1//EN\"\n",
       " \"http://www.w3.org/Graphics/SVG/1.1/DTD/svg11.dtd\">\n",
       "<!-- Generated by graphviz version 2.40.1 (20161225.0304)\n",
       " -->\n",
       "<!-- Title: %3 Pages: 1 -->\n",
       "<svg width=\"190pt\" height=\"131pt\"\n",
       " viewBox=\"0.00 0.00 190.47 131.00\" xmlns=\"http://www.w3.org/2000/svg\" xmlns:xlink=\"http://www.w3.org/1999/xlink\">\n",
       "<g id=\"graph0\" class=\"graph\" transform=\"scale(1 1) rotate(0) translate(4 127)\">\n",
       "<title>%3</title>\n",
       "<polygon fill=\"#ffffff\" stroke=\"transparent\" points=\"-4,4 -4,-127 186.4652,-127 186.4652,4 -4,4\"/>\n",
       "<!-- 0 -->\n",
       "<g id=\"node1\" class=\"node\">\n",
       "<title>0</title>\n",
       "<ellipse fill=\"none\" stroke=\"#000000\" cx=\"73.4652\" cy=\"-105\" rx=\"27\" ry=\"18\"/>\n",
       "<text text-anchor=\"middle\" x=\"73.4652\" y=\"-101.3\" font-family=\"Times,serif\" font-size=\"14.00\" fill=\"#000000\">0</text>\n",
       "</g>\n",
       "<!-- 1 -->\n",
       "<g id=\"node2\" class=\"node\">\n",
       "<title>1</title>\n",
       "<ellipse fill=\"none\" stroke=\"#000000\" cx=\"73.4652\" cy=\"-18\" rx=\"27\" ry=\"18\"/>\n",
       "<text text-anchor=\"middle\" x=\"73.4652\" y=\"-14.3\" font-family=\"Times,serif\" font-size=\"14.00\" fill=\"#000000\">1</text>\n",
       "</g>\n",
       "<!-- 0&#45;&gt;1 -->\n",
       "<g id=\"edge1\" class=\"edge\">\n",
       "<title>0&#45;&gt;1</title>\n",
       "<path fill=\"none\" stroke=\"#000000\" d=\"M47.774,-99.0298C32.0158,-93.8984 13.075,-84.7483 3.4652,-69 -7.8425,-50.4691 15.868,-36.6189 38.6952,-28.0637\"/>\n",
       "<polygon fill=\"#000000\" stroke=\"#000000\" points=\"40.0201,-31.3088 48.3195,-24.7232 37.7247,-24.6958 40.0201,-31.3088\"/>\n",
       "<text text-anchor=\"middle\" x=\"27.4652\" y=\"-57.8\" font-family=\"Times,serif\" font-size=\"14.00\" fill=\"#000000\">A:a:2.00</text>\n",
       "</g>\n",
       "<!-- 0&#45;&gt;1 -->\n",
       "<g id=\"edge2\" class=\"edge\">\n",
       "<title>0&#45;&gt;1</title>\n",
       "<path fill=\"none\" stroke=\"#000000\" d=\"M73.4652,-86.9735C73.4652,-75.1918 73.4652,-59.5607 73.4652,-46.1581\"/>\n",
       "<polygon fill=\"#000000\" stroke=\"#000000\" points=\"76.9653,-46.0033 73.4652,-36.0034 69.9653,-46.0034 76.9653,-46.0033\"/>\n",
       "<text text-anchor=\"middle\" x=\"97.4652\" y=\"-57.8\" font-family=\"Times,serif\" font-size=\"14.00\" fill=\"#000000\">B:b:3.00</text>\n",
       "</g>\n",
       "<!-- 1&#45;&gt;0 -->\n",
       "<g id=\"edge3\" class=\"edge\">\n",
       "<title>1&#45;&gt;0</title>\n",
       "<path fill=\"none\" stroke=\"#000000\" d=\"M95.6587,-28.3523C112.2861,-37.6865 130.8386,-52.4578 122.4652,-69 118.3876,-77.0555 111.565,-83.7468 104.2868,-89.0863\"/>\n",
       "<polygon fill=\"#000000\" stroke=\"#000000\" points=\"102.1153,-86.3247 95.6707,-94.7341 105.9529,-92.1791 102.1153,-86.3247\"/>\n",
       "<text text-anchor=\"middle\" x=\"153.4652\" y=\"-57.8\" font-family=\"Times,serif\" font-size=\"14.00\" fill=\"#000000\">pau:_:1.00</text>\n",
       "</g>\n",
       "</g>\n",
       "</svg>\n"
      ],
      "text/plain": [
       "<graphviz.graphs.Digraph at 0x7f2236bb9190>"
      ]
     },
     "metadata": {},
     "output_type": "display_data"
    },
    {
     "data": {
      "application/vnd.jupyter.widget-view+json": {
       "model_id": "fbf6e68ea19145d79c9f82297cd2f302",
       "version_major": 2,
       "version_minor": 0
      },
      "text/plain": [
       "  0%|          | 0/3 [00:00<?, ?it/s]"
      ]
     },
     "metadata": {},
     "output_type": "display_data"
    },
    {
     "name": "stdout",
     "output_type": "stream",
     "text": [
      "Found 1 hypotheses\n"
     ]
    },
    {
     "data": {
      "application/vnd.jupyter.widget-view+json": {
       "model_id": "4893b648223a41f8b4b70639016c35c6",
       "version_major": 2,
       "version_minor": 0
      },
      "text/plain": [
       "  0%|          | 0/3 [00:00<?, ?it/s]"
      ]
     },
     "metadata": {},
     "output_type": "display_data"
    },
    {
     "name": "stdout",
     "output_type": "stream",
     "text": [
      "Found 1 hypotheses\n"
     ]
    },
    {
     "data": {
      "image/svg+xml": [
       "<?xml version=\"1.0\" encoding=\"UTF-8\" standalone=\"no\"?>\n",
       "<!DOCTYPE svg PUBLIC \"-//W3C//DTD SVG 1.1//EN\"\n",
       " \"http://www.w3.org/Graphics/SVG/1.1/DTD/svg11.dtd\">\n",
       "<!-- Generated by graphviz version 2.40.1 (20161225.0304)\n",
       " -->\n",
       "<!-- Title: %3 Pages: 1 -->\n",
       "<svg width=\"202pt\" height=\"131pt\"\n",
       " viewBox=\"0.00 0.00 202.47 131.00\" xmlns=\"http://www.w3.org/2000/svg\" xmlns:xlink=\"http://www.w3.org/1999/xlink\">\n",
       "<g id=\"graph0\" class=\"graph\" transform=\"scale(1 1) rotate(0) translate(4 127)\">\n",
       "<title>%3</title>\n",
       "<polygon fill=\"#ffffff\" stroke=\"transparent\" points=\"-4,4 -4,-127 198.4652,-127 198.4652,4 -4,4\"/>\n",
       "<!-- 0 -->\n",
       "<g id=\"node1\" class=\"node\">\n",
       "<title>0</title>\n",
       "<ellipse fill=\"none\" stroke=\"#000000\" cx=\"73.4652\" cy=\"-105\" rx=\"27\" ry=\"18\"/>\n",
       "<text text-anchor=\"middle\" x=\"73.4652\" y=\"-101.3\" font-family=\"Times,serif\" font-size=\"14.00\" fill=\"#000000\">0</text>\n",
       "</g>\n",
       "<!-- 0&#45;&gt;0 -->\n",
       "<g id=\"edge2\" class=\"edge\">\n",
       "<title>0&#45;&gt;0</title>\n",
       "<path fill=\"none\" stroke=\"#000000\" d=\"M97.9977,-112.752C108.973,-113.4902 118.4652,-110.9063 118.4652,-105 118.4652,-101.0317 114.1803,-98.5632 108.0395,-97.5944\"/>\n",
       "<polygon fill=\"#000000\" stroke=\"#000000\" points=\"108.1124,-94.0949 97.9977,-97.248 107.8711,-101.0908 108.1124,-94.0949\"/>\n",
       "<text text-anchor=\"middle\" x=\"156.4652\" y=\"-101.3\" font-family=\"Times,serif\" font-size=\"14.00\" fill=\"#000000\">A:&lt;eps&gt;:5.00</text>\n",
       "</g>\n",
       "<!-- 1 -->\n",
       "<g id=\"node2\" class=\"node\">\n",
       "<title>1</title>\n",
       "<ellipse fill=\"none\" stroke=\"#000000\" cx=\"73.4652\" cy=\"-18\" rx=\"27\" ry=\"18\"/>\n",
       "<text text-anchor=\"middle\" x=\"73.4652\" y=\"-14.3\" font-family=\"Times,serif\" font-size=\"14.00\" fill=\"#000000\">1</text>\n",
       "</g>\n",
       "<!-- 0&#45;&gt;1 -->\n",
       "<g id=\"edge1\" class=\"edge\">\n",
       "<title>0&#45;&gt;1</title>\n",
       "<path fill=\"none\" stroke=\"#000000\" d=\"M47.774,-99.0298C32.0158,-93.8984 13.075,-84.7483 3.4652,-69 -7.8425,-50.4691 15.868,-36.6189 38.6952,-28.0637\"/>\n",
       "<polygon fill=\"#000000\" stroke=\"#000000\" points=\"40.0201,-31.3088 48.3195,-24.7232 37.7247,-24.6958 40.0201,-31.3088\"/>\n",
       "<text text-anchor=\"middle\" x=\"27.4652\" y=\"-57.8\" font-family=\"Times,serif\" font-size=\"14.00\" fill=\"#000000\">A:a:2.00</text>\n",
       "</g>\n",
       "<!-- 0&#45;&gt;1 -->\n",
       "<g id=\"edge3\" class=\"edge\">\n",
       "<title>0&#45;&gt;1</title>\n",
       "<path fill=\"none\" stroke=\"#000000\" d=\"M73.4652,-86.9735C73.4652,-75.1918 73.4652,-59.5607 73.4652,-46.1581\"/>\n",
       "<polygon fill=\"#000000\" stroke=\"#000000\" points=\"76.9653,-46.0033 73.4652,-36.0034 69.9653,-46.0034 76.9653,-46.0033\"/>\n",
       "<text text-anchor=\"middle\" x=\"97.4652\" y=\"-57.8\" font-family=\"Times,serif\" font-size=\"14.00\" fill=\"#000000\">B:b:3.00</text>\n",
       "</g>\n",
       "<!-- 1&#45;&gt;0 -->\n",
       "<g id=\"edge4\" class=\"edge\">\n",
       "<title>1&#45;&gt;0</title>\n",
       "<path fill=\"none\" stroke=\"#000000\" d=\"M95.6587,-28.3523C112.2861,-37.6865 130.8386,-52.4578 122.4652,-69 118.3876,-77.0555 111.565,-83.7468 104.2868,-89.0863\"/>\n",
       "<polygon fill=\"#000000\" stroke=\"#000000\" points=\"102.1153,-86.3247 95.6707,-94.7341 105.9529,-92.1791 102.1153,-86.3247\"/>\n",
       "<text text-anchor=\"middle\" x=\"153.4652\" y=\"-57.8\" font-family=\"Times,serif\" font-size=\"14.00\" fill=\"#000000\">pau:_:1.00</text>\n",
       "</g>\n",
       "</g>\n",
       "</svg>\n"
      ],
      "text/plain": [
       "<graphviz.graphs.Digraph at 0x7f221e7c3640>"
      ]
     },
     "metadata": {},
     "output_type": "display_data"
    },
    {
     "data": {
      "application/vnd.jupyter.widget-view+json": {
       "model_id": "392f0157752a47fcb2f91c234e4aee1f",
       "version_major": 2,
       "version_minor": 0
      },
      "text/plain": [
       "  0%|          | 0/3 [00:00<?, ?it/s]"
      ]
     },
     "metadata": {},
     "output_type": "display_data"
    },
    {
     "name": "stdout",
     "output_type": "stream",
     "text": [
      "Found 1 hypotheses\n"
     ]
    },
    {
     "data": {
      "application/vnd.jupyter.widget-view+json": {
       "model_id": "b5ce2e69c9ca4c9e87182a7ba955f08e",
       "version_major": 2,
       "version_minor": 0
      },
      "text/plain": [
       "  0%|          | 0/3 [00:00<?, ?it/s]"
      ]
     },
     "metadata": {},
     "output_type": "display_data"
    },
    {
     "name": "stdout",
     "output_type": "stream",
     "text": [
      "Found 1 hypotheses\n"
     ]
    },
    {
     "data": {
      "image/svg+xml": [
       "<?xml version=\"1.0\" encoding=\"UTF-8\" standalone=\"no\"?>\n",
       "<!DOCTYPE svg PUBLIC \"-//W3C//DTD SVG 1.1//EN\"\n",
       " \"http://www.w3.org/Graphics/SVG/1.1/DTD/svg11.dtd\">\n",
       "<!-- Generated by graphviz version 2.40.1 (20161225.0304)\n",
       " -->\n",
       "<!-- Title: %3 Pages: 1 -->\n",
       "<svg width=\"300pt\" height=\"131pt\"\n",
       " viewBox=\"0.00 0.00 300.47 131.00\" xmlns=\"http://www.w3.org/2000/svg\" xmlns:xlink=\"http://www.w3.org/1999/xlink\">\n",
       "<g id=\"graph0\" class=\"graph\" transform=\"scale(1 1) rotate(0) translate(4 127)\">\n",
       "<title>%3</title>\n",
       "<polygon fill=\"#ffffff\" stroke=\"transparent\" points=\"-4,4 -4,-127 296.4652,-127 296.4652,4 -4,4\"/>\n",
       "<!-- 0 -->\n",
       "<g id=\"node1\" class=\"node\">\n",
       "<title>0</title>\n",
       "<ellipse fill=\"none\" stroke=\"#000000\" cx=\"73.4652\" cy=\"-105\" rx=\"27\" ry=\"18\"/>\n",
       "<text text-anchor=\"middle\" x=\"73.4652\" y=\"-101.3\" font-family=\"Times,serif\" font-size=\"14.00\" fill=\"#000000\">0</text>\n",
       "</g>\n",
       "<!-- 0&#45;&gt;0 -->\n",
       "<g id=\"edge2\" class=\"edge\">\n",
       "<title>0&#45;&gt;0</title>\n",
       "<path fill=\"none\" stroke=\"#000000\" d=\"M100.2601,-108.9288C110.2456,-109.0577 118.4652,-107.748 118.4652,-105 118.4652,-103.2825 115.2544,-102.1268 110.4085,-101.5331\"/>\n",
       "<polygon fill=\"#000000\" stroke=\"#000000\" points=\"110.4089,-98.0296 100.2601,-101.0712 110.0906,-105.0223 110.4089,-98.0296\"/>\n",
       "<text text-anchor=\"middle\" x=\"156.4652\" y=\"-101.3\" font-family=\"Times,serif\" font-size=\"14.00\" fill=\"#000000\">A:&lt;eps&gt;:5.00</text>\n",
       "</g>\n",
       "<!-- 0&#45;&gt;0 -->\n",
       "<g id=\"edge4\" class=\"edge\">\n",
       "<title>0&#45;&gt;0</title>\n",
       "<path fill=\"none\" stroke=\"#000000\" d=\"M99.2279,-110.685C136.1457,-114.9136 194.4652,-113.0186 194.4652,-105 194.4652,-97.7019 146.1543,-95.4764 109.6389,-98.3235\"/>\n",
       "<polygon fill=\"#000000\" stroke=\"#000000\" points=\"108.851,-94.8826 99.2279,-99.315 109.5147,-101.8511 108.851,-94.8826\"/>\n",
       "<text text-anchor=\"middle\" x=\"234.4652\" y=\"-101.3\" font-family=\"Times,serif\" font-size=\"14.00\" fill=\"#000000\">B:&lt;eps&gt;:&#45;1.00</text>\n",
       "</g>\n",
       "<!-- 1 -->\n",
       "<g id=\"node2\" class=\"node\">\n",
       "<title>1</title>\n",
       "<ellipse fill=\"none\" stroke=\"#000000\" cx=\"73.4652\" cy=\"-18\" rx=\"27\" ry=\"18\"/>\n",
       "<text text-anchor=\"middle\" x=\"73.4652\" y=\"-14.3\" font-family=\"Times,serif\" font-size=\"14.00\" fill=\"#000000\">1</text>\n",
       "</g>\n",
       "<!-- 0&#45;&gt;1 -->\n",
       "<g id=\"edge1\" class=\"edge\">\n",
       "<title>0&#45;&gt;1</title>\n",
       "<path fill=\"none\" stroke=\"#000000\" d=\"M47.774,-99.0298C32.0158,-93.8984 13.075,-84.7483 3.4652,-69 -7.8425,-50.4691 15.868,-36.6189 38.6952,-28.0637\"/>\n",
       "<polygon fill=\"#000000\" stroke=\"#000000\" points=\"40.0201,-31.3088 48.3195,-24.7232 37.7247,-24.6958 40.0201,-31.3088\"/>\n",
       "<text text-anchor=\"middle\" x=\"27.4652\" y=\"-57.8\" font-family=\"Times,serif\" font-size=\"14.00\" fill=\"#000000\">A:a:2.00</text>\n",
       "</g>\n",
       "<!-- 0&#45;&gt;1 -->\n",
       "<g id=\"edge3\" class=\"edge\">\n",
       "<title>0&#45;&gt;1</title>\n",
       "<path fill=\"none\" stroke=\"#000000\" d=\"M73.4652,-86.9735C73.4652,-75.1918 73.4652,-59.5607 73.4652,-46.1581\"/>\n",
       "<polygon fill=\"#000000\" stroke=\"#000000\" points=\"76.9653,-46.0033 73.4652,-36.0034 69.9653,-46.0034 76.9653,-46.0033\"/>\n",
       "<text text-anchor=\"middle\" x=\"97.4652\" y=\"-57.8\" font-family=\"Times,serif\" font-size=\"14.00\" fill=\"#000000\">B:b:3.00</text>\n",
       "</g>\n",
       "<!-- 1&#45;&gt;0 -->\n",
       "<g id=\"edge5\" class=\"edge\">\n",
       "<title>1&#45;&gt;0</title>\n",
       "<path fill=\"none\" stroke=\"#000000\" d=\"M95.6587,-28.3523C112.2861,-37.6865 130.8386,-52.4578 122.4652,-69 118.3876,-77.0555 111.565,-83.7468 104.2868,-89.0863\"/>\n",
       "<polygon fill=\"#000000\" stroke=\"#000000\" points=\"102.1153,-86.3247 95.6707,-94.7341 105.9529,-92.1791 102.1153,-86.3247\"/>\n",
       "<text text-anchor=\"middle\" x=\"153.4652\" y=\"-57.8\" font-family=\"Times,serif\" font-size=\"14.00\" fill=\"#000000\">pau:_:1.00</text>\n",
       "</g>\n",
       "</g>\n",
       "</svg>\n"
      ],
      "text/plain": [
       "<graphviz.graphs.Digraph at 0x7f2236bb9d30>"
      ]
     },
     "metadata": {},
     "output_type": "display_data"
    },
    {
     "data": {
      "application/vnd.jupyter.widget-view+json": {
       "model_id": "58cb002959854dd0a9362f627e550991",
       "version_major": 2,
       "version_minor": 0
      },
      "text/plain": [
       "  0%|          | 0/3 [00:00<?, ?it/s]"
      ]
     },
     "metadata": {},
     "output_type": "display_data"
    },
    {
     "name": "stdout",
     "output_type": "stream",
     "text": [
      "Found 1 hypotheses\n",
      "Test 2.c passed\n"
     ]
    }
   ],
   "source": [
    "def test_beam_search():\n",
    "    \n",
    "    graph = WFST(isymbols=SymbolsMap(id2symbol=['<eps>', 'pau', 'A', 'B']),\n",
    "                 osymbols=SymbolsMap(id2symbol=['<eps>', 'err', '_', 'a', 'b']))\n",
    "    s = graph.new_state()\n",
    "    graph.add_arc(0, Arc(2, 3, 2.0, s))\n",
    "    graph.add_arc(0, Arc(3, 4, 3.0, s))\n",
    "    graph.add_arc(s, Arc(1, 2, 1.0, 0))\n",
    "    graph.set_final(s)\n",
    "\n",
    "    display.display(graph.to_dot())\n",
    "                 \n",
    "    searcher = BeamSearcher(am2phone_mapping={0: 'pau', 1: 'A', 2: 'B'}, graph=graph, beam_size=10)\n",
    "    #                   p  A  B\n",
    "    logits = np.array([[-1, -1, -1],\n",
    "                       [0, 0, 0],\n",
    "                       [-100, -100, -100]])\n",
    "    best_hyp = searcher.decode(logits)\n",
    "    assert best_hyp == Hypothesis((-1+2) + (-0+1) + (-100+2) , 2, ['a', '_', 'a'], s), best_hyp\n",
    "    logits = np.array([[1, 4, 1],\n",
    "                       [100, 0, 0],\n",
    "                       [100, 100, 100]])\n",
    "    best_hyp = searcher.decode(logits)\n",
    "    assert best_hyp == Hypothesis((1+3) + (100+1) + (100+2) , 2, ['b', '_', 'a'], s), best_hyp\n",
    "    \n",
    "    searcher.graph.add_arc(0, Arc(2, 0, 5.0, 0))\n",
    "    display.display(searcher.graph.to_dot())\n",
    "    logits = np.array([[1, 2, 0],\n",
    "                       [10, 0, 0],\n",
    "                       [100, 100, 100]])\n",
    "    best_hyp = searcher.decode(logits)\n",
    "    assert best_hyp == Hypothesis((2+5) + (0+5) + (100+2) , 2, ['a'], s), best_hyp\n",
    "\n",
    "    logits = np.array([[1, 20, 4], # beam pruning must remove A-loop hypothesis\n",
    "                       [1000, 0, 0],\n",
    "                       [100, 100, 100]])\n",
    "    best_hyp = searcher.decode(logits)\n",
    "    assert best_hyp == Hypothesis((4+3) + (1000+1) + (100+2) , 2, ['b', '_', 'a'], s), best_hyp\n",
    "\n",
    "    searcher.graph.add_arc(0, Arc(3, 0, -1, 0))\n",
    "    display.display(searcher.graph.to_dot())\n",
    "    logits = np.array([[1, 2, 0],\n",
    "                       [10, 0, 0],\n",
    "                       [100, 100, 100]])\n",
    "    best_hyp = searcher.decode(logits)\n",
    "    assert best_hyp == Hypothesis((0-1) + (0-1) + (100+2) , 2, ['a'], s), best_hyp\n",
    "\n",
    "    print(f\"Test 2.c passed\")\n",
    "test_beam_search()                      "
   ]
  },
  {
   "cell_type": "markdown",
   "id": "37c85696-b4fa-487a-845c-c8d0203a4753",
   "metadata": {},
   "source": [
    "### WFST представление нграмной языковой модели \n",
    "Для подсчета языковой модели будем использовать библиотеку kenlm. Данная библиотека позволяет подсчитывать языковую вероятность с помощью нграмной языковой модели. \n",
    "\n",
    "Создадим обертку над kenlm.Model, реализующую интерфейс AbstractWFST"
   ]
  },
  {
   "cell_type": "code",
   "execution_count": 24,
   "id": "1192ca61-a0c2-43f0-8954-83840989c030",
   "metadata": {},
   "outputs": [],
   "source": [
    "class kenlmLikeWFST(AbstractWFST):\n",
    "    \"\"\"Оборачиваем kenlm в унифицированный интерфейс\"\"\"\n",
    "    def __init__(self, lm: kenlm.Model, lmwt_factor=0.01):\n",
    "        self.lm = lm\n",
    "        self.lmwt_factor = lmwt_factor\n",
    "        \n",
    "    def get_start(self):\n",
    "        state = kenlm.State()\n",
    "        self.lm.BeginSentenceWrite(state)\n",
    "        return state\n",
    "        \n",
    "    def final_score(self, state: kenlm.State):\n",
    "        logprob = self.lm.BaseScore(state, \"</s>\", kenlm.State())\n",
    "        return self._log10_to_nll(logprob)\n",
    "        \n",
    "    def _log10_to_nll(self, logprob):\n",
    "        \"\"\"переводим в negative натуральный логирифм \"\"\"\n",
    "        return - np.log(10**logprob)\n",
    "        \n",
    "    def transduce(self, state: kenlm.State, ilabel: str):\n",
    "        assert isinstance(ilabel, str), ilabel\n",
    "        if ilabel == '<eps>':\n",
    "            # skip <eps> input\n",
    "            return [('<eps>', 0, state), ]\n",
    "        state2 = kenlm.State()\n",
    "        logprob = self.lm.BaseScore(state, ilabel, state2)\n",
    "        return [(ilabel, self.lmwt_factor * self._log10_to_nll(logprob), state2), ]\n",
    "    "
   ]
  },
  {
   "cell_type": "markdown",
   "id": "fd124f1a-0232-48c0-933a-ef5247ab46ed",
   "metadata": {},
   "source": [
    "## Запускаем декодирование\n"
   ]
  },
  {
   "cell_type": "code",
   "execution_count": 25,
   "id": "eb39324b-a225-4e8d-914a-5dd99e1ddb7b",
   "metadata": {},
   "outputs": [],
   "source": [
    "# Заранее подготовленные negative log probability от модели из работы №3\n",
    "with ReadHelper('ark:resources/lab4/test_am_nlogprobs.ark') as am_nlogprob_reader:\n",
    "    am_nlogprobs = {uri: am_logprob  for uri, am_logprob in am_nlogprob_reader}"
   ]
  },
  {
   "cell_type": "code",
   "execution_count": 26,
   "id": "d745f0de-a7e2-4b01-b363-cb984ea4d747",
   "metadata": {},
   "outputs": [
    {
     "name": "stdout",
     "output_type": "stream",
     "text": [
      "She had your dark suit in greasy wash water all year\n"
     ]
    }
   ],
   "source": [
    "# Выбираем один пример для отладки пайплайна\n",
    "example = am_nlogprobs['timit/data/TEST/DR1/FAKS0/SA1']\n",
    "with open('../../asr_itmo_practice/timit/data/TEST/DR1/FAKS0/SA1.TXT') as f:\n",
    "    example_ref = ' '.join(f.read().replace('.', ' ').split()[2:])\n",
    "print(example_ref)"
   ]
  },
  {
   "cell_type": "code",
   "execution_count": 27,
   "id": "d3a3d464-41b5-46a4-95bc-d0e4900549cc",
   "metadata": {},
   "outputs": [],
   "source": [
    "h_fst = create_h_wfst()\n",
    "l_fst = create_Lwfst_from_file(stay_in_silence_penalty=0.0, word_insertion_penalty=1.0)"
   ]
  },
  {
   "cell_type": "code",
   "execution_count": 28,
   "id": "3549d2da-0501-4be5-be8b-ec6ea8085f01",
   "metadata": {},
   "outputs": [
    {
     "data": {
      "application/vnd.jupyter.widget-view+json": {
       "model_id": "ac4627237d484ba0b78eb82714d2f81e",
       "version_major": 2,
       "version_minor": 0
      },
      "text/plain": [
       "  0%|          | 0/198 [00:00<?, ?it/s]"
      ]
     },
     "metadata": {},
     "output_type": "display_data"
    },
    {
     "name": "stdout",
     "output_type": "stream",
     "text": [
      "Found 1 hypotheses\n",
      "Hypothesis(score=inf, time=197, words=[], state=(0, 28541)) WER:  1.0\n"
     ]
    }
   ],
   "source": [
    "# пробуем разные варианты\n",
    "ASR = BeamSearcher(am2phone_mapping=AM_PHONES, \n",
    "                   graph=OnTheFlyCompose([h_fst, l_fst]),\n",
    "                   beam_size=0)   \n",
    "hyp = ASR.decode(example)\n",
    "print(hyp, \"WER: \", jiwer.wer(example_ref, ' '.join(hyp.words)))\n",
    "\n",
    "# Hypothesis(score=inf, time=197, words=[], state=(0, 28541)) WER:  1.0"
   ]
  },
  {
   "cell_type": "code",
   "execution_count": 29,
   "id": "b8588eab-859f-4b12-9030-e71e0be28573",
   "metadata": {},
   "outputs": [
    {
     "data": {
      "application/vnd.jupyter.widget-view+json": {
       "model_id": "c01312eee24a4250bcf82698e9f65801",
       "version_major": 2,
       "version_minor": 0
      },
      "text/plain": [
       "  0%|          | 0/198 [00:00<?, ?it/s]"
      ]
     },
     "metadata": {},
     "output_type": "display_data"
    },
    {
     "name": "stdout",
     "output_type": "stream",
     "text": [
      "Found 1 hypotheses\n",
      "Hypothesis(score=-634.8072872315479, time=197, words=['she', 'had', 'your', 'dark', 'suit', 'in', 'greasy', 'wash', 'water', 'all', 'year'], state=(0, 0)) WER:  0.09090909090909091\n"
     ]
    }
   ],
   "source": [
    "ASR = BeamSearcher(am2phone_mapping=AM_PHONES, \n",
    "                   graph=OnTheFlyCompose([h_fst, l_fst]),\n",
    "                   beam_size=6)\n",
    "hyp = ASR.decode(example)\n",
    "print(hyp, \"WER: \", jiwer.wer(example_ref, ' '.join(hyp.words)))\n",
    "\n",
    "# Hypothesis(score=-634.8072872315479,\n",
    "# time=197, \n",
    "# words=['she', 'had', 'your', 'dark', 'suit', 'in', 'greasy', 'wash', 'water', 'all', 'year'],\n",
    "# state=(0, 0)) WER:  0.09090909090909091"
   ]
  },
  {
   "cell_type": "code",
   "execution_count": 30,
   "id": "3c37279e-6610-44e7-b43f-ea831ef52d19",
   "metadata": {},
   "outputs": [
    {
     "name": "stderr",
     "output_type": "stream",
     "text": [
      "Loading the LM will be faster if you build a binary file.\n",
      "Reading /mnt/storage/kocharyan/additional_asr/asr_itmo_practice/resources/lab4/3gram.arpa\n",
      "----5---10---15---20---25---30---35---40---45---50---55---60---65---70---75---80---85---90---95--100\n",
      "The ARPA file is missing <unk>.  Substituting log10 probability -100.\n",
      "****************************************************************************************************\n"
     ]
    },
    {
     "data": {
      "application/vnd.jupyter.widget-view+json": {
       "model_id": "30bad5c640894f4095fe60401fe92ed1",
       "version_major": 2,
       "version_minor": 0
      },
      "text/plain": [
       "  0%|          | 0/198 [00:00<?, ?it/s]"
      ]
     },
     "metadata": {},
     "output_type": "display_data"
    },
    {
     "name": "stdout",
     "output_type": "stream",
     "text": [
      "Found 1 hypotheses\n",
      "Hypothesis(score=inf, time=197, words=['she', 'had', 'your', 'dark', 'suit', 'in', 'greasy', 'wash', 'water', 'all', 'year'], state=(0, 0, <kenlm.State object at 0x7f69547236f0>)) WER:  0.09090909090909091\n"
     ]
    }
   ],
   "source": [
    "lm = kenlmLikeWFST(kenlm.LanguageModel('resources/lab4/3gram.arpa'), lmwt_factor=0.2)\n",
    "ASR = BeamSearcher(am2phone_mapping=AM_PHONES, \n",
    "                   graph=OnTheFlyCompose([h_fst, l_fst, lm]), \n",
    "                   beam_size=6) \n",
    "hyp = ASR.decode(example)\n",
    "print(hyp, \"WER: \", jiwer.wer(example_ref, ' '.join(hyp.words))) \n",
    "\n",
    "# Hypothesis(score=-624.2866933483066, \n",
    "# time=197, \n",
    "# words=['she', 'had', 'your', 'dark', 'suit', 'in', 'greasy', 'wash', 'water', 'all', 'year'], \n",
    "# state=(0, 0, <kenlm.State object at 0x7fa93c7c1070>)) WER:  0.09090909090909091 "
   ]
  },
  {
   "cell_type": "markdown",
   "id": "81474c81-99af-497a-a1f1-e9b85e8c39d5",
   "metadata": {},
   "source": [
    "### финальное задание\n",
    "Постройте графики зависимости WER на example и времени работы декодирования от таких параметров как: \n",
    "* lmwt_factor\n",
    "* stay_in_silence_penalty\n",
    "* word_insertion_penalty\n",
    "* beam\n",
    "\n",
    "Выберите оптимальные по соотношению WER/time параметры. "
   ]
  },
  {
   "cell_type": "code",
   "execution_count": 31,
   "id": "7d20e693-bcb3-4937-907a-9c1546795a74",
   "metadata": {},
   "outputs": [],
   "source": [
    "#TODO\n",
    "from functools import partial\n",
    "from itertools import product\n",
    "import pandas as pd\n",
    "from copy import copy, deepcopy\n",
    "import time\n",
    "import matplotlib.pyplot as plt\n",
    "\n",
    "\n",
    "def calculate_wer(lmwt_factor, stay_in_silence_penalty, word_insertion_penalty, beam, example, example_ref):\n",
    "    \n",
    "    h_fst = create_h_wfst()\n",
    "    create_Lwfst_from_file(stay_in_silence_penalty=stay_in_silence_penalty, word_insertion_penalty=word_insertion_penalty)\n",
    "    lm = kenlmLikeWFST(kenlm.LanguageModel('resources/lab4/3gram.arpa'), lmwt_factor=lmwt_factor)\n",
    "    graph = OnTheFlyCompose([h_fst, l_fst, lm])\n",
    "    ASR = BeamSearcher(am2phone_mapping=AM_PHONES, graph=graph, beam_size=beam)\n",
    "    \n",
    "    start_time = time.time()\n",
    "    hyp = ASR.decode(example)\n",
    "    exec_time = time.time() - start_time\n",
    "    \n",
    "    return jiwer.wer(example_ref, ' '.join(hyp.words)), exec_time\n",
    "\n",
    "\n",
    "def brute_force():\n",
    "    \n",
    "    params_grid = {\n",
    "        \"lmwt_factor\": [0., .01, .05, .1], \n",
    "        \"stay_in_silence_penalty\": [0., .025, .1, .5], \n",
    "        \"word_insertion_penalty\": [0, .5, 1.5, 3.], \n",
    "        \"beam\": [1, 2, 4, 6],\n",
    "    }\n",
    "    # TODO: При наличии времени наверное можно проанализировать на всем декартовом произведении\n",
    "    # Однако на данный момент можно оставить параметры (закрепить) по умолчанию и перебирать только один из них\n",
    "    # Дефолтные значения параметров из сигнатур функций, определенных выше :\n",
    "    default_params = {\"lmwt_factor\": 0.01, \"stay_in_silence_penalty\": 0.01, \"word_insertion_penalty\":0.5, \"beam\": 3}\n",
    "    partial_wer = partial(calculate_wer, example=example, example_ref=example_ref)\n",
    "    results = []\n",
    "\n",
    "    # plt.ioff()\n",
    "    # fig, axs = plt.subplots(1, 2, figsize=(15, 8), sharex=False, sharey=False)\n",
    "    \n",
    "    for j, params in enumerate(params_grid):\n",
    "        \n",
    "        kwargs          = copy(default_params)\n",
    "        wers_per_param  = []\n",
    "        times_per_param = []\n",
    "        \n",
    "        for i, param in enumerate(params_grid[params]):\n",
    "            \n",
    "            kwargs[params] = param\n",
    "            wer, time = partial_wer(**kwargs)\n",
    "            results.append({**kwargs, **{\"WER\": wer, \"time\": time}})\n",
    "            \n",
    "            # wers_per_param.append(wer)\n",
    "            # times_per_param.append(time)\n",
    "\n",
    "        # ax = axs[j//2, j%2]\n",
    "        # ax.plot(params_grid[params], wers_per_param, label=f'{params}')\n",
    "        # ax.plot(params_grid[params], times_per_param, label=f'times')\n",
    "        # ax.legend()\n",
    "        # ax.set_title(f'variations of {params}')\n",
    "    \n",
    "    return pd.DataFrame(results) # , plt"
   ]
  },
  {
   "cell_type": "code",
   "execution_count": 152,
   "id": "c57ffdb8-085e-48e8-b12d-41c10abd236c",
   "metadata": {},
   "outputs": [
    {
     "name": "stderr",
     "output_type": "stream",
     "text": [
      "Loading the LM will be faster if you build a binary file.\n",
      "Reading /mnt/storage/kocharyan/additional_asr/asr_itmo_practice/resources/lab4/3gram.arpa\n",
      "----5---10---15---20---25---30---35---40---45---50---55---60---65---70---75---80---85---90---95--100\n",
      "The ARPA file is missing <unk>.  Substituting log10 probability -100.\n",
      "****************************************************************************************************\n"
     ]
    },
    {
     "data": {
      "application/vnd.jupyter.widget-view+json": {
       "model_id": "21032d1fe3854c9b8a0d1f70b62157bf",
       "version_major": 2,
       "version_minor": 0
      },
      "text/plain": [
       "  0%|          | 0/198 [00:00<?, ?it/s]"
      ]
     },
     "metadata": {},
     "output_type": "display_data"
    },
    {
     "name": "stdout",
     "output_type": "stream",
     "text": [
      "Found 1 hypotheses\n"
     ]
    },
    {
     "name": "stderr",
     "output_type": "stream",
     "text": [
      "Loading the LM will be faster if you build a binary file.\n",
      "Reading /mnt/storage/kocharyan/additional_asr/asr_itmo_practice/resources/lab4/3gram.arpa\n",
      "----5---10---15---20---25---30---35---40---45---50---55---60---65---70---75---80---85---90---95--100\n",
      "The ARPA file is missing <unk>.  Substituting log10 probability -100.\n",
      "****************************************************************************************************\n"
     ]
    },
    {
     "data": {
      "application/vnd.jupyter.widget-view+json": {
       "model_id": "dcbb254b044b403d82e0f52a2ccc163d",
       "version_major": 2,
       "version_minor": 0
      },
      "text/plain": [
       "  0%|          | 0/198 [00:00<?, ?it/s]"
      ]
     },
     "metadata": {},
     "output_type": "display_data"
    },
    {
     "name": "stdout",
     "output_type": "stream",
     "text": [
      "Found 1 hypotheses\n"
     ]
    },
    {
     "name": "stderr",
     "output_type": "stream",
     "text": [
      "Loading the LM will be faster if you build a binary file.\n",
      "Reading /mnt/storage/kocharyan/additional_asr/asr_itmo_practice/resources/lab4/3gram.arpa\n",
      "----5---10---15---20---25---30---35---40---45---50---55---60---65---70---75---80---85---90---95--100\n",
      "The ARPA file is missing <unk>.  Substituting log10 probability -100.\n",
      "****************************************************************************************************\n"
     ]
    },
    {
     "data": {
      "application/vnd.jupyter.widget-view+json": {
       "model_id": "b84d32e595394c4ea9e31a9b63920456",
       "version_major": 2,
       "version_minor": 0
      },
      "text/plain": [
       "  0%|          | 0/198 [00:00<?, ?it/s]"
      ]
     },
     "metadata": {},
     "output_type": "display_data"
    },
    {
     "name": "stdout",
     "output_type": "stream",
     "text": [
      "Found 1 hypotheses\n"
     ]
    },
    {
     "name": "stderr",
     "output_type": "stream",
     "text": [
      "Loading the LM will be faster if you build a binary file.\n",
      "Reading /mnt/storage/kocharyan/additional_asr/asr_itmo_practice/resources/lab4/3gram.arpa\n",
      "----5---10---15---20---25---30---35---40---45---50---55---60---65---70---75---80---85---90---95--100\n",
      "The ARPA file is missing <unk>.  Substituting log10 probability -100.\n",
      "****************************************************************************************************\n"
     ]
    },
    {
     "data": {
      "application/vnd.jupyter.widget-view+json": {
       "model_id": "66abceec30514b0e81b901b429e262a4",
       "version_major": 2,
       "version_minor": 0
      },
      "text/plain": [
       "  0%|          | 0/198 [00:00<?, ?it/s]"
      ]
     },
     "metadata": {},
     "output_type": "display_data"
    },
    {
     "name": "stdout",
     "output_type": "stream",
     "text": [
      "Found 1 hypotheses\n"
     ]
    },
    {
     "name": "stderr",
     "output_type": "stream",
     "text": [
      "Loading the LM will be faster if you build a binary file.\n",
      "Reading /mnt/storage/kocharyan/additional_asr/asr_itmo_practice/resources/lab4/3gram.arpa\n",
      "----5---10---15---20---25---30---35---40---45---50---55---60---65---70---75---80---85---90---95--100\n",
      "The ARPA file is missing <unk>.  Substituting log10 probability -100.\n",
      "****************************************************************************************************\n"
     ]
    },
    {
     "data": {
      "application/vnd.jupyter.widget-view+json": {
       "model_id": "7c67df0b1b7546e6b1128cbd317284a9",
       "version_major": 2,
       "version_minor": 0
      },
      "text/plain": [
       "  0%|          | 0/198 [00:00<?, ?it/s]"
      ]
     },
     "metadata": {},
     "output_type": "display_data"
    },
    {
     "name": "stdout",
     "output_type": "stream",
     "text": [
      "Found 1 hypotheses\n"
     ]
    },
    {
     "name": "stderr",
     "output_type": "stream",
     "text": [
      "Loading the LM will be faster if you build a binary file.\n",
      "Reading /mnt/storage/kocharyan/additional_asr/asr_itmo_practice/resources/lab4/3gram.arpa\n",
      "----5---10---15---20---25---30---35---40---45---50---55---60---65---70---75---80---85---90---95--100\n",
      "The ARPA file is missing <unk>.  Substituting log10 probability -100.\n",
      "****************************************************************************************************\n"
     ]
    },
    {
     "data": {
      "application/vnd.jupyter.widget-view+json": {
       "model_id": "95608ed58c8e4f739105317643b5ffef",
       "version_major": 2,
       "version_minor": 0
      },
      "text/plain": [
       "  0%|          | 0/198 [00:00<?, ?it/s]"
      ]
     },
     "metadata": {},
     "output_type": "display_data"
    },
    {
     "name": "stdout",
     "output_type": "stream",
     "text": [
      "Found 1 hypotheses\n"
     ]
    },
    {
     "name": "stderr",
     "output_type": "stream",
     "text": [
      "Loading the LM will be faster if you build a binary file.\n",
      "Reading /mnt/storage/kocharyan/additional_asr/asr_itmo_practice/resources/lab4/3gram.arpa\n",
      "----5---10---15---20---25---30---35---40---45---50---55---60---65---70---75---80---85---90---95--100\n",
      "The ARPA file is missing <unk>.  Substituting log10 probability -100.\n",
      "****************************************************************************************************\n"
     ]
    },
    {
     "data": {
      "application/vnd.jupyter.widget-view+json": {
       "model_id": "a4fe7c1e5ee141e6a97f5f46836dd48e",
       "version_major": 2,
       "version_minor": 0
      },
      "text/plain": [
       "  0%|          | 0/198 [00:00<?, ?it/s]"
      ]
     },
     "metadata": {},
     "output_type": "display_data"
    },
    {
     "name": "stdout",
     "output_type": "stream",
     "text": [
      "Found 1 hypotheses\n"
     ]
    },
    {
     "name": "stderr",
     "output_type": "stream",
     "text": [
      "Loading the LM will be faster if you build a binary file.\n",
      "Reading /mnt/storage/kocharyan/additional_asr/asr_itmo_practice/resources/lab4/3gram.arpa\n",
      "----5---10---15---20---25---30---35---40---45---50---55---60---65---70---75---80---85---90---95--100\n",
      "The ARPA file is missing <unk>.  Substituting log10 probability -100.\n",
      "****************************************************************************************************\n"
     ]
    },
    {
     "data": {
      "application/vnd.jupyter.widget-view+json": {
       "model_id": "0d543e0db4324d01bff231d0590cdd49",
       "version_major": 2,
       "version_minor": 0
      },
      "text/plain": [
       "  0%|          | 0/198 [00:00<?, ?it/s]"
      ]
     },
     "metadata": {},
     "output_type": "display_data"
    },
    {
     "name": "stdout",
     "output_type": "stream",
     "text": [
      "Found 1 hypotheses\n"
     ]
    },
    {
     "name": "stderr",
     "output_type": "stream",
     "text": [
      "Loading the LM will be faster if you build a binary file.\n",
      "Reading /mnt/storage/kocharyan/additional_asr/asr_itmo_practice/resources/lab4/3gram.arpa\n",
      "----5---10---15---20---25---30---35---40---45---50---55---60---65---70---75---80---85---90---95--100\n",
      "The ARPA file is missing <unk>.  Substituting log10 probability -100.\n",
      "****************************************************************************************************\n"
     ]
    },
    {
     "data": {
      "application/vnd.jupyter.widget-view+json": {
       "model_id": "356ae8a733e34d969fe7472731b11371",
       "version_major": 2,
       "version_minor": 0
      },
      "text/plain": [
       "  0%|          | 0/198 [00:00<?, ?it/s]"
      ]
     },
     "metadata": {},
     "output_type": "display_data"
    },
    {
     "name": "stdout",
     "output_type": "stream",
     "text": [
      "Found 1 hypotheses\n"
     ]
    },
    {
     "name": "stderr",
     "output_type": "stream",
     "text": [
      "Loading the LM will be faster if you build a binary file.\n",
      "Reading /mnt/storage/kocharyan/additional_asr/asr_itmo_practice/resources/lab4/3gram.arpa\n",
      "----5---10---15---20---25---30---35---40---45---50---55---60---65---70---75---80---85---90---95--100\n",
      "The ARPA file is missing <unk>.  Substituting log10 probability -100.\n",
      "****************************************************************************************************\n"
     ]
    },
    {
     "data": {
      "application/vnd.jupyter.widget-view+json": {
       "model_id": "87d67b71c9504fbb86e73ffeb908bf69",
       "version_major": 2,
       "version_minor": 0
      },
      "text/plain": [
       "  0%|          | 0/198 [00:00<?, ?it/s]"
      ]
     },
     "metadata": {},
     "output_type": "display_data"
    },
    {
     "name": "stdout",
     "output_type": "stream",
     "text": [
      "Found 1 hypotheses\n"
     ]
    },
    {
     "name": "stderr",
     "output_type": "stream",
     "text": [
      "Loading the LM will be faster if you build a binary file.\n",
      "Reading /mnt/storage/kocharyan/additional_asr/asr_itmo_practice/resources/lab4/3gram.arpa\n",
      "----5---10---15---20---25---30---35---40---45---50---55---60---65---70---75---80---85---90---95--100\n",
      "The ARPA file is missing <unk>.  Substituting log10 probability -100.\n",
      "****************************************************************************************************\n"
     ]
    },
    {
     "data": {
      "application/vnd.jupyter.widget-view+json": {
       "model_id": "20adc7983e96423eb857c576025d89b7",
       "version_major": 2,
       "version_minor": 0
      },
      "text/plain": [
       "  0%|          | 0/198 [00:00<?, ?it/s]"
      ]
     },
     "metadata": {},
     "output_type": "display_data"
    },
    {
     "name": "stdout",
     "output_type": "stream",
     "text": [
      "Found 1 hypotheses\n"
     ]
    },
    {
     "name": "stderr",
     "output_type": "stream",
     "text": [
      "Loading the LM will be faster if you build a binary file.\n",
      "Reading /mnt/storage/kocharyan/additional_asr/asr_itmo_practice/resources/lab4/3gram.arpa\n",
      "----5---10---15---20---25---30---35---40---45---50---55---60---65---70---75---80---85---90---95--100\n",
      "The ARPA file is missing <unk>.  Substituting log10 probability -100.\n",
      "****************************************************************************************************\n"
     ]
    },
    {
     "data": {
      "application/vnd.jupyter.widget-view+json": {
       "model_id": "076e287f493f4047a5d0f3ba3b898a47",
       "version_major": 2,
       "version_minor": 0
      },
      "text/plain": [
       "  0%|          | 0/198 [00:00<?, ?it/s]"
      ]
     },
     "metadata": {},
     "output_type": "display_data"
    },
    {
     "name": "stdout",
     "output_type": "stream",
     "text": [
      "Found 1 hypotheses\n"
     ]
    },
    {
     "name": "stderr",
     "output_type": "stream",
     "text": [
      "Loading the LM will be faster if you build a binary file.\n",
      "Reading /mnt/storage/kocharyan/additional_asr/asr_itmo_practice/resources/lab4/3gram.arpa\n",
      "----5---10---15---20---25---30---35---40---45---50---55---60---65---70---75---80---85---90---95--100\n",
      "The ARPA file is missing <unk>.  Substituting log10 probability -100.\n",
      "****************************************************************************************************\n"
     ]
    },
    {
     "data": {
      "application/vnd.jupyter.widget-view+json": {
       "model_id": "bfbda3e5c4ea4764ad5f5508a60ef35d",
       "version_major": 2,
       "version_minor": 0
      },
      "text/plain": [
       "  0%|          | 0/198 [00:00<?, ?it/s]"
      ]
     },
     "metadata": {},
     "output_type": "display_data"
    },
    {
     "name": "stdout",
     "output_type": "stream",
     "text": [
      "Found 1 hypotheses\n"
     ]
    },
    {
     "name": "stderr",
     "output_type": "stream",
     "text": [
      "Loading the LM will be faster if you build a binary file.\n",
      "Reading /mnt/storage/kocharyan/additional_asr/asr_itmo_practice/resources/lab4/3gram.arpa\n",
      "----5---10---15---20---25---30---35---40---45---50---55---60---65---70---75---80---85---90---95--100\n",
      "The ARPA file is missing <unk>.  Substituting log10 probability -100.\n",
      "****************************************************************************************************\n"
     ]
    },
    {
     "data": {
      "application/vnd.jupyter.widget-view+json": {
       "model_id": "5df000df656744d39b6f61c0233c813e",
       "version_major": 2,
       "version_minor": 0
      },
      "text/plain": [
       "  0%|          | 0/198 [00:00<?, ?it/s]"
      ]
     },
     "metadata": {},
     "output_type": "display_data"
    },
    {
     "name": "stdout",
     "output_type": "stream",
     "text": [
      "Found 1 hypotheses\n"
     ]
    },
    {
     "name": "stderr",
     "output_type": "stream",
     "text": [
      "Loading the LM will be faster if you build a binary file.\n",
      "Reading /mnt/storage/kocharyan/additional_asr/asr_itmo_practice/resources/lab4/3gram.arpa\n",
      "----5---10---15---20---25---30---35---40---45---50---55---60---65---70---75---80---85---90---95--100\n",
      "The ARPA file is missing <unk>.  Substituting log10 probability -100.\n",
      "****************************************************************************************************\n"
     ]
    },
    {
     "data": {
      "application/vnd.jupyter.widget-view+json": {
       "model_id": "3e4bc233572d48229648173a5def5445",
       "version_major": 2,
       "version_minor": 0
      },
      "text/plain": [
       "  0%|          | 0/198 [00:00<?, ?it/s]"
      ]
     },
     "metadata": {},
     "output_type": "display_data"
    },
    {
     "name": "stdout",
     "output_type": "stream",
     "text": [
      "Found 1 hypotheses\n"
     ]
    },
    {
     "name": "stderr",
     "output_type": "stream",
     "text": [
      "Loading the LM will be faster if you build a binary file.\n",
      "Reading /mnt/storage/kocharyan/additional_asr/asr_itmo_practice/resources/lab4/3gram.arpa\n",
      "----5---10---15---20---25---30---35---40---45---50---55---60---65---70---75---80---85---90---95--100\n",
      "The ARPA file is missing <unk>.  Substituting log10 probability -100.\n",
      "****************************************************************************************************\n"
     ]
    },
    {
     "data": {
      "application/vnd.jupyter.widget-view+json": {
       "model_id": "473124985e404e7daf2c4fe9af255edb",
       "version_major": 2,
       "version_minor": 0
      },
      "text/plain": [
       "  0%|          | 0/198 [00:00<?, ?it/s]"
      ]
     },
     "metadata": {},
     "output_type": "display_data"
    },
    {
     "name": "stdout",
     "output_type": "stream",
     "text": [
      "Found 2 hypotheses\n"
     ]
    }
   ],
   "source": [
    "df = brute_force()"
   ]
  },
  {
   "cell_type": "code",
   "execution_count": 160,
   "id": "5c886647-5ac9-4061-9592-516a31c2bb1a",
   "metadata": {},
   "outputs": [
    {
     "data": {
      "text/html": [
       "<div>\n",
       "<style scoped>\n",
       "    .dataframe tbody tr th:only-of-type {\n",
       "        vertical-align: middle;\n",
       "    }\n",
       "\n",
       "    .dataframe tbody tr th {\n",
       "        vertical-align: top;\n",
       "    }\n",
       "\n",
       "    .dataframe thead th {\n",
       "        text-align: right;\n",
       "    }\n",
       "</style>\n",
       "<table border=\"1\" class=\"dataframe\">\n",
       "  <thead>\n",
       "    <tr style=\"text-align: right;\">\n",
       "      <th></th>\n",
       "      <th>lmwt_factor</th>\n",
       "      <th>stay_in_silence_penalty</th>\n",
       "      <th>word_insertion_penalty</th>\n",
       "      <th>beam</th>\n",
       "      <th>WER</th>\n",
       "      <th>time</th>\n",
       "    </tr>\n",
       "  </thead>\n",
       "  <tbody>\n",
       "    <tr>\n",
       "      <th>0</th>\n",
       "      <td>0.00</td>\n",
       "      <td>0.010</td>\n",
       "      <td>0.5</td>\n",
       "      <td>3</td>\n",
       "      <td>0.090909</td>\n",
       "      <td>75.078274</td>\n",
       "    </tr>\n",
       "    <tr>\n",
       "      <th>1</th>\n",
       "      <td>0.01</td>\n",
       "      <td>0.010</td>\n",
       "      <td>0.5</td>\n",
       "      <td>3</td>\n",
       "      <td>0.090909</td>\n",
       "      <td>74.374061</td>\n",
       "    </tr>\n",
       "    <tr>\n",
       "      <th>2</th>\n",
       "      <td>0.05</td>\n",
       "      <td>0.010</td>\n",
       "      <td>0.5</td>\n",
       "      <td>3</td>\n",
       "      <td>0.090909</td>\n",
       "      <td>73.411841</td>\n",
       "    </tr>\n",
       "    <tr>\n",
       "      <th>3</th>\n",
       "      <td>0.10</td>\n",
       "      <td>0.010</td>\n",
       "      <td>0.5</td>\n",
       "      <td>3</td>\n",
       "      <td>0.181818</td>\n",
       "      <td>77.330789</td>\n",
       "    </tr>\n",
       "    <tr>\n",
       "      <th>4</th>\n",
       "      <td>0.01</td>\n",
       "      <td>0.000</td>\n",
       "      <td>0.5</td>\n",
       "      <td>3</td>\n",
       "      <td>0.090909</td>\n",
       "      <td>74.544018</td>\n",
       "    </tr>\n",
       "    <tr>\n",
       "      <th>5</th>\n",
       "      <td>0.01</td>\n",
       "      <td>0.025</td>\n",
       "      <td>0.5</td>\n",
       "      <td>3</td>\n",
       "      <td>0.090909</td>\n",
       "      <td>74.268502</td>\n",
       "    </tr>\n",
       "    <tr>\n",
       "      <th>6</th>\n",
       "      <td>0.01</td>\n",
       "      <td>0.100</td>\n",
       "      <td>0.5</td>\n",
       "      <td>3</td>\n",
       "      <td>0.090909</td>\n",
       "      <td>74.480477</td>\n",
       "    </tr>\n",
       "    <tr>\n",
       "      <th>7</th>\n",
       "      <td>0.01</td>\n",
       "      <td>0.500</td>\n",
       "      <td>0.5</td>\n",
       "      <td>3</td>\n",
       "      <td>0.090909</td>\n",
       "      <td>74.329053</td>\n",
       "    </tr>\n",
       "    <tr>\n",
       "      <th>8</th>\n",
       "      <td>0.01</td>\n",
       "      <td>0.010</td>\n",
       "      <td>0.0</td>\n",
       "      <td>3</td>\n",
       "      <td>0.090909</td>\n",
       "      <td>74.143418</td>\n",
       "    </tr>\n",
       "    <tr>\n",
       "      <th>9</th>\n",
       "      <td>0.01</td>\n",
       "      <td>0.010</td>\n",
       "      <td>0.5</td>\n",
       "      <td>3</td>\n",
       "      <td>0.090909</td>\n",
       "      <td>41.336970</td>\n",
       "    </tr>\n",
       "    <tr>\n",
       "      <th>10</th>\n",
       "      <td>0.01</td>\n",
       "      <td>0.010</td>\n",
       "      <td>1.5</td>\n",
       "      <td>3</td>\n",
       "      <td>0.090909</td>\n",
       "      <td>47.467245</td>\n",
       "    </tr>\n",
       "    <tr>\n",
       "      <th>11</th>\n",
       "      <td>0.01</td>\n",
       "      <td>0.010</td>\n",
       "      <td>3.0</td>\n",
       "      <td>3</td>\n",
       "      <td>0.090909</td>\n",
       "      <td>74.187821</td>\n",
       "    </tr>\n",
       "    <tr>\n",
       "      <th>12</th>\n",
       "      <td>0.01</td>\n",
       "      <td>0.010</td>\n",
       "      <td>0.5</td>\n",
       "      <td>1</td>\n",
       "      <td>1.000000</td>\n",
       "      <td>5.206727</td>\n",
       "    </tr>\n",
       "    <tr>\n",
       "      <th>13</th>\n",
       "      <td>0.01</td>\n",
       "      <td>0.010</td>\n",
       "      <td>0.5</td>\n",
       "      <td>2</td>\n",
       "      <td>0.272727</td>\n",
       "      <td>71.450014</td>\n",
       "    </tr>\n",
       "    <tr>\n",
       "      <th>14</th>\n",
       "      <td>0.01</td>\n",
       "      <td>0.010</td>\n",
       "      <td>0.5</td>\n",
       "      <td>4</td>\n",
       "      <td>0.090909</td>\n",
       "      <td>129.484509</td>\n",
       "    </tr>\n",
       "    <tr>\n",
       "      <th>15</th>\n",
       "      <td>0.01</td>\n",
       "      <td>0.010</td>\n",
       "      <td>0.5</td>\n",
       "      <td>6</td>\n",
       "      <td>0.090909</td>\n",
       "      <td>255.835140</td>\n",
       "    </tr>\n",
       "  </tbody>\n",
       "</table>\n",
       "</div>"
      ],
      "text/plain": [
       "    lmwt_factor  stay_in_silence_penalty  word_insertion_penalty  beam  \\\n",
       "0          0.00                    0.010                     0.5     3   \n",
       "1          0.01                    0.010                     0.5     3   \n",
       "2          0.05                    0.010                     0.5     3   \n",
       "3          0.10                    0.010                     0.5     3   \n",
       "4          0.01                    0.000                     0.5     3   \n",
       "5          0.01                    0.025                     0.5     3   \n",
       "6          0.01                    0.100                     0.5     3   \n",
       "7          0.01                    0.500                     0.5     3   \n",
       "8          0.01                    0.010                     0.0     3   \n",
       "9          0.01                    0.010                     0.5     3   \n",
       "10         0.01                    0.010                     1.5     3   \n",
       "11         0.01                    0.010                     3.0     3   \n",
       "12         0.01                    0.010                     0.5     1   \n",
       "13         0.01                    0.010                     0.5     2   \n",
       "14         0.01                    0.010                     0.5     4   \n",
       "15         0.01                    0.010                     0.5     6   \n",
       "\n",
       "         WER        time  \n",
       "0   0.090909   75.078274  \n",
       "1   0.090909   74.374061  \n",
       "2   0.090909   73.411841  \n",
       "3   0.181818   77.330789  \n",
       "4   0.090909   74.544018  \n",
       "5   0.090909   74.268502  \n",
       "6   0.090909   74.480477  \n",
       "7   0.090909   74.329053  \n",
       "8   0.090909   74.143418  \n",
       "9   0.090909   41.336970  \n",
       "10  0.090909   47.467245  \n",
       "11  0.090909   74.187821  \n",
       "12  1.000000    5.206727  \n",
       "13  0.272727   71.450014  \n",
       "14  0.090909  129.484509  \n",
       "15  0.090909  255.835140  "
      ]
     },
     "execution_count": 160,
     "metadata": {},
     "output_type": "execute_result"
    }
   ],
   "source": [
    "df"
   ]
  },
  {
   "cell_type": "code",
   "execution_count": 161,
   "id": "0c7b304d-4d8a-49b3-9f3d-6d81ce71ed53",
   "metadata": {},
   "outputs": [],
   "source": [
    "def graphs(data, names, drow):\n",
    "    \n",
    "    plt.ioff()\n",
    "    fig, axs = plt.subplots(2, 2, figsize=(15, 8), sharex=False, sharey=False)\n",
    "    \n",
    "    for j in range(4):\n",
    "        \n",
    "        ax = axs[j//2, j%2]\n",
    "        \n",
    "        params, wers_per_param = data[j]\n",
    "        ax.plot(params, wers_per_param, label=f'{names[j]}_{drow}')\n",
    "        # ax.legend()\n",
    "        ax.set_title(f'variations {names[j]}: {drow}')\n",
    "        \n",
    "    return plt\n",
    "\n"
   ]
  },
  {
   "cell_type": "code",
   "execution_count": 162,
   "id": "b90eadc0-7ee9-42d0-88ec-f34a54aa097d",
   "metadata": {},
   "outputs": [],
   "source": [
    "# TODO: change\n",
    "# lmwt_factor_df = df.iloc[:3, :]\n",
    "# stay_in_silence_penalty_df = df.iloc[3:6, :]\n",
    "# word_insertion_penalty_df = df.iloc[6:9, :]\n",
    "# beam_df = df.iloc[9:12, :]\n",
    "# data = [lmwt_factor_df, stay_in_silence_penalty_df, word_insertion_penalty, beam_df]\n",
    "data = []\n",
    "for i in range(len(df)//4):\n",
    "    data.append(df.iloc[i*4:i*4+4, :])"
   ]
  },
  {
   "cell_type": "code",
   "execution_count": 163,
   "id": "33a75a35-b166-4527-9bea-51ede87d2422",
   "metadata": {},
   "outputs": [],
   "source": [
    "def get_data_with_label(data, names, label):\n",
    "    res = []\n",
    "    for i in range(len(data)):\n",
    "        res.append([\n",
    "            data[i][names[i]].tolist(),\n",
    "            data[i][label].tolist(),\n",
    "        ])\n",
    "    return res"
   ]
  },
  {
   "cell_type": "code",
   "execution_count": 164,
   "id": "ceea1d6c-1f8a-4e90-a500-5b02fdbc6ad3",
   "metadata": {},
   "outputs": [
    {
     "data": {
      "image/png": "[encoded data removed]",
      "text/plain": [
       "<Figure size 1500x800 with 4 Axes>"
      ]
     },
     "metadata": {},
     "output_type": "display_data"
    }
   ],
   "source": [
    "names = [\"lmwt_factor\", \"stay_in_silence_penalty\", \"word_insertion_penalty\", \"beam\"]\n",
    "metric = \"WER\"\n",
    "graphs(get_data_with_label(data, names, metric), names, metric).show()"
   ]
  },
  {
   "cell_type": "code",
   "execution_count": 165,
   "id": "8da6c7ba-2831-41af-b568-63697a299e0b",
   "metadata": {},
   "outputs": [
    {
     "data": {
      "image/png": "[encoded data removed]",
      "text/plain": [
       "<Figure size 1500x800 with 4 Axes>"
      ]
     },
     "metadata": {},
     "output_type": "display_data"
    }
   ],
   "source": [
    "names = [\"lmwt_factor\", \"stay_in_silence_penalty\", \"word_insertion_penalty\", \"beam\"]\n",
    "metric = \"time\"\n",
    "graphs(get_data_with_label(data, names, metric), names, metric).show()"
   ]
  },
  {
   "cell_type": "markdown",
   "id": "9628ad95-5334-432f-a9ff-3b7dcd5805b6",
   "metadata": {},
   "source": [
    "**Небольшие выводы**\n",
    "\n",
    "Был проделан небольшой перебор параметров, из чего получилось выявить:\n",
    "\n",
    "- увеличение параметра beam приводит к уменьшению WER, так как в этом случае в распоряжении модели большее пространство решений, которые можно проанализировать, однако в тоже время это приводит к увеличении вычислительной сложности (причем явно). Кажется, что в данном эксперименте в какой-то момент, увеличение beam не дает прироста. \n",
    "- Кажется, с помощью lmwt_factor можно варьировать влияние языковой модели на результат декодирования (вроде на лекциях об этом говорили, что в зависимости от задачи, у нас по разному могут работать акустические и языковые модели, поэтому можно по разному учитывать их влияние). В данном случае увеличение lmwt_factor приводит к увеличению WER, что говорит о том, что наша акустическая модель работает лучше. На производительность данный параметр не сильно влияет\n",
    "- Исходя из экспериментов, параметры stay_in_silence_penalty/word_insertion_penalty не влияют на значение метрик. Но интуиция (и фантазия) подсказывает, что изменение этих параметров может влиять на производительность и сами метрики (например, при наличии шумов, наверное, можно отдавать предпочтение большему количеству пауз, а при необходимости оптимизации скорости, возможно имеет смысл увеличить word_insertion_penalty чтобы снизить количество различных гипотез на выходе). В данном случае, как-будто, это не очевидно.\n",
    "\n"
   ]
  },
  {
   "cell_type": "markdown",
   "id": "654550e1-7c49-4008-94f5-60ae6d3b334c",
   "metadata": {},
   "source": [
    "# Дополнительное задание (2 балла)\n",
    "Декодируйте всю коллекцию am_nlogprobs с подобраными ранее параметрами и посчитайте WER на этой выборке\n"
   ]
  },
  {
   "cell_type": "code",
   "execution_count": 35,
   "id": "35a85ca6-a620-4828-abc7-721df929452e",
   "metadata": {},
   "outputs": [],
   "source": [
    "#TODO"
   ]
  },
  {
   "cell_type": "code",
   "execution_count": null,
   "id": "9b70498d-9b82-45f6-baad-3812f76334d2",
   "metadata": {},
   "outputs": [],
   "source": []
  },
  {
   "cell_type": "code",
   "execution_count": 56,
   "id": "831d5589-6b97-44a6-9e7f-577111812524",
   "metadata": {},
   "outputs": [
    {
     "name": "stderr",
     "output_type": "stream",
     "text": [
      "Loading the LM will be faster if you build a binary file.\n",
      "Reading /mnt/storage/kocharyan/additional_asr/asr_itmo_practice/resources/lab4/3gram.arpa\n",
      "----5---10---15---20---25---30---35---40---45---50---55---60---65---70---75---80---85---90---95--100\n",
      "The ARPA file is missing <unk>.  Substituting log10 probability -100.\n",
      "****************************************************************************************************\n"
     ]
    }
   ],
   "source": [
    "h_fst = create_h_wfst()\n",
    "create_Lwfst_from_file(stay_in_silence_penalty=.01, word_insertion_penalty=.5)\n",
    "lm = kenlmLikeWFST(kenlm.LanguageModel('resources/lab4/3gram.arpa'), lmwt_factor=.02)\n",
    "graph = OnTheFlyCompose([h_fst, l_fst, lm])\n",
    "ASR = BeamSearcher(am2phone_mapping=AM_PHONES, graph=graph, beam_size=4)"
   ]
  },
  {
   "cell_type": "code",
   "execution_count": 59,
   "id": "b6556ace-4e0b-455a-a479-676ecec10ee8",
   "metadata": {},
   "outputs": [],
   "source": [
    "from IPython.display import clear_output\n",
    "from joblib import Parallel, delayed\n",
    "\n",
    "def get_data():\n",
    "    examples     = []\n",
    "    example_refs = []\n",
    "    for key, example in am_nlogprobs.items():\n",
    "        examples.append(example)\n",
    "        with open('../../asr_itmo_practice/' + key + '.TXT') as f:\n",
    "            example_ref = ' '.join(f.read().replace('.', ' ').split()[2:])\n",
    "        example_refs.append(example_ref)\n",
    "    return example_refs, examples\n",
    "\n",
    "\n",
    "def _decode(asr, example):\n",
    "    hyp = ASR.decode(example)\n",
    "    # clear_output(wait=False)\n",
    "    return ' '.join(hyp.words)\n",
    "\n",
    "\n",
    "def decode(asr, examples):\n",
    "\n",
    "    texts = Parallel(n_jobs=-1)(delayed(_decode)(asr, example) for example in examples)\n",
    "\n",
    "    # texts = []\n",
    "    # for example in examples: # TODO: Parallel\n",
    "    #     texts.append(_decode(asr, example))\n",
    "    \n",
    "    return texts\n",
    "\n",
    "def calc_wer(example, example_ref):\n",
    "    return jiwer.wer(example_ref, example)"
   ]
  },
  {
   "cell_type": "code",
   "execution_count": 60,
   "id": "9ca965a5-da4d-4b08-b5c1-656b8025b069",
   "metadata": {},
   "outputs": [
    {
     "name": "stderr",
     "output_type": "stream",
     "text": [
      "Loading the LM will be faster if you build a binary file.\n",
      "Reading /mnt/storage/kocharyan/additional_asr/asr_itmo_practice/resources/lab4/3gram.arpa\n",
      "----5---10---15---20---25---30---35---40---45---50---55---60---65---70---75---80---85---90---95--100\n",
      "The ARPA file is missing <unk>.  Substituting log10 probability -100.\n",
      "****************************************************************************************************\n",
      "Loading the LM will be faster if you build a binary file.\n",
      "Reading /mnt/storage/kocharyan/additional_asr/asr_itmo_practice/resources/lab4/3gram.arpa\n",
      "----5---10---15---20---25---30---35---40---45---50---55---60---65---70---75---80---85---90---95--100\n",
      "The ARPA file is missing <unk>.  Substituting log10 probability -100.\n",
      "****************************************************************************************************\n",
      "Loading the LM will be faster if you build a binary file.\n",
      "Reading /mnt/storage/kocharyan/additional_asr/asr_itmo_practice/resources/lab4/3gram.arpa\n",
      "----5---10---15---20---25---30---35---40---45---50---55---60---65---70---75---80---85---90---95--100\n",
      "The ARPA file is missing <unk>.  Substituting log10 probability -100.\n",
      "****************************************************************************************************\n",
      "Loading the LM will be faster if you build a binary file.\n",
      "Reading /mnt/storage/kocharyan/additional_asr/asr_itmo_practice/resources/lab4/3gram.arpa\n",
      "----5---10---15---20---25---30---35---40---45---50---55---60---65---70---75---80---85---90---95--100\n",
      "The ARPA file is missing <unk>.  Substituting log10 probability -100.\n",
      "****************************************************************************************************\n",
      "1 hyps. Best Hypothesis(score=-13.171483402370743, time=2, words=[], state=(0, 0, <kenlm.State object at 0x7f7859e0d570>)). Mean score -13.17. Max -13.17:   1%|          | 3/248 [00:00<00:26,  9.22it/s]Loading the LM will be faster if you build a binary file.\n",
      "Reading /mnt/storage/kocharyan/additional_asr/asr_itmo_practice/resources/lab4/3gram.arpa\n",
      "----5---10---15---20---25---30---35---40---45---50---55---60---65---70---75---80---85---90---95--100\n",
      "The ARPA file is missing <unk>.  Substituting log10 probability -100.\n",
      "****************************************************************************************************\n",
      "1 hyps. Best Hypothesis(score=-8.77938008253915, time=1, words=[], state=(0, 0, <kenlm.State object at 0x7ff20b844570>)). Mean score -8.78. Max -8.78:   1%|          | 2/175 [00:00<00:18,  9.56it/s] Loading the LM will be faster if you build a binary file.\n",
      "Reading /mnt/storage/kocharyan/additional_asr/asr_itmo_practice/resources/lab4/3gram.arpa\n",
      "----5---10---15---20---25---30---35---40---45---50---55---60---65---70---75---80---85---90---95--100\n",
      "The ARPA file is missing <unk>.  Substituting log10 probability -100.\n",
      "****************************************************************************************************\n",
      "1 hyps. Best Hypothesis(score=-35.120575888812944, time=7, words=[], state=(0, 0, <kenlm.State object at 0x7ff20b844570>)). Mean score -35.12. Max -35.12:   5%|▍         | 8/175 [00:00<00:11, 14.04it/s]Loading the LM will be faster if you build a binary file.\n",
      "Reading /mnt/storage/kocharyan/additional_asr/asr_itmo_practice/resources/lab4/3gram.arpa\n",
      "----5---10---15---20---25---30---35---40---45---50---55---60---65---70---75---80---85---90---95--100\n",
      "The ARPA file is missing <unk>.  Substituting log10 probability -100.\n",
      "****************************************************************************************************\n",
      "1 hyps. Best Hypothesis(score=-52.68216992808892, time=11, words=[], state=(0, 0, <kenlm.State object at 0x7ff20b844570>)). Mean score -52.68. Max -52.68:   7%|▋         | 12/175 [00:01<00:14, 11.01it/s]Loading the LM will be faster if you build a binary file.\n",
      "Reading /mnt/storage/kocharyan/additional_asr/asr_itmo_practice/resources/lab4/3gram.arpa\n",
      "----5---10---15---20---25---30---35---40---45---50---55---60---65---70---75---80---85---90---95--100\n",
      "The ARPA file is missing <unk>.  Substituting log10 probability -100.\n",
      "****************************************************************************************************\n",
      "1 hyps. Best Hypothesis(score=-43.906620128906134, time=9, words=[], state=(0, 0, <kenlm.State object at 0x7ff4afd26570>)). Mean score -43.91. Max -43.91:   6%|▌         | 10/165 [00:00<00:10, 15.02it/s]/s]Loading the LM will be faster if you build a binary file.\n",
      "Reading /mnt/storage/kocharyan/additional_asr/asr_itmo_practice/resources/lab4/3gram.arpa\n",
      "----5---10---15---20---25---30---35---40---45---50---55---60---65---70---75---80---85---90---95--100\n",
      "The ARPA file is missing <unk>.  Substituting log10 probability -100.\n",
      "****************************************************************************************************\n",
      "1 hyps. Best Hypothesis(score=-35.13028308397339, time=7, words=[], state=(0, 0, <kenlm.State object at 0x7f53bd4f2570>)). Mean score -35.13. Max -35.13:   5%|▌         | 8/154 [00:00<00:09, 14.64it/s]Loading the LM will be faster if you build a binary file.\n",
      "Reading /mnt/storage/kocharyan/additional_asr/asr_itmo_practice/resources/lab4/3gram.arpa\n",
      "----5---10---15---20---25---30---35---40---45---50---55---60---65---70---75---80---85---90---95--100\n",
      "The ARPA file is missing <unk>.  Substituting log10 probability -100.\n",
      "1 hyps. Best Hypothesis(score=-79.04096755631265, time=17, words=[], state=(0, 0, <kenlm.State object at 0x7ff4afd26570>)). Mean score -79.04. Max -79.04:  11%|█         | 18/165 [00:01<00:09, 14.89it/s]****************************************************************************************************\n",
      "108 hyps. Best Hypothesis(score=-146.9285317431988, time=33, words=[], state=(0, 5033, <kenlm.State object at 0x7ff46044b570>)). Mean score -146.93. Max -146.93:  17%|█▋        | 34/198 [00:03<00:18,  8.91it/s] Loading the LM will be faster if you build a binary file.\n",
      "Reading /mnt/storage/kocharyan/additional_asr/asr_itmo_practice/resources/lab4/3gram.arpa\n",
      "----5---10---15---20---25---30---35---40---45---50---55---60---65---70---75---80---85---90---95--100\n",
      "The ARPA file is missing <unk>.  Substituting log10 probability -100.\n",
      "****************************************************************************************************\n",
      "1 hyps. Best Hypothesis(score=-8.780662225363644, time=1, words=[], state=(0, 0, <kenlm.State object at 0x7f0f08e7abb0>)). Mean score -8.78. Max -8.78:   2%|▏         | 2/122 [00:00<00:09, 12.62it/s]0, 12.72it/s]Loading the LM will be faster if you build a binary file.\n",
      "Reading /mnt/storage/kocharyan/additional_asr/asr_itmo_practice/resources/lab4/3gram.arpa\n",
      "----5---10---15---20---25---30---35---40---45---50---55---60---65---70---75---80---85---90---95--100\n",
      "29 hyps. Best Hypothesis(score=-160.16955058129582, time=37, words=[], state=(0, 28538, <kenlm.State object at 0x7ff46044b570>)). Mean score -159.35. Max -159.09:  19%|█▉        | 38/198 [00:03<00:18,  8.72it/s]The ARPA file is missing <unk>.  Substituting log10 probability -100.\n",
      "****************************************************************************************************\n",
      "1 hyps. Best Hypothesis(score=-614.2080064309034, time=186, words=['production', 'may', 'fall', 'far', 'below', 'expectations'], state=(0, 0, <kenlm.State object at 0x7f4d7704d7f0>)). Mean score -614.21. Max -614.21: 100%|██████████| 187/187 [01:02<00:00,  3.02it/s] :00,  2.08s/it] 2.55it/s]\n",
      "527 hyps. Best Hypothesis(score=-362.53001840546, time=124, words=['she', 'head', 'your', 'dark', 'suit'], state=(0, 16631, <kenlm.State object at 0x7f3c887647b0>)). Mean score -361.01. Max -359.80:  48%|████▊     | 125/263 [00:59<02:25,  1.06s/it]   t/s]2.09it/s] "
     ]
    },
    {
     "name": "stdout",
     "output_type": "stream",
     "text": [
      "Found 1 hypotheses\n",
      "\u001b[2K\r"
     ]
    },
    {
     "name": "stderr",
     "output_type": "stream",
     "text": [
      "453 hyps. Best Hypothesis(score=-336.25304922792174, time=91, words=['drop', 'five', 'forms', 'in'], state=(0, 32429, <kenlm.State object at 0x7f37e4273730>)). Mean score -334.14. Max -332.73:  52%|█████▏    | 92/176 [01:01<01:21,  1.04it/s][00:59<00:34,  2.58it/s]  | 183/248 [01:03<00:40,  1.62it/s]Loading the LM will be faster if you build a binary file.\n",
      "Reading /mnt/storage/kocharyan/additional_asr/asr_itmo_practice/resources/lab4/3gram.arpa\n",
      "----5---10---15---20---25---30---35---40---45---50---55---60---65---70---75---80---85---90---95--100\n",
      "The ARPA file is missing <unk>.  Substituting log10 probability -100.\n",
      "****************************************************************************************************\n",
      "1 hyps. Best Hypothesis(score=-8.77736646115301, time=1, words=[], state=(0, 0, <kenlm.State object at 0x7f4d72cbe0f0>)). Mean score -8.78. Max -8.78:   1%|          | 2/220 [00:00<00:18, 12.06it/s]  | 46/167 [01:01<13:43,  6.80s/it]19/207 [00:59<00:30,  2.84it/s] "
     ]
    },
    {
     "name": "stdout",
     "output_type": "stream",
     "text": [
      "\u001b[2K\r"
     ]
    },
    {
     "name": "stderr",
     "output_type": "stream",
     "text": [
      "2 hyps. Best Hypothesis(score=-537.696280042167, time=180, words=['own', 'ask', 'meeting', 'care', 'reinforce', 'oily', 'rag', 'like', 'that'], state=(0, 0, <kenlm.State object at 0x7f964c43bbf0>)). Mean score -536.87. Max -536.05: 100%|██████████| 181/181 [01:07<00:00,  2.69it/s] 07<00:36,  1.61it/s]\n",
      "310 hyps. Best Hypothesis(score=-482.3504875072503, time=130, words=['the', 'reasons', 'full', 'this', 'tie', \"i've\", 'seemed'], state=(0, 11889, <kenlm.State object at 0x7ff2003a0470>)). Mean score -482.35. Max -482.35:  75%|███████▍  | 131/175 [01:06<00:50,  1.15s/it]"
     ]
    },
    {
     "name": "stdout",
     "output_type": "stream",
     "text": [
      "Found 2 hypotheses\n",
      "\u001b[2K\r"
     ]
    },
    {
     "name": "stderr",
     "output_type": "stream",
     "text": [
      "316 hyps. Best Hypothesis(score=-490.56331547398355, time=132, words=['the', 'reasons', 'full', 'this', 'tie', \"i've\", 'seemed'], state=(0, 11889, <kenlm.State object at 0x7ff2003a0470>)). Mean score -490.51. Max -487.89:  76%|███████▌  | 133/175 [01:07<00:32,  1.27it/s]Loading the LM will be faster if you build a binary file.\n",
      "Reading /mnt/storage/kocharyan/additional_asr/asr_itmo_practice/resources/lab4/3gram.arpa\n",
      "----5---10---15---20---25---30---35---40---45---50---55---60---65---70---75---80---85---90---95--100\n",
      "The ARPA file is missing <unk>.  Substituting log10 probability -100.\n",
      "****************************************************************************************************\n",
      "181 hyps. Best Hypothesis(score=-386.2845332711193, time=123, words=['she', 'had', 'your', 'dark', 'suit', 'in', 'greasy'], state=(0, 21680, <kenlm.State object at 0x7ff4552ac470>)). Mean score -386.28. Max -386.28:  63%|██████▎   | 124/198 [01:08<00:23,  3.09it/s]51it/s]"
     ]
    },
    {
     "name": "stdout",
     "output_type": "stream",
     "text": [
      "\u001b[2K\r"
     ]
    },
    {
     "name": "stderr",
     "output_type": "stream",
     "text": [
      "394 hyps. Best Hypothesis(score=-126.9539977947728, time=121, words=['elderly', 'people', 'are', 'off', 'negotiations'], state=(0, 7948, <kenlm.State object at 0x7f0f061fc330>)). Mean score -126.39. Max -123.00: 100%|██████████| 122/122 [01:06<00:00,  1.83it/s]t/s]▊  | 193/248 [01:09<00:35,  1.54it/s]\n"
     ]
    },
    {
     "name": "stdout",
     "output_type": "stream",
     "text": [
      "Found 394 hypotheses\n",
      "\u001b[2K\r"
     ]
    },
    {
     "name": "stderr",
     "output_type": "stream",
     "text": [
      "400 hyps. Best Hypothesis(score=-464.1015008018991, time=155, words=['she', 'head', 'your', 'dark', 'suit', 'tin', 'greasy'], state=(0, 21680, <kenlm.State object at 0x7f3c88c50a30>)). Mean score -462.33. Max -460.69:  59%|█████▉    | 156/263 [01:06<00:35,  3.05it/s] Loading the LM will be faster if you build a binary file.\n",
      "Reading /mnt/storage/kocharyan/additional_asr/asr_itmo_practice/resources/lab4/3gram.arpa\n",
      "----5---10---15---20---25---30---35---40---45---50---55---60---65---70---75---80---85---90---95--100\n",
      "The ARPA file is missing <unk>.  Substituting log10 probability -100.\n",
      "****************************************************************************************************\n",
      "  0%|          | 0/371 [00:00<?, ?it/s]58488793187, time=133, words=['she', 'had', 'your', 'dark', 'suit', 'in', 'greasy'], state=(0, 35327, <kenlm.State object at 0x7ff4552ac470>)). Mean score -416.42. Max -415.62:  68%|██████▊   | 134/198 [01:10<00:17,  3.68it/s]"
     ]
    },
    {
     "name": "stdout",
     "output_type": "stream",
     "text": [
      "\u001b[2K\r"
     ]
    },
    {
     "name": "stderr",
     "output_type": "stream",
     "text": [
      "1 hyps. Best Hypothesis(score=-502.1782225891171, time=164, words=['pizzerias', 'are', 'convenient', 'fur', 'a', 'quick', 'lunch'], state=(0, 0, <kenlm.State object at 0x7ff4a42fa8b0>)). Mean score -502.18. Max -502.18: 100%|██████████| 165/165 [01:12<00:00,  2.28it/s]s]01/248 [01:13<00:16,  2.87it/s]\n"
     ]
    },
    {
     "name": "stdout",
     "output_type": "stream",
     "text": [
      "Found 1 hypotheses\n",
      "\u001b[2K\r"
     ]
    },
    {
     "name": "stderr",
     "output_type": "stream",
     "text": [
      "266 hyps. Best Hypothesis(score=-297.9635203930291, time=79, words=['husky', 'young', 'men'], state=(0, 14531, <kenlm.State object at 0x7f4d738037b0>)). Mean score -297.96. Max -297.96:  36%|███▋      | 80/220 [00:10<00:35,  4.00it/s]Loading the LM will be faster if you build a binary file.\n",
      "Reading /mnt/storage/kocharyan/additional_asr/asr_itmo_practice/resources/lab4/3gram.arpa\n",
      "----5---10---15---20---25---30---35---40---45---50---55---60---65---70---75---80---85---90---95--100\n",
      "The ARPA file is missing <unk>.  Substituting log10 probability -100.\n",
      "144 hyps. Best Hypothesis(score=-583.8097992414984, time=155, words=['the', 'reasons', 'full', 'this', 'tie', \"i've\", 'seemed', 'foolish'], state=(0, 3, <kenlm.State object at 0x7ff2007504f0>)). Mean score -583.79. Max -582.12:  89%|████████▉ | 156/175 [01:13<00:05,  3.23it/s]****************************************************************************************************\n",
      "871 hyps. Best Hypothesis(score=-423.241712934348, time=143, words=[\"don't\", 'ask', 'meeting', 'carry', 'enjoy', 'oily', 'rag'], state=(0, 18314, <kenlm.State object at 0x7f9f651e40b0>)). Mean score -420.21. Max -419.26:  70%|██████▉   | 144/207 [01:10<00:33,  1.86it/s]  "
     ]
    },
    {
     "name": "stdout",
     "output_type": "stream",
     "text": [
      "\u001b[2K\r"
     ]
    },
    {
     "name": "stderr",
     "output_type": "stream",
     "text": [
      "1 hyps. Best Hypothesis(score=-670.1835574469491, time=174, words=['the', 'reasons', 'full', 'this', 'tie', \"i've\", 'seemed', 'foolish', 'now'], state=(0, 0, <kenlm.State object at 0x7ff2000644b0>)). Mean score -670.18. Max -670.18: 100%|██████████| 175/175 [01:16<00:00,  2.29it/s]:16<00:39,  1.14it/s]\n"
     ]
    },
    {
     "name": "stdout",
     "output_type": "stream",
     "text": [
      "Found 1 hypotheses\n",
      "\u001b[2K\r"
     ]
    },
    {
     "name": "stderr",
     "output_type": "stream",
     "text": [
      "321 hyps. Best Hypothesis(score=-86.08098947867927, time=21, words=['hum'], state=(0, 15502, <kenlm.State object at 0x7f964f1d2a70>)). Mean score -83.28. Max -82.10:  10%|▉         | 22/229 [00:09<01:36,  2.14it/s]-496.92:  80%|███████▉  | 158/198 [01:17<00:06,  5.95it/s] s]Loading the LM will be faster if you build a binary file.\n",
      "Reading /mnt/storage/kocharyan/additional_asr/asr_itmo_practice/resources/lab4/3gram.arpa\n",
      "----5---10---15---20---25---30---35---40---45---50---55---60---65---70---75---80---85---90---95--100\n",
      "The ARPA file is missing <unk>.  Substituting log10 probability -100.\n",
      "****************************************************************************************************\n",
      "210 hyps. Best Hypothesis(score=-601.3612611298583, time=192, words=['she', 'head', 'your', 'dark', 'suit', 'tin', 'greasy', 'wash'], state=(0, 21680, <kenlm.State object at 0x7f3c88fe2e30>)). Mean score -600.83. Max -597.53:  73%|███████▎  | 193/263 [01:14<00:14,  4.80it/s]"
     ]
    },
    {
     "name": "stdout",
     "output_type": "stream",
     "text": [
      "\u001b[2K\r"
     ]
    },
    {
     "name": "stderr",
     "output_type": "stream",
     "text": [
      "1 hyps. Best Hypothesis(score=-770.7899070126075, time=247, words=['his', 'calf', 'tin', 'was', 'thin', 'none', 'haggard', 'end', 'is', 'beautiful', 'boots', 'worn', 'enter', 'chastity'], state=(0, 0, <kenlm.State object at 0x7f784ea7fcf0>)). Mean score -770.79. Max -770.79: 100%|██████████| 248/248 [01:32<00:00,  2.68it/s]\n",
      "355 hyps. Best Hypothesis(score=-95.72177970281494, time=23, words=['the'], state=(0, 20223, <kenlm.State object at 0x7ff1fd500b30>)). Mean score -93.36. Max -91.85:  11%|█         | 24/221 [00:14<02:09,  1.52it/s]71. Max -567.86:  91%|█████████▏| 189/207 [01:28<00:04,  3.99it/s]"
     ]
    },
    {
     "name": "stdout",
     "output_type": "stream",
     "text": [
      "Found 1 hypotheses\n",
      "\u001b[2K\r"
     ]
    },
    {
     "name": "stderr",
     "output_type": "stream",
     "text": [
      "21 hyps. Best Hypothesis(score=-593.9441767438055, time=187, words=['she', 'had', 'your', 'dark', 'suit', 'in', 'greasy', 'wash', 'water', 'all', 'year'], state=(0, 10060, <kenlm.State object at 0x7ff45516c4b0>)). Mean score -593.15. Max -590.54:  95%|█████████▍| 188/198 [01:33<00:04,  2.20it/s] Loading the LM will be faster if you build a binary file.\n",
      "Reading /mnt/storage/kocharyan/additional_asr/asr_itmo_practice/resources/lab4/3gram.arpa\n",
      "----5---10---15---20---25---30---35---40---45---50---55---60---65---70---75---80---85---90---95--100\n",
      "The ARPA file is missing <unk>.  Substituting log10 probability -100.\n",
      "****************************************************************************************************\n",
      "17 hyps. Best Hypothesis(score=-598.7164359949534, time=189, words=['she', 'had', 'your', 'dark', 'suit', 'in', 'greasy', 'wash', 'water', 'all', 'year'], state=(0, 0, <kenlm.State object at 0x7ff454b749f0>)). Mean score -595.05. Max -594.83:  96%|█████████▌| 190/198 [01:33<00:02,  3.15it/s]    "
     ]
    },
    {
     "name": "stdout",
     "output_type": "stream",
     "text": [
      "\u001b[2K\r"
     ]
    },
    {
     "name": "stderr",
     "output_type": "stream",
     "text": [
      "1 hyps. Best Hypothesis(score=-633.8096690610141, time=197, words=['she', 'had', 'your', 'dark', 'suit', 'in', 'greasy', 'wash', 'water', 'all', 'year'], state=(0, 0, <kenlm.State object at 0x7ff454b749f0>)). Mean score -633.81. Max -633.81: 100%|██████████| 198/198 [01:34<00:00,  2.10it/s] \n",
      "3 hyps. Best Hypothesis(score=-164.83452532948846, time=120, words=['her', 'wore', 'drove', 'concessionaire', 'eastern'], state=(0, 33513, <kenlm.State object at 0x7fd779208930>)). Mean score -162.88. Max -160.92:  72%|███████▏  | 121/167 [01:31<00:02, 16.63it/s]  :02,  4.62it/s]"
     ]
    },
    {
     "name": "stdout",
     "output_type": "stream",
     "text": [
      "Found 1 hypotheses\n",
      "\u001b[2K\r"
     ]
    },
    {
     "name": "stderr",
     "output_type": "stream",
     "text": [
      "3 hyps. Best Hypothesis(score=-615.7617722183114, time=198, words=[\"don't\", 'ask', 'meeting', 'carry', 'enjoy', 'oily', 'rag', 'lie', 'that'], state=(0, 0, <kenlm.State object at 0x7f9f65220bf0>)). Mean score -613.62. Max -611.77:  96%|█████████▌| 199/207 [01:30<00:02,  3.74it/s]Loading the LM will be faster if you build a binary file.\n",
      "Reading /mnt/storage/kocharyan/additional_asr/asr_itmo_practice/resources/lab4/3gram.arpa\n",
      "----5---10---15---20---25---30---35---40---45---50---55---60---65---70---75---80---85---90---95--100\n",
      "The ARPA file is missing <unk>.  Substituting log10 probability -100.\n",
      "****************************************************************************************************\n",
      "1 hyps. Best Hypothesis(score=-61.47476741656801, time=13, words=[], state=(0, 0, <kenlm.State object at 0x7f78524d2530>)). Mean score -61.47. Max -61.47:   7%|▋         | 14/210 [00:01<00:19,  9.94it/s] "
     ]
    },
    {
     "name": "stdout",
     "output_type": "stream",
     "text": [
      "\u001b[2K\r"
     ]
    },
    {
     "name": "stderr",
     "output_type": "stream",
     "text": [
      "3 hyps. Best Hypothesis(score=-650.8860979249085, time=206, words=[\"don't\", 'ask', 'meeting', 'carry', 'enjoy', 'oily', 'rag', 'lie', 'that'], state=(0, 0, <kenlm.State object at 0x7f9f65220bf0>)). Mean score -648.75. Max -646.90: 100%|██████████| 207/207 [01:32<00:00,  2.25it/s] 1.34it/s]\n",
      "446 hyps. Best Hypothesis(score=-687.3311837534787, time=224, words=['she', 'head', 'your', 'dark', 'suit', 'tin', 'greasy', 'wash', 'wall', 'does'], state=(0, 1040, <kenlm.State object at 0x7f3c88b0f170>)). Mean score -685.78. Max -683.35:  86%|████████▌ | 225/263 [01:32<00:28,  1.35it/s]"
     ]
    },
    {
     "name": "stdout",
     "output_type": "stream",
     "text": [
      "Found 3 hypotheses\n",
      "\u001b[2K\r"
     ]
    },
    {
     "name": "stderr",
     "output_type": "stream",
     "text": [
      "446 hyps. Best Hypothesis(score=-690.9157766601329, time=225, words=['she', 'head', 'your', 'dark', 'suit', 'tin', 'greasy', 'wash', 'wall', 'does'], state=(0, 1040, <kenlm.State object at 0x7f3c88b0f170>)). Mean score -689.39. Max -687.38:  86%|████████▌ | 226/263 [01:33<00:27,  1.35it/s]Loading the LM will be faster if you build a binary file.\n",
      "Reading /mnt/storage/kocharyan/additional_asr/asr_itmo_practice/resources/lab4/3gram.arpa\n",
      "----5---10---15---20---25---30---35---40---45---50---55---60---65---70---75---80---85---90---95--100\n",
      "The ARPA file is missing <unk>.  Substituting log10 probability -100.\n",
      "****************************************************************************************************\n",
      "72 hyps. Best Hypothesis(score=-561.5131428077405, time=161, words=['drop', 'five', 'forms', 'in', 'the', 'box', 'before', 'you', 'go'], state=(0, 15496, <kenlm.State object at 0x7f37e4182770>)). Mean score -560.72. Max -560.31:  92%|█████████▏| 162/176 [01:35<00:01,  8.03it/s]"
     ]
    },
    {
     "name": "stdout",
     "output_type": "stream",
     "text": [
      "\u001b[2K\r"
     ]
    },
    {
     "name": "stderr",
     "output_type": "stream",
     "text": [
      "1 hyps. Best Hypothesis(score=-606.9527891960923, time=175, words=['drop', 'five', 'forms', 'in', 'the', 'box', 'before', 'you', 'go', 'out'], state=(0, 0, <kenlm.State object at 0x7f37e47a3630>)). Mean score -606.95. Max -606.95: 100%|██████████| 176/176 [01:36<00:00,  1.83it/s] 1.35it/s]\n",
      "728 hyps. Best Hypothesis(score=-102.0228039881811, time=26, words=['the', \"'em\"], state=(0, 21679, <kenlm.State object at 0x7ff1fd48ce30>)). Mean score -100.53. Max -98.27:  12%|█▏        | 27/221 [00:20<05:45,  1.78s/it]34<00:29,  3.84it/s]"
     ]
    },
    {
     "name": "stdout",
     "output_type": "stream",
     "text": [
      "Found 1 hypotheses\n",
      "\u001b[2K\r"
     ]
    },
    {
     "name": "stderr",
     "output_type": "stream",
     "text": [
      "435 hyps. Best Hypothesis(score=-385.6383180252368, time=109, words=['husky', 'young', 'men', 'he'], state=(0, 27547, <kenlm.State object at 0x7f4d73b539b0>)). Mean score -382.31. Max -381.77:  50%|█████     | 110/220 [00:35<00:25,  4.35it/s]Loading the LM will be faster if you build a binary file.\n",
      "Reading /mnt/storage/kocharyan/additional_asr/asr_itmo_practice/resources/lab4/3gram.arpa\n",
      "----5---10---15---20---25---30---35---40---45---50---55---60---65---70---75---80---85---90---95--100\n",
      "The ARPA file is missing <unk>.  Substituting log10 probability -100.\n",
      "****************************************************************************************************\n",
      "1236 hyps. Best Hypothesis(score=-697.6568554502021, time=227, words=['she', 'head', 'your', 'dark', 'suit', 'tin', 'greasy', 'wash', 'wall', 'does'], state=(0, 1040, <kenlm.State object at 0x7f3c88b0f170>)). Mean score -695.42. Max -693.67:  87%|████████▋ | 228/263 [01:35<00:32,  1.07it/s]"
     ]
    },
    {
     "name": "stdout",
     "output_type": "stream",
     "text": [
      "\u001b[2K\r"
     ]
    },
    {
     "name": "stderr",
     "output_type": "stream",
     "text": [
      "10 hyps. Best Hypothesis(score=-147.8795788342902, time=166, words=['her', 'wore', 'drove', 'concessionaire', 'eastern', 'tsunami'], state=(0, 31623, <kenlm.State object at 0x7fd7789275f0>)). Mean score -145.42. Max -144.14: 100%|██████████| 167/167 [01:39<00:00,  1.67it/s]  :42,  1.24s/it]\n"
     ]
    },
    {
     "name": "stdout",
     "output_type": "stream",
     "text": [
      "Found 10 hypotheses\n",
      "\u001b[2K\r"
     ]
    },
    {
     "name": "stderr",
     "output_type": "stream",
     "text": [
      "1323 hyps. Best Hypothesis(score=-704.3225026218597, time=229, words=['she', 'head', 'your', 'dark', 'suit', 'tin', 'greasy', 'wash', 'wall', 'does'], state=(0, 1041, <kenlm.State object at 0x7f3c88b0f170>)). Mean score -702.17. Max -700.34:  87%|████████▋ | 230/263 [01:39<00:49,  1.50s/it]Loading the LM will be faster if you build a binary file.\n",
      "Reading /mnt/storage/kocharyan/additional_asr/asr_itmo_practice/resources/lab4/3gram.arpa\n",
      "----5---10---15---20---25---30---35---40---45---50---55---60---65---70---75---80---85---90---95--100\n",
      "The ARPA file is missing <unk>.  Substituting log10 probability -100.\n",
      "****************************************************************************************************\n",
      "1 hyps. Best Hypothesis(score=-4.389546675451499, time=0, words=[], state=(0, 0, <kenlm.State object at 0x7fd77ba5c070>)). Mean score -4.39. Max -4.39:   1%|          | 1/147 [00:00<00:17,  8.59it/s]3,  1.95it/s]"
     ]
    },
    {
     "name": "stdout",
     "output_type": "stream",
     "text": [
      "\u001b[2K\r"
     ]
    },
    {
     "name": "stderr",
     "output_type": "stream",
     "text": [
      "1 hyps. Best Hypothesis(score=-529.6803328957088, time=153, words=['put', 'the', 'butcher', 'bought', 'table', 'a', 'in', 'the', 'garage'], state=(0, 0, <kenlm.State object at 0x7f53aebc0530>)). Mean score -529.68. Max -529.68: 100%|██████████| 154/154 [01:47<00:00,  1.44it/s]   00:46,  1.54s/it]\n"
     ]
    },
    {
     "name": "stdout",
     "output_type": "stream",
     "text": [
      "Found 1 hypotheses\n",
      "\u001b[2K\r"
     ]
    },
    {
     "name": "stderr",
     "output_type": "stream",
     "text": [
      "62 hyps. Best Hypothesis(score=-158.1227183056207, time=42, words=['the', 'morning'], state=(0, 3792, <kenlm.State object at 0x7ff1fd750bb0>)). Mean score -154.83. Max -154.15:  19%|█▉        | 43/221 [00:31<02:10,  1.37it/s] Loading the LM will be faster if you build a binary file.12,  1.96it/s]\n",
      "Reading /mnt/storage/kocharyan/additional_asr/asr_itmo_practice/resources/lab4/3gram.arpa\n",
      "----5---10---15---20---25---30---35---40---45---50---55---60---65---70---75---80---85---90---95--100\n",
      "The ARPA file is missing <unk>.  Substituting log10 probability -100.\n",
      "****************************************************************************************************\n",
      "65 hyps. Best Hypothesis(score=-747.4877152911324, time=239, words=['she', 'head', 'your', 'dark', 'suit', 'tin', 'greasy', 'wash', 'wall', 'does', 'all'], state=(0, 33769, <kenlm.State object at 0x7f3c88aa3bb0>)). Mean score -747.39. Max -745.89:  91%|█████████▏| 240/263 [01:46<00:08,  2.79it/s]"
     ]
    },
    {
     "name": "stdout",
     "output_type": "stream",
     "text": [
      "\u001b[2K\r"
     ]
    },
    {
     "name": "stderr",
     "output_type": "stream",
     "text": [
      "2 hyps. Best Hypothesis(score=-821.7181464538793, time=262, words=['she', 'head', 'your', 'dark', 'suit', 'tin', 'greasy', 'wash', 'wall', 'does', 'all', 'year'], state=(0, 0, <kenlm.State object at 0x7f3c88c976b0>)). Mean score -820.62. Max -819.53: 100%|██████████| 263/263 [01:57<00:00,  2.24it/s]  \n"
     ]
    },
    {
     "name": "stdout",
     "output_type": "stream",
     "text": [
      "Found 2 hypotheses\n",
      "\u001b[2K\r"
     ]
    },
    {
     "name": "stderr",
     "output_type": "stream",
     "text": [
      "238 hyps. Best Hypothesis(score=-132.07839549360898, time=33, words=['in'], state=(0, 35171, <kenlm.State object at 0x7f53ae59a6b0>)). Mean score -130.52. Max -128.75:  12%|█▏        | 34/275 [00:11<01:50,  2.17it/s]  1.54it/s]Loading the LM will be faster if you build a binary file.\n",
      "Reading /mnt/storage/kocharyan/additional_asr/asr_itmo_practice/resources/lab4/3gram.arpa\n",
      "----5---10---15---20---25---30---35---40---45---50---55---60---65---70---75---80---85---90---95--100\n",
      "The ARPA file is missing <unk>.  Substituting log10 probability -100.\n",
      "****************************************************************************************************\n",
      "238 hyps. Best Hypothesis(score=-137.29854272548326, time=34, words=['in'], state=(0, 35171, <kenlm.State object at 0x7f53ae59a6b0>)). Mean score -135.74. Max -133.97:  13%|█▎        | 35/275 [00:12<01:55,  2.07it/s],  1.60it/s]   | 110/371 [00:51<03:41,  1.18it/s]"
     ]
    },
    {
     "name": "stdout",
     "output_type": "stream",
     "text": [
      "\u001b[2K\r"
     ]
    },
    {
     "name": "stderr",
     "output_type": "stream",
     "text": [
      "1 hyps. Best Hypothesis(score=-704.6645489482372, time=219, words=['husky', 'young', 'men', 'he', 'said', 'with', 'thaw', 'not', 'distaste'], state=(0, 0, <kenlm.State object at 0x7f4d737c00b0>)). Mean score -704.66. Max -704.66: 100%|██████████| 220/220 [01:08<00:00,  3.21it/s]\n",
      "37 hyps. Best Hypothesis(score=-373.94933859520313, time=129, words=['in', 'wage', 'negotiations', 'these', 'necessity'], state=(0, 2840, <kenlm.State object at 0x7f53ae680170>)). Mean score -373.02. Max -370.80:  47%|████▋     | 130/275 [00:22<00:22,  6.44it/s]"
     ]
    },
    {
     "name": "stdout",
     "output_type": "stream",
     "text": [
      "Found 1 hypotheses\n",
      "\u001b[2K\r"
     ]
    },
    {
     "name": "stderr",
     "output_type": "stream",
     "text": [
      "367 hyps. Best Hypothesis(score=-336.0256072399942, time=111, words=['objects', 'made', 'of', 'pewter', 'of', 'bugle'], state=(0, 746, <kenlm.State object at 0x7ff4a1749170>)). Mean score -334.84. Max -333.77:  82%|████████▏ | 112/136 [00:58<00:09,  2.40it/s]Loading the LM will be faster if you build a binary file.\n",
      "Reading /mnt/storage/kocharyan/additional_asr/asr_itmo_practice/resources/lab4/3gram.arpa\n",
      "----5---10---15---20---25---30---35---40---45---50---55---60---65---70---75---80---85---90---95--100\n",
      "The ARPA file is missing <unk>.  Substituting log10 probability -100.\n",
      "****************************************************************************************************\n",
      "  0%|          | 0/209 [00:00<?, ?it/s]"
     ]
    },
    {
     "name": "stdout",
     "output_type": "stream",
     "text": [
      "\u001b[2K\r"
     ]
    },
    {
     "name": "stderr",
     "output_type": "stream",
     "text": [
      "1 hyps. Best Hypothesis(score=-430.0633612801909, time=135, words=['objects', 'made', 'of', 'pewter', 'of', 'bugle', 'a', 'fall'], state=(0, 0, <kenlm.State object at 0x7ff4a16ed2f0>)). Mean score -430.06. Max -430.06: 100%|██████████| 136/136 [01:03<00:00,  2.15it/s] ,  1.25s/it]\n"
     ]
    },
    {
     "name": "stdout",
     "output_type": "stream",
     "text": [
      "Found 1 hypotheses\n",
      "\u001b[2K\r"
     ]
    },
    {
     "name": "stderr",
     "output_type": "stream",
     "text": [
      "86 hyps. Best Hypothesis(score=-303.1970299422, time=103, words=['dough', 'own', 'do', 'chop', 'leisure', 'early'], state=(0, 8086, <kenlm.State object at 0x7ff451f19870>)). Mean score -303.20. Max -303.20:  52%|█████▏    | 104/201 [00:43<00:20,  4.83it/s]    Loading the LM will be faster if you build a binary file.\n",
      "Reading /mnt/storage/kocharyan/additional_asr/asr_itmo_practice/resources/lab4/3gram.arpa\n",
      "----5---10---15---20---25---30---35---40---45---50---55---60---65---70---75---80---85---90---95--100\n",
      "The ARPA file is missing <unk>.  Substituting log10 probability -100.\n",
      "****************************************************************************************************\n",
      "89 hyps. Best Hypothesis(score=-306.5640045716047, time=104, words=['dough', 'own', 'do', 'chop', 'leisure', 'early'], state=(0, 9216, <kenlm.State object at 0x7ff451f19870>)). Mean score -305.96. Max -305.38:  52%|█████▏    | 105/201 [00:43<00:17,  5.50it/s]"
     ]
    },
    {
     "name": "stdout",
     "output_type": "stream",
     "text": [
      "\u001b[2K\r"
     ]
    },
    {
     "name": "stderr",
     "output_type": "stream",
     "text": [
      "1 hyps. Best Hypothesis(score=-707.2059772133312, time=200, words=['dough', 'own', 'do', 'chop', 'leisure', 'early', 'dish', 'is'], state=(0, 0, <kenlm.State object at 0x7ff452374470>)). Mean score -707.21. Max -707.21: 100%|██████████| 201/201 [00:58<00:00,  3.45it/s]s]0:59,  1.67it/s]\n"
     ]
    },
    {
     "name": "stdout",
     "output_type": "stream",
     "text": [
      "Found 1 hypotheses\n",
      "\u001b[2K\r"
     ]
    },
    {
     "name": "stderr",
     "output_type": "stream",
     "text": [
      "33 hyps. Best Hypothesis(score=-496.4247496841013, time=180, words=['in', 'wage', 'negotiations', 'these', 'necessity', 'bargains', 'buzzing'], state=(0, 33772, <kenlm.State object at 0x7f53aeb5e170>)). Mean score -494.90. Max -493.32:  66%|██████▌   | 181/275 [00:43<00:21,  4.37it/s]Loading the LM will be faster if you build a binary file.\n",
      "Reading /mnt/storage/kocharyan/additional_asr/asr_itmo_practice/resources/lab4/3gram.arpa\n",
      "----5---10---15---20---25---30---35---40---45---50---55---60---65---70---75---80---85---90---95--100\n",
      "The ARPA file is missing <unk>.  Substituting log10 probability -100.\n",
      "****************************************************************************************************\n",
      "  0%|          | 0/109 [00:00<?, ?it/s]"
     ]
    },
    {
     "name": "stdout",
     "output_type": "stream",
     "text": [
      "\u001b[2K\r"
     ]
    },
    {
     "name": "stderr",
     "output_type": "stream",
     "text": [
      "1 hyps. Best Hypothesis(score=-339.16930425092403, time=146, words=[\"don't\", 'ask', 'meeting', 'kerosene', 'rag', 'like', 'that'], state=(0, 0, <kenlm.State object at 0x7fd776b42af0>)). Mean score -339.17. Max -339.17: 100%|██████████| 147/147 [00:53<00:00,  2.74it/s]/s]6,  1.95s/it]  1.22it/s]\n",
      "236 hyps. Best Hypothesis(score=-340.8038910965971, time=147, words=['fuss', 'therapy', 'occur', 'look', 'a', 'fish', 'a', 'news', 'see', 'is'], state=(0, 371, <kenlm.State object at 0x7f0f02acac70>)). Mean score -338.55. Max -337.45:  40%|███▉      | 148/371 [01:26<05:23,  1.45s/it]"
     ]
    },
    {
     "name": "stdout",
     "output_type": "stream",
     "text": [
      "Found 1 hypotheses\n",
      "\u001b[2K\r"
     ]
    },
    {
     "name": "stderr",
     "output_type": "stream",
     "text": [
      "60 hyps. Best Hypothesis(score=-211.39654672390716, time=54, words=['heave', 'on', 'those'], state=(0, 27204, <kenlm.State object at 0x7f3c85d16fb0>)). Mean score -210.44. Max -209.96:  33%|███▎      | 55/169 [00:35<00:46,  2.45it/s]Loading the LM will be faster if you build a binary file.\n",
      "Reading /mnt/storage/kocharyan/additional_asr/asr_itmo_practice/resources/lab4/3gram.arpa\n",
      "----5---10---15---20---25---30---35---40---45---50---55---60---65---70---75---80---85---90---95--100\n",
      "The ARPA file is missing <unk>.  Substituting log10 probability -100.\n",
      "****************************************************************************************************\n",
      "236 hyps. Best Hypothesis(score=-351.30355379786386, time=149, words=['fuss', 'therapy', 'occur', 'look', 'a', 'fish', 'a', 'news', 'see', 'is'], state=(0, 371, <kenlm.State object at 0x7f0f02acac70>)). Mean score -349.05. Max -347.95:  40%|████      | 150/371 [01:27<03:21,  1.10it/s]"
     ]
    },
    {
     "name": "stdout",
     "output_type": "stream",
     "text": [
      "\u001b[2K\r"
     ]
    },
    {
     "name": "stderr",
     "output_type": "stream",
     "text": [
      "1 hyps. Best Hypothesis(score=-533.9937853760653, time=228, words=['hum', 'how', 'unhurried', \"they've\", 'lush', 'divorce', 'see', 'hen', 'last'], state=(0, 0, <kenlm.State object at 0x7f964f879af0>)). Mean score -533.99. Max -533.99: 100%|██████████| 229/229 [01:59<00:00,  1.92it/s]223/275 [01:17<00:22,  2.34it/s].28it/s] \n",
      "29 hyps. Best Hypothesis(score=-350.8052969976466, time=128, words=['she', 'had', 'derived', 'arc', 'suit', 'in', 'greasy', 'wash'], state=(0, 35205, <kenlm.State object at 0x7f37e19c4070>)). Mean score -350.81. Max -350.81:  68%|██████▊   | 129/189 [01:28<00:10,  5.99it/s] "
     ]
    },
    {
     "name": "stdout",
     "output_type": "stream",
     "text": [
      "Found 1 hypotheses\n",
      "\u001b[2K\r"
     ]
    },
    {
     "name": "stderr",
     "output_type": "stream",
     "text": [
      "4284 hyps. Best Hypothesis(score=-316.00234908222615, time=95, words=['the', 'morning', 'blew', 'a', 'gun', 'this'], state=(0, 23275, <kenlm.State object at 0x7ff1fdf0e770>)). Mean score -313.12. Max -312.07:  43%|████▎     | 96/221 [01:50<01:05,  1.91it/s]Loading the LM will be faster if you build a binary file.s]\n",
      "Reading /mnt/storage/kocharyan/additional_asr/asr_itmo_practice/resources/lab4/3gram.arpa\n",
      "----5---10---15---20---25---30---35---40---45---50---55---60---65---70---75---80---85---90---95--100\n",
      "The ARPA file is missing <unk>.  Substituting log10 probability -100.\n",
      "****************************************************************************************************\n",
      "52 hyps. Best Hypothesis(score=-360.9873498597419, time=133, words=['she', 'had', 'derived', 'arc', 'suit', 'in', 'greasy', 'wash'], state=(0, 35331, <kenlm.State object at 0x7f37e19c4070>)). Mean score -357.99. Max -357.27:  71%|███████   | 134/189 [01:28<00:08,  6.39it/s]"
     ]
    },
    {
     "name": "stdout",
     "output_type": "stream",
     "text": [
      "\u001b[2K\r"
     ]
    },
    {
     "name": "stderr",
     "output_type": "stream",
     "text": [
      "1 hyps. Best Hypothesis(score=-848.3073914728027, time=274, words=['in', 'wage', 'negotiations', 'these', 'necessity', 'bargains', 'buzzing', 'unit', 'a', 'the', 'single', 'union'], state=(0, 0, <kenlm.State object at 0x7f53aeca6fb0>)). Mean score -848.31. Max -848.31: 100%|██████████| 275/275 [01:24<00:00,  3.26it/s]t/s] \n",
      "715 hyps. Best Hypothesis(score=-77.12665540009748, time=18, words=[], state=(0, 21726, <kenlm.State object at 0x7f964db1aeb0>)). Mean score -75.15. Max -73.43:  11%|█         | 19/175 [00:06<01:35,  1.63it/s]te object at 0x7f0f033ba670>)). Mean score -680.44. Max -680.39:  71%|███████▏  | 265/371 [02:03<01:15,  1.41it/s]"
     ]
    },
    {
     "name": "stdout",
     "output_type": "stream",
     "text": [
      "Found 1 hypotheses\n",
      "\u001b[2K\r"
     ]
    },
    {
     "name": "stderr",
     "output_type": "stream",
     "text": [
      "678 hyps. Best Hypothesis(score=-224.95915115036905, time=72, words=['cow', 'see', 'a', 'makes'], state=(0, 2680, <kenlm.State object at 0x7f9f624d5770>)). Mean score -224.91. Max -224.86:  38%|███▊      | 73/192 [01:37<05:40,  2.86s/it],  2.17s/it]re -685.21. Max -685.15:  72%|███████▏  | 266/371 [02:03<01:09,  1.52it/s]Loading the LM will be faster if you build a binary file.\n",
      "Reading /mnt/storage/kocharyan/additional_asr/asr_itmo_practice/resources/lab4/3gram.arpa\n",
      "----5---10---15---20---25---30---35---40---45---50---55---60---65---70---75---80---85---90---95--100\n",
      "The ARPA file is missing <unk>.  Substituting log10 probability -100.\n",
      "****************************************************************************************************\n",
      "211 hyps. Best Hypothesis(score=-690.9900030523143, time=266, words=['fuss', 'therapy', 'occur', 'look', 'a', 'fish', 'a', 'news', 'see', 'is', 'achieved', 'an', 'these', 'expense'], state=(0, 2589, <kenlm.State object at 0x7f0f033ba670>)). Mean score -689.97. Max -689.91:  72%|███████▏  | 267/371 [02:04<01:03,  1.64it/s]"
     ]
    },
    {
     "name": "stdout",
     "output_type": "stream",
     "text": [
      "\u001b[2K\r"
     ]
    },
    {
     "name": "stderr",
     "output_type": "stream",
     "text": [
      "2 hyps. Best Hypothesis(score=-523.7187923209605, time=188, words=['she', 'had', 'derived', 'arc', 'suit', 'in', 'greasy', 'wash', 'washer', 'all', 'year', 'earth'], state=(0, 0, <kenlm.State object at 0x7f37e0fdb970>)). Mean score -523.66. Max -523.59: 100%|██████████| 189/189 [01:48<00:00,  1.74it/s] 281/371 [02:13<02:07,  1.42s/it]\n"
     ]
    },
    {
     "name": "stdout",
     "output_type": "stream",
     "text": [
      "Found 2 hypotheses\n",
      "\u001b[2K\r"
     ]
    },
    {
     "name": "stderr",
     "output_type": "stream",
     "text": [
      "337 hyps. Best Hypothesis(score=-714.4145528871338, time=202, words=['cheap', 'stockings', 'run', 'the', 'first', 'time', 'them', 'on'], state=(0, 7948, <kenlm.State object at 0x7f784bb6dcf0>)). Mean score -714.41. Max -714.41:  97%|█████████▋| 203/210 [01:55<00:10,  1.51s/it] Loading the LM will be faster if you build a binary file.\n",
      "Reading /mnt/storage/kocharyan/additional_asr/asr_itmo_practice/resources/lab4/3gram.arpa\n",
      "----5---10---15---20---25---30---35---40---45---50---55---60---65---70---75---80---85---90---95--100\n",
      "The ARPA file is missing <unk>.  Substituting log10 probability -100.\n",
      "****************************************************************************************************\n",
      "1 hyps. Best Hypothesis(score=-8.778903289385939, time=1, words=[], state=(0, 0, <kenlm.State object at 0x7f37e7d717f0>)). Mean score -8.78. Max -8.78:   1%|          | 2/186 [00:00<00:15, 11.76it/s] Max -492.94:  73%|███████▎  | 152/209 [01:15<00:10,  5.33it/s]"
     ]
    },
    {
     "name": "stdout",
     "output_type": "stream",
     "text": [
      "\u001b[2K\r"
     ]
    },
    {
     "name": "stderr",
     "output_type": "stream",
     "text": [
      "6 hyps. Best Hypothesis(score=-720.097184281449, time=209, words=['cheap', 'stockings', 'run', 'the', 'first', 'time', 'them', 'on', 'do'], state=(0, 0, <kenlm.State object at 0x7f784b654570>)). Mean score -719.53. Max -718.80: 100%|██████████| 210/210 [01:59<00:00,  1.75it/s]-770.84:  79%|███████▊  | 292/371 [02:22<00:36,  2.15it/s] \n"
     ]
    },
    {
     "name": "stdout",
     "output_type": "stream",
     "text": [
      "Found 6 hypotheses\n",
      "\u001b[2K\r"
     ]
    },
    {
     "name": "stderr",
     "output_type": "stream",
     "text": [
      "421 hyps. Best Hypothesis(score=-154.1744792652286, time=44, words=['the', 'fish'], state=(0, 3175, <kenlm.State object at 0x7f53ae7207f0>)). Mean score -153.05. Max -153.00:  24%|██▎       | 45/190 [00:18<00:31,  4.54it/s]Loading the LM will be faster if you build a binary file.\n",
      "Reading /mnt/storage/kocharyan/additional_asr/asr_itmo_practice/resources/lab4/3gram.arpa\n",
      "----5---10---15---20---25---30---35---40---45---50---55---60---65---70---75---80---85---90---95--100\n",
      "The ARPA file is missing <unk>.  Substituting log10 probability -100.\n",
      "****************************************************************************************************\n",
      "  0%|          | 0/172 [00:00<?, ?it/s]"
     ]
    },
    {
     "name": "stdout",
     "output_type": "stream",
     "text": [
      "\u001b[2K\r"
     ]
    },
    {
     "name": "stderr",
     "output_type": "stream",
     "text": [
      "1 hyps. Best Hypothesis(score=-398.2702005069232, time=144, words=['are', 'official', 'a', 'intelligible', 'society', 'real'], state=(0, 0, <kenlm.State object at 0x7ff4a1d676f0>)). Mean score -398.27. Max -398.27: 100%|██████████| 145/145 [01:26<00:00,  1.68it/s] ] 1.08it/s]  Max -898.89:  95%|█████████▍| 352/371 [02:32<00:00, 42.31it/s]\n",
      "190 hyps. Best Hypothesis(score=-112.29152294014291, time=28, words=[\"don't\"], state=(0, 31, <kenlm.State object at 0x7f784b9b5430>)). Mean score -112.17. Max -111.05:  17%|█▋        | 29/172 [00:10<00:52,  2.70it/s]"
     ]
    },
    {
     "name": "stdout",
     "output_type": "stream",
     "text": [
      "Found 1 hypotheses\n",
      "\u001b[2K\r"
     ]
    },
    {
     "name": "stderr",
     "output_type": "stream",
     "text": [
      "1071 hyps. Best Hypothesis(score=-282.9274105190342, time=84, words=['a', 'small', 'boy', 'pulled', 'warm'], state=(0, 34072, <kenlm.State object at 0x7ff4527c0f70>)). Mean score -279.84. Max -279.12:  78%|███████▊  | 85/109 [01:11<00:31,  1.30s/it] Loading the LM will be faster if you build a binary file.\n",
      "Reading /mnt/storage/kocharyan/additional_asr/asr_itmo_practice/resources/lab4/3gram.arpa\n",
      "----5---10---15---20---25---30---35---40---45---50---55---60---65---70---75---80---85---90---95--100\n",
      "190 hyps. Best Hypothesis(score=-118.63624493738236, time=30, words=[\"don't\"], state=(0, 31, <kenlm.State object at 0x7f784b9b5430>)). Mean score -118.52. Max -117.40:  18%|█▊        | 31/172 [00:11<00:47,  2.95it/s].\n",
      "****************************************************************************************************\n",
      "307 hyps. Best Hypothesis(score=-558.1473229495407, time=175, words=['materials', 'surrounded', 'my', 'lincoln', 'lay', 'red', 'wide'], state=(0, 31946, <kenlm.State object at 0x7f4d73c5edb0>)). Mean score -554.97. Max -554.46:  84%|████████▍ | 176/209 [01:32<00:26,  1.23it/s]"
     ]
    },
    {
     "name": "stdout",
     "output_type": "stream",
     "text": [
      "\u001b[2K\r"
     ]
    },
    {
     "name": "stderr",
     "output_type": "stream",
     "text": [
      "2 hyps. Best Hypothesis(score=-451.64281503234497, time=123, words=['a', 'chosen', 'few', 'wool', 'be', 'come', 'generals'], state=(0, 0, <kenlm.State object at 0x7fd77704df30>)). Mean score -451.64. Max -451.63: 100%|██████████| 124/124 [01:10<00:00,  1.76it/s]09it/s] .28it/s]\n",
      "352 hyps. Best Hypothesis(score=-353.2316523532237, time=114, words=['cow', 'see', 'a', 'makes', 'bones'], state=(0, 34341, <kenlm.State object at 0x7f9f61d48830>)). Mean score -351.20. Max -349.35:  60%|█████▉    | 115/192 [02:11<01:11,  1.07it/s] "
     ]
    },
    {
     "name": "stdout",
     "output_type": "stream",
     "text": [
      "Found 2 hypotheses\n",
      "\u001b[2K\r"
     ]
    },
    {
     "name": "stderr",
     "output_type": "stream",
     "text": [
      "591 hyps. Best Hypothesis(score=-43.263145475490155, time=10, words=[], state=(0, 7949, <kenlm.State object at 0x7ff49ed11570>)). Mean score -40.20. Max -39.32:   6%|▋         | 11/172 [00:03<01:29,  1.81it/s]Loading the LM will be faster if you build a binary file.\n",
      "Reading /mnt/storage/kocharyan/additional_asr/asr_itmo_practice/resources/lab4/3gram.arpa\n",
      "----5---10---15---20---25---30---35---40---45---50---55---60---65---70---75---80---85---90---95--100\n",
      "The ARPA file is missing <unk>.  Substituting log10 probability -100.\n",
      "****************************************************************************************************\n",
      "  0%|          | 0/146 [00:00<?, ?it/s]"
     ]
    },
    {
     "name": "stdout",
     "output_type": "stream",
     "text": [
      "\u001b[2K\r"
     ]
    },
    {
     "name": "stderr",
     "output_type": "stream",
     "text": [
      "6 hyps. Best Hypothesis(score=-354.5090961049686, time=108, words=['a', 'small', 'boy', 'pulled', 'warm', 'on', 'hook', 'to'], state=(0, 0, <kenlm.State object at 0x7ff452157870>)). Mean score -354.11. Max -353.42: 100%|██████████| 109/109 [01:24<00:00,  1.28it/s]1:45<01:22,  2.93s/it]0.93:  96%|█████████▌| 357/371 [02:45<00:10,  1.33it/s]\n"
     ]
    },
    {
     "name": "stdout",
     "output_type": "stream",
     "text": [
      "Found 6 hypotheses\n",
      "\u001b[2K\r"
     ]
    },
    {
     "name": "stderr",
     "output_type": "stream",
     "text": [
      "56 hyps. Best Hypothesis(score=-167.9825039241348, time=55, words=[\"don't\", 'ask'], state=(0, 19501, <kenlm.State object at 0x7f784b638a30>)). Mean score -165.99. Max -164.06:  33%|███▎      | 56/172 [00:25<01:08,  1.70it/s]Loading the LM will be faster if you build a binary file.it]13.75:  96%|█████████▋| 358/371 [02:48<00:12,  1.07it/s] \n",
      "Reading /mnt/storage/kocharyan/additional_asr/asr_itmo_practice/resources/lab4/3gram.arpa\n",
      "----5---10---15---20---25---30---35---40---45---50---55---60---65---70---75---80---85---90---95--100\n",
      "The ARPA file is missing <unk>.  Substituting log10 probability -100.\n",
      "****************************************************************************************************\n",
      "524 hyps. Best Hypothesis(score=-182.07020979585764, time=57, words=['she', 'head', 'your'], state=(0, 8017, <kenlm.State object at 0x7f37e12262b0>)). Mean score -180.92. Max -178.79:  31%|███       | 58/186 [00:30<00:24,  5.26it/s]"
     ]
    },
    {
     "name": "stdout",
     "output_type": "stream",
     "text": [
      "\u001b[2K\r"
     ]
    },
    {
     "name": "stderr",
     "output_type": "stream",
     "text": [
      "288 hyps. Best Hypothesis(score=-110.03525331796358, time=171, words=[\"don't\", 'ask', 'meeting', 'kerosene', 'agricultural'], state=(0, 31869, <kenlm.State object at 0x7f784bd183f0>)). Mean score -109.90. Max -106.46: 100%|██████████| 172/172 [00:42<00:00,  4.05it/s] 01:11,  1.19s/it]5,  1.66it/s]████████▊| 363/371 [03:04<00:14,  1.77s/it]\n",
      "28 hyps. Best Hypothesis(score=-464.3837628975982, time=142, words=['heave', 'on', 'those', 'ropes', 'the', \"boat's\", 'come'], state=(0, 34326, <kenlm.State object at 0x7f3c85cf0b30>)). Mean score -461.03. Max -460.65:  85%|████████▍ | 143/169 [02:14<00:22,  1.14it/s]  "
     ]
    },
    {
     "name": "stdout",
     "output_type": "stream",
     "text": [
      "Found 288 hypotheses\n",
      "\u001b[2K\r"
     ]
    },
    {
     "name": "stderr",
     "output_type": "stream",
     "text": [
      "2789 hyps. Best Hypothesis(score=-569.0649989065928, time=183, words=['materials', 'surrounded', 'my', 'lincoln', 'lay', 'red', 'wide', 'tore'], state=(0, 2680, <kenlm.State object at 0x7f4d74c990b0>)). Mean score -567.09. Max -565.19:  88%|████████▊ | 184/209 [02:03<01:54,  4.57s/it]Loading the LM will be faster if you build a binary file.\n",
      "Reading /mnt/storage/kocharyan/additional_asr/asr_itmo_practice/resources/lab4/3gram.arpa\n",
      "----5---10---15---20---25---30---35---40---45---50---55---60---65---70---75---80---85---90---95--100\n",
      "The ARPA file is missing <unk>.  Substituting log10 probability -100.\n",
      "****************************************************************************************************\n",
      "1 hyps. Best Hypothesis(score=-4.383123128984523, time=0, words=[], state=(0, 0, <kenlm.State object at 0x7f7848ba47b0>)). Mean score -4.38. Max -4.38:   1%|          | 1/145 [00:00<00:15,  9.23it/s].11. Max -565.57:  90%|████████▉ | 172/192 [02:40<00:06,  3.26it/s]01:13,  1.24s/it]  "
     ]
    },
    {
     "name": "stdout",
     "output_type": "stream",
     "text": [
      "\u001b[2K\r"
     ]
    },
    {
     "name": "stderr",
     "output_type": "stream",
     "text": [
      "2 hyps. Best Hypothesis(score=-655.7800394158618, time=191, words=['cow', 'see', 'a', 'makes', 'bones', 'a', 'in', 'teeth', 'strong'], state=(0, 0, <kenlm.State object at 0x7f9f62869f30>)). Mean score -654.43. Max -653.07: 100%|██████████| 192/192 [02:44<00:00,  1.17it/s],  4.40s/it] 20it/s]\n"
     ]
    },
    {
     "name": "stdout",
     "output_type": "stream",
     "text": [
      "Found 2 hypotheses\n",
      "\u001b[2K\r"
     ]
    },
    {
     "name": "stderr",
     "output_type": "stream",
     "text": [
      "363 hyps. Best Hypothesis(score=-100.74145232280871, time=26, words=['my'], state=(0, 11979, <kenlm.State object at 0x7fd776b6e370>)). Mean score -99.00. Max -97.04:  18%|█▊        | 27/146 [00:33<01:24,  1.41it/s]197.11:  67%|██████▋   | 125/186 [00:53<00:07,  7.73it/s]Loading the LM will be faster if you build a binary file.\n",
      "Reading /mnt/storage/kocharyan/additional_asr/asr_itmo_practice/resources/lab4/3gram.arpa\n",
      "----5---10---15---20---25---30---35---40---45---50---55---60---65---70---75---80---85---90---95--100\n",
      "The ARPA file is missing <unk>.  Substituting log10 probability -100.\n",
      "****************************************************************************************************\n",
      "1 hyps. Best Hypothesis(score=-8.766531626381779, time=1, words=[], state=(0, 0, <kenlm.State object at 0x7f9f5f38d330>)). Mean score -8.77. Max -8.77:   1%|          | 2/195 [00:00<00:16, 11.55it/s]01:17,  1.53it/s]"
     ]
    },
    {
     "name": "stdout",
     "output_type": "stream",
     "text": [
      "\u001b[2K\r"
     ]
    },
    {
     "name": "stderr",
     "output_type": "stream",
     "text": [
      "2 hyps. Best Hypothesis(score=-963.3398990637112, time=370, words=['fuss', 'therapy', 'occur', 'look', 'a', 'fish', 'a', 'news', 'see', 'is', 'achieved', 'an', 'these', 'expense', 'of', 'actual', \"experiment's\"], state=(0, 0, <kenlm.State object at 0x7f0f039357b0>)). Mean score -963.34. Max -963.34: 100%|██████████| 371/371 [03:14<00:00,  1.90it/s]\n",
      "181 hyps. Best Hypothesis(score=-228.1219451342753, time=131, words=['she', 'head', 'your', 'dark', 'suit', 'together', 'ease', 'wash'], state=(0, 21680, <kenlm.State object at 0x7f37e1ebe2b0>)). Mean score -228.12. Max -228.12:  71%|███████   | 132/186 [00:56<00:18,  2.88it/s]"
     ]
    },
    {
     "name": "stdout",
     "output_type": "stream",
     "text": [
      "Found 2 hypotheses\n",
      "\u001b[2K\r"
     ]
    },
    {
     "name": "stderr",
     "output_type": "stream",
     "text": [
      "5136 hyps. Best Hypothesis(score=-300.9190589244343, time=92, words=['only', 'the', 'most', 'accomplish', 'are'], state=(0, 8086, <kenlm.State object at 0x7f964f8fe4f0>)). Mean score -298.10. Max -296.93:  53%|█████▎    | 93/175 [01:18<04:08,  3.03s/it] Loading the LM will be faster if you build a binary file.\n",
      "Reading /mnt/storage/kocharyan/additional_asr/asr_itmo_practice/resources/lab4/3gram.arpa\n",
      "----5---10---15---20---25---30---35---40---45---50---55---60---65---70---75---80---85---90---95--100\n",
      "The ARPA file is missing <unk>.  Substituting log10 probability -100.\n",
      "****************************************************************************************************\n",
      "  0%|          | 0/289 [00:00<?, ?it/s]450151137171, time=35, words=['wife'], state=(0, 2501, <kenlm.State object at 0x7fd7792f5e30>)). Mean score -119.50. Max -117.06:  25%|██▍       | 36/146 [00:37<00:37,  2.95it/s]"
     ]
    },
    {
     "name": "stdout",
     "output_type": "stream",
     "text": [
      "\u001b[2K\r"
     ]
    },
    {
     "name": "stderr",
     "output_type": "stream",
     "text": [
      "1 hyps. Best Hypothesis(score=-547.9591619822721, time=168, words=['heave', 'on', 'those', 'ropes', 'the', \"boat's\", 'come', 'unstuck'], state=(0, 0, <kenlm.State object at 0x7f3c86302b30>)). Mean score -547.96. Max -547.96: 100%|██████████| 169/169 [02:26<00:00,  1.16it/s]1.71it/s] \n",
      "57 hyps. Best Hypothesis(score=-58.18681554711226, time=13, words=[], state=(0, 5296, <kenlm.State object at 0x7f9f5f38d330>)). Mean score -58.19. Max -58.19:   7%|▋         | 14/195 [00:05<01:53,  1.59it/s] "
     ]
    },
    {
     "name": "stdout",
     "output_type": "stream",
     "text": [
      "Found 1 hypotheses\n",
      "\u001b[2K\r"
     ]
    },
    {
     "name": "stderr",
     "output_type": "stream",
     "text": [
      "67 hyps. Best Hypothesis(score=-37.458581751080715, time=9, words=[], state=(0, 10045, <kenlm.State object at 0x7f0f007e2b30>)). Mean score -35.25. Max -33.84:   3%|▎         | 10/289 [00:02<01:22,  3.37it/s]Loading the LM will be faster if you build a binary file.5<00:05,  1.77it/s]]3:10<00:45,  1.03it/s] \n",
      "Reading /mnt/storage/kocharyan/additional_asr/asr_itmo_practice/resources/lab4/3gram.arpa\n",
      "----5---10---15---20---25---30---35---40---45---50---55---60---65---70---75---80---85---90---95--100\n",
      "The ARPA file is missing <unk>.  Substituting log10 probability -100.\n",
      "****************************************************************************************************\n",
      "67 hyps. Best Hypothesis(score=-43.681937314607666, time=11, words=[], state=(0, 10045, <kenlm.State object at 0x7f0f007e2b30>)). Mean score -41.48. Max -40.07:   4%|▍         | 12/289 [00:02<01:08,  4.04it/s]66.68. Max -266.46:  79%|███████▉  | 147/186 [01:00<00:09,  4.14it/s]       "
     ]
    },
    {
     "name": "stdout",
     "output_type": "stream",
     "text": [
      "\u001b[2K\r"
     ]
    },
    {
     "name": "stderr",
     "output_type": "stream",
     "text": [
      "1 hyps. Best Hypothesis(score=-671.0846648290591, time=208, words=['materials', 'surrounded', 'my', 'lincoln', 'lay', 'red', 'wide', 'tore', 'buff'], state=(0, 0, <kenlm.State object at 0x7f4d754f6730>)). Mean score -671.08. Max -671.08: 100%|██████████| 209/209 [02:19<00:00,  1.50it/s]  00:46,  1.06s/it] \n",
      "58 hyps. Best Hypothesis(score=-107.68145561257127, time=29, words=['each'], state=(0, 21721, <kenlm.State object at 0x7f0f02f87770>)). Mean score -107.68. Max -107.68:  10%|█         | 30/289 [00:06<00:34,  7.53it/s]"
     ]
    },
    {
     "name": "stdout",
     "output_type": "stream",
     "text": [
      "Found 1 hypotheses\n",
      "\u001b[2K\r"
     ]
    },
    {
     "name": "stderr",
     "output_type": "stream",
     "text": [
      "289 hyps. Best Hypothesis(score=-170.5584368139499, time=52, words=['wife', 'author', 'ran'], state=(0, 14531, <kenlm.State object at 0x7fd77995b4f0>)). Mean score -170.27. Max -166.96:  36%|███▋      | 53/146 [00:43<00:44,  2.07it/s] Loading the LM will be faster if you build a binary file.41,  1.03it/s]\n",
      "Reading /mnt/storage/kocharyan/additional_asr/asr_itmo_practice/resources/lab4/3gram.arpa\n",
      "----5---10---15---20---25---30---35---40---45---50---55---60---65---70---75---80---85---90---95--100\n",
      "The ARPA file is missing <unk>.  Substituting log10 probability -100.\n",
      "****************************************************************************************************\n",
      "  0%|          | 0/160 [00:00<?, ?it/s]"
     ]
    },
    {
     "name": "stdout",
     "output_type": "stream",
     "text": [
      "\u001b[2K\r"
     ]
    },
    {
     "name": "stderr",
     "output_type": "stream",
     "text": [
      "2 hyps. Best Hypothesis(score=-403.94783696760686, time=185, words=['she', 'head', 'your', 'dark', 'suit', 'together', 'ease', 'wash', 'water', 'all', 'year'], state=(0, 0, <kenlm.State object at 0x7f37e191b530>)). Mean score -402.37. Max -400.80: 100%|██████████| 186/186 [01:19<00:00,  2.33it/s]  1.25s/it]  2.68s/it]\n"
     ]
    },
    {
     "name": "stdout",
     "output_type": "stream",
     "text": [
      "Found 2 hypotheses\n",
      "\u001b[2K\r"
     ]
    },
    {
     "name": "stderr",
     "output_type": "stream",
     "text": [
      "1 hyps. Best Hypothesis(score=-496.2112663718977, time=171, words=['dances', 'alternated', 'with', 'thump', 'or', 'spoken', 'verses'], state=(0, 0, <kenlm.State object at 0x7ff4a1a79630>)). Mean score -496.21. Max -496.21: 100%|██████████| 172/172 [01:15<00:00,  2.26it/s] 6%|████████▋ | 191/221 [03:43<01:54,  3.82s/it]\n"
     ]
    },
    {
     "name": "stdout",
     "output_type": "stream",
     "text": [
      "Found 1 hypotheses\n",
      "\u001b[2K\r"
     ]
    },
    {
     "name": "stderr",
     "output_type": "stream",
     "text": [
      "1 hyps. Best Hypothesis(score=-447.2465265577193, time=189, words=['the', 'fish', 'began', 'topography', 'together', 'on', 'the', 'surface', 'of', 'the', 'small', 'wake'], state=(0, 0, <kenlm.State object at 0x7f53ae9b58b0>)). Mean score -447.25. Max -447.25: 100%|██████████| 190/190 [01:59<00:00,  1.59it/s]   04s/it] \n",
      "73 hyps. Best Hypothesis(score=-128.11695041998345, time=42, words=['the', \"cat's\"], state=(0, 20364, <kenlm.State object at 0x7f784b6dccf0>)). Mean score -126.14. Max -124.90:  30%|██▉       | 43/145 [00:57<00:51,  1.96it/s]00:53,  1.63it/s]"
     ]
    },
    {
     "name": "stdout",
     "output_type": "stream",
     "text": [
      "Found 1 hypotheses\n",
      "\u001b[2K\r"
     ]
    },
    {
     "name": "stderr",
     "output_type": "stream",
     "text": [
      "2 hyps. Best Hypothesis(score=-706.7930347960738, time=220, words=['the', 'morning', 'blew', 'a', 'gun', 'this', 'pie', \"i'd\", 'a', 'web', 'glistening', 'knowed', 'in', 'the', 'sun'], state=(0, 0, <kenlm.State object at 0x7ff1fdf478f0>)). Mean score -706.79. Max -706.78: 100%|██████████| 221/221 [04:17<00:00,  1.17s/it]   \n",
      "123 hyps. Best Hypothesis(score=-408.7941560935851, time=130, words=['only', 'the', 'most', 'accomplish', 'are', 'this', 'obtain'], state=(0, 22321, <kenlm.State object at 0x7f964ffda3b0>)). Mean score -407.93. Max -407.58:  75%|███████▍  | 131/175 [02:27<00:50,  1.15s/it] "
     ]
    },
    {
     "name": "stdout",
     "output_type": "stream",
     "text": [
      "Found 2 hypotheses\n",
      "\u001b[2K\r"
     ]
    },
    {
     "name": "stderr",
     "output_type": "stream",
     "text": [
      "2 hyps. Best Hypothesis(score=-439.7037921185029, time=159, words=['youngsters', 'love', 'calm', 'in', 'candy', 'yeah', 'zoo', 'tree'], state=(0, 33511, <kenlm.State object at 0x7f4d7628dc30>)). Mean score -438.35. Max -436.99: 100%|██████████| 160/160 [01:14<00:00,  2.16it/s]  [01:46<01:51,  1.21it/s]    \n"
     ]
    },
    {
     "name": "stdout",
     "output_type": "stream",
     "text": [
      "Found 2 hypotheses\n",
      "\u001b[2K\r"
     ]
    },
    {
     "name": "stderr",
     "output_type": "stream",
     "text": [
      "2 hyps. Best Hypothesis(score=-526.1437093570171, time=174, words=['only', 'the', 'most', 'accomplish', 'are', 'this', 'obtain', 'pop', \"you'll\", 'errors', 'ease'], state=(0, 0, <kenlm.State object at 0x7f964fc330b0>)). Mean score -525.60. Max -525.05: 100%|██████████| 175/175 [03:00<00:00,  1.03s/it]  2.59it/s]  \n",
      "291 hyps. Best Hypothesis(score=-440.7662328622859, time=140, words=['wife', 'author', 'ran', 'him', 'off', 'year', 'six', 'see', 'years'], state=(0, 849, <kenlm.State object at 0x7fd7790e78f0>)). Mean score -438.73. Max -437.24:  97%|█████████▋| 141/146 [02:19<00:03,  1.50it/s]29s/it]304 [02:09<00:33,  3.19it/s]"
     ]
    },
    {
     "name": "stdout",
     "output_type": "stream",
     "text": [
      "Found 2 hypotheses\n",
      "\u001b[2K\r"
     ]
    },
    {
     "name": "stderr",
     "output_type": "stream",
     "text": [
      "4 hyps. Best Hypothesis(score=-462.1199180445825, time=145, words=['wife', 'author', 'ran', 'him', 'off', 'year', 'six', 'see', 'years', 'ago'], state=(0, 0, <kenlm.State object at 0x7fd779c9e6f0>)). Mean score -461.23. Max -460.91: 100%|██████████| 146/146 [02:22<00:00,  1.02it/s] /it]304 [02:11<00:58,  1.75it/s]\n",
      "74 hyps. Best Hypothesis(score=-310.5409287737581, time=98, words=['the', \"cat's\", 'meow', 'always', 'hurts'], state=(0, 19360, <kenlm.State object at 0x7f784c81aaf0>)). Mean score -308.80. Max -306.85:  68%|██████▊   | 99/145 [01:54<01:11,  1.56s/it] "
     ]
    },
    {
     "name": "stdout",
     "output_type": "stream",
     "text": [
      "Found 4 hypotheses\n",
      "\u001b[2K\r"
     ]
    },
    {
     "name": "stderr",
     "output_type": "stream",
     "text": [
      "2 hyps. Best Hypothesis(score=-338.39508383388073, time=194, words=['cliff', 'wisdom', 'i', 'the', 'look', 'church', 'ease', 'snips', \"i've\", 'job'], state=(0, 0, <kenlm.State object at 0x7f9f628e0970>)). Mean score -338.01. Max -337.62: 100%|██████████| 195/195 [01:57<00:00,  1.66it/s] | 206/304 [02:17<01:59,  1.22s/it]\n",
      "868 hyps. Best Hypothesis(score=-624.579947935421, time=206, words=['he', 'ear', 'he', 'is', 'quite', 'persuasively', 'leave', 'the', 'of', 'urchins', 'body', 'men', 'of', 'me'], state=(0, 17777, <kenlm.State object at 0x7ff4531ce4f0>)). Mean score -622.67. Max -620.88:  68%|██████▊   | 207/304 [02:20<02:50,  1.76s/it]  "
     ]
    },
    {
     "name": "stdout",
     "output_type": "stream",
     "text": [
      "Found 2 hypotheses\n",
      "\u001b[2K\r"
     ]
    },
    {
     "name": "stderr",
     "output_type": "stream",
     "text": [
      "2 hyps. Best Hypothesis(score=-522.1041431706744, time=149, words=['chain', 'may', 'earn', 'more', 'money', 'by', 'working', 'the', 'ha', 'are'], state=(0, 0, <kenlm.State object at 0x7f3c868f6770>)). Mean score -521.82. Max -521.53: 100%|██████████| 150/150 [02:11<00:00,  1.14it/s]   85%|████████▍ | 258/304 [02:39<00:03, 13.98it/s]  \n"
     ]
    },
    {
     "name": "stdout",
     "output_type": "stream",
     "text": [
      "Found 2 hypotheses\n",
      "\u001b[2K\r"
     ]
    },
    {
     "name": "stderr",
     "output_type": "stream",
     "text": [
      "1 hyps. Best Hypothesis(score=-921.5377224630869, time=303, words=['he', 'ear', 'he', 'is', 'quite', 'persuasively', 'leave', 'the', 'of', 'urchins', 'body', 'men', 'of', 'mean', 'essential', 'slyness'], state=(0, 0, <kenlm.State object at 0x7ff451e37c30>)). Mean score -921.54. Max -921.54: 100%|██████████| 304/304 [03:01<00:00,  1.68it/s]  \n",
      "30 hyps. Best Hypothesis(score=-471.9948764215135, time=148, words=['each', 'untimely', 'think', 'come', 'wall', 'off', 'coincided'], state=(0, 35420, <kenlm.State object at 0x7f0f03004330>)). Mean score -471.99. Max -471.99:  52%|█████▏    | 149/289 [02:34<00:33,  4.17it/s]"
     ]
    },
    {
     "name": "stdout",
     "output_type": "stream",
     "text": [
      "Found 1 hypotheses\n",
      "\u001b[2K\r"
     ]
    },
    {
     "name": "stderr",
     "output_type": "stream",
     "text": [
      "2 hyps. Best Hypothesis(score=-449.9273433596897, time=144, words=['the', \"cat's\", 'meow', 'always', 'hurts', 'my', 'use'], state=(0, 0, <kenlm.State object at 0x7f784ba313f0>)). Mean score -449.53. Max -449.13: 100%|██████████| 145/145 [03:28<00:00,  1.44s/it] -625.32. Max -625.29:  82%|████████▏ | 236/289 [03:17<00:14,  3.63it/s]\n"
     ]
    },
    {
     "name": "stdout",
     "output_type": "stream",
     "text": [
      "Found 2 hypotheses\n",
      "\u001b[2K\r"
     ]
    },
    {
     "name": "stderr",
     "output_type": "stream",
     "text": [
      "2 hyps. Best Hypothesis(score=-748.0192703850984, time=287, words=['each', 'untimely', 'think', 'come', 'wall', 'off', 'coincided', 'with', 'thump', 'breakdown', 'of', 'vehicles', 'dingo', 'is', 'stew', \"'em\", 'part'], state=(0, 0, <kenlm.State object at 0x7f0f04860530>)). Mean score -747.42. Max -746.81: 100%|█████████▉| 288/289 [04:58<00:01,  1.64s/it]            "
     ]
    },
    {
     "name": "stdout",
     "output_type": "stream",
     "text": [
      "Found 2 hypotheses\n",
      "\u001b[2K\r"
     ]
    },
    {
     "name": "stderr",
     "output_type": "stream",
     "text": [
      "2 hyps. Best Hypothesis(score=-752.4084482793949, time=288, words=['each', 'untimely', 'think', 'come', 'wall', 'off', 'coincided', 'with', 'thump', 'breakdown', 'of', 'vehicles', 'dingo', 'is', 'stew', \"'em\", 'part'], state=(0, 0, <kenlm.State object at 0x7f0f04860530>)). Mean score -751.80. Max -751.20: 100%|██████████| 289/289 [04:58<00:00,  1.03s/it]\n"
     ]
    }
   ],
   "source": [
    "example_refs, examples = get_data()\n",
    "examples = decode(ASR, examples)"
   ]
  },
  {
   "cell_type": "code",
   "execution_count": 63,
   "id": "509ac160-e049-4e41-a041-fc1d0b436de2",
   "metadata": {},
   "outputs": [
    {
     "data": {
      "text/plain": [
       "0.5943152454780362"
      ]
     },
     "execution_count": 63,
     "metadata": {},
     "output_type": "execute_result"
    }
   ],
   "source": [
    "calc_wer(example_refs, examples)"
   ]
  },
  {
   "cell_type": "code",
   "execution_count": 64,
   "id": "91a072ac-ab90-47f6-9cd7-54adb7ab636a",
   "metadata": {},
   "outputs": [
    {
     "data": {
      "text/plain": [
       "0.5943152454780362"
      ]
     },
     "execution_count": 64,
     "metadata": {},
     "output_type": "execute_result"
    },
    {
     "name": "stdout",
     "output_type": "stream",
     "text": [
      "\u001b[2K\r"
     ]
    }
   ],
   "source": [
    "calc_wer(example_refs, examples)"
   ]
  },
  {
   "cell_type": "code",
   "execution_count": null,
   "id": "d10caaec-c9e0-4899-aff0-7cfffe815df4",
   "metadata": {},
   "outputs": [],
   "source": []
  }
 ],
 "metadata": {
  "kernelspec": {
   "display_name": "venv39",
   "language": "python",
   "name": "venv39"
  },
  "language_info": {
   "codemirror_mode": {
    "name": "ipython",
    "version": 3
   },
   "file_extension": ".py",
   "mimetype": "text/x-python",
   "name": "python",
   "nbconvert_exporter": "python",
   "pygments_lexer": "ipython3",
   "version": "3.9.16"
  }
 },
 "nbformat": 4,
 "nbformat_minor": 5
}
