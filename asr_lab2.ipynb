{
 "cells": [
  {
   "cell_type": "markdown",
   "id": "da3e3e3a",
   "metadata": {},
   "source": [
    "# Языковые модели\n",
    "\n",
    "Языковые модели играют важную роль в системах распознавания речи, помогая создавать более грамотные и лексически корректные тексты. В данной работе мы будем изучать нграмные языковые модели, которые позволяют довольно легко оценить вероятность и правдоподобность текста.\n",
    "\n",
    "В нграмной языковой модели, нграм - это последовательность из n слов в тексте. Например, в предложении \"по-моему мы сэкономим уйму времени если я сойду с ума прямо сейчас\", биграмами будут \"по-моему мы\", \"мы сэкономим\", \"сэкономим уйму\" итд. Языковые модели оценивают вероятность появления последовательности слов, исходя из статистики появления каждого из нграм в обучающей выборке.\n",
    "\n",
    "Порядком (order) нграм языковой модели называют максимальную длину нграм, которую учитывает модель. \n",
    "\n",
    "Практическая работа разделена на 2 части: \n",
    "1. Построение нграмой языковой модели - основная часть, 12 баллов\n",
    "1. Предсказание с помощью языковой модели - дополнительная часть, 4 балла\n",
    "\n",
    "\n",
    "\n",
    "Полезные сслыки:\n",
    "* arpa формат - https://cmusphinx.github.io/wiki/arpaformat/\n",
    "* обучающие материалы - https://pages.ucsd.edu/~rlevy/teaching/2015winter/lign165/lectures/lecture13/lecture13_ngrams_with_SRILM.pdf\n",
    "* обучающие материалы.2 - https://cjlise.github.io/machine-learning/N-Gram-Language-Model/"
   ]
  },
  {
   "cell_type": "code",
   "execution_count": 1,
   "id": "90ef68c8",
   "metadata": {},
   "outputs": [],
   "source": [
    "import numpy as np\n",
    "from collections import defaultdict\n",
    "from typing import List, Dict, Tuple"
   ]
  },
  {
   "cell_type": "markdown",
   "id": "f6125907",
   "metadata": {},
   "source": [
    "# 1. Построение нграмной языковой модели. (12 баллов)\n",
    "\n",
    "\n",
    "Вероятность текста с помощью нграмной языковой модели можно вычислить по формуле: \n",
    "$$ P(w_1, w_2, .., w_n) = {\\prod{{P_{i=0}^{n}(w_i| w_{i-order}, .., w_{i-1})}}} $$\n",
    "\n",
    "В простом виде, при обучении нграмной языковой модели, чтобы рассчитать условную вероятность каждой нграмы, используется формула, основанная на количестве появлений нграмы в обучающей выборке. Формула выглядит следующим образом:\n",
    "$$ P(w_i| w_{i-order}, .., w_{i-1}) = {{count(w_{i-order}, .., w_{i})} \\over {count(w_{i-order},..., w_{i-1})}} $$\n"
   ]
  },
  {
   "cell_type": "code",
   "execution_count": 3,
   "id": "51438291",
   "metadata": {},
   "outputs": [],
   "source": [
    "# в первую очередь нам понадобится подсчитать статистику по обучающей выборке \n",
    "def count_ngrams(train_text: List[str], order=3, bos=True, eos=True) -> Dict[Tuple[str], int]:\n",
    "    \n",
    "    BOS = \"<s>\"\n",
    "    EOS = \"</s>\"\n",
    "    \n",
    "    ngrams = defaultdict(int)\n",
    "    \n",
    "    for line in train_text:\n",
    "        \n",
    "        words = line.split()\n",
    "        if bos: words.insert(0, BOS)\n",
    "        if eos: words.append(EOS)\n",
    "        \n",
    "        # TODO: for order then word \n",
    "        for word_idx in range(1, len(words) + 1):\n",
    "            for order_idx in range(0, order):\n",
    "                if order_idx < word_idx:\n",
    "                    ngrams[tuple(words[word_idx-order_idx-1:word_idx])] += 1\n",
    "    \n",
    "    return dict(ngrams)"
   ]
  },
  {
   "cell_type": "code",
   "execution_count": 4,
   "id": "a840befa",
   "metadata": {},
   "outputs": [
    {
     "name": "stdout",
     "output_type": "stream",
     "text": [
      "Test 1a passed\n"
     ]
    }
   ],
   "source": [
    "def test_count_ngrams():\n",
    "    assert count_ngrams(['привет привет как дела'], order=1, bos=True, eos=True) == {\n",
    "        ('<s>',): 1, \n",
    "        ('привет',): 2, \n",
    "        ('как',): 1, \n",
    "        ('дела',): 1, \n",
    "        ('</s>',): 1\n",
    "    }\n",
    "    assert count_ngrams(['привет привет как дела'], order=1, bos=False, eos=True) == {\n",
    "        ('привет',): 2, \n",
    "        ('как',): 1, \n",
    "        ('дела',): 1, \n",
    "        ('</s>',): 1\n",
    "    }\n",
    "    assert count_ngrams(['привет привет как дела'], order=1, bos=False, eos=False) == {\n",
    "        ('привет',): 2, \n",
    "        ('как',): 1, \n",
    "        ('дела',): 1\n",
    "    }\n",
    "    assert count_ngrams(['привет привет как дела'], order=2, bos=False, eos=False) == {\n",
    "        ('привет',): 2, \n",
    "        ('как',): 1, \n",
    "        ('дела',): 1,\n",
    "        ('привет', 'привет'): 1,\n",
    "        ('привет', 'как'): 1,\n",
    "        ('как', 'дела'): 1\n",
    "    }    \n",
    "    assert count_ngrams(['привет ' * 6], order=2, bos=False, eos=False) == {\n",
    "        ('привет',): 6, \n",
    "        ('привет', 'привет'): 5\n",
    "    }\n",
    "    result = count_ngrams(['практическое сентября',\n",
    "                           'второе практическое занятие пройдет в офлайне 32 сентября в 12 часов 32 минуты',\n",
    "                           'в офлайне в 32 12'], order=5)\n",
    "    assert result[('<s>',)] == 3\n",
    "    assert result[('32',)] == 3\n",
    "    assert result[('<s>', 'в', 'офлайне', 'в', '32')] == 1\n",
    "    assert result[('офлайне', 'в', '32', '12', '</s>')] == 1\n",
    "    print('Test 1a passed')\n",
    "    \n",
    "    \n",
    "test_count_ngrams()  "
   ]
  },
  {
   "cell_type": "markdown",
   "id": "c767400e",
   "metadata": {},
   "source": [
    "\n",
    "Простой подход к вычислению вероятностей через количество нграм имеет существенный недостаток. Если в тексте встретится нграмма, которой не было в обучающей выборке, то вероятность всего текста будет равна нулю. \n",
    "\n",
    "Чтобы избежать данного недостатка, вводится специальное сглаживание - [сглаживание Лапласа](https://en.wikipedia.org/wiki/Additive_smoothing). Данная техника позволяет учитывать нграмы, не встретившиеся в обучающей выборке, и при этом не делает вероятность текста равной нулю.\n",
    "\n",
    "Формула сглаживания Лапласа выглядит следующим образом:\n",
    "\n",
    "$$ P(w_i| w_{i-order}, .., w_{i-1}) = {{count(w_{i-order}, .., w_{i}) + k} \\over {count(w_{i-order},..., w_{i-1}) + k*V}} $$\n",
    "\n",
    "Здесь V - количество слов в словаре, а k - гиперпараметр, который контролирует меру сглаживания. Как правило, значение k выбирается экспериментально, чтобы найти оптимальный баланс между учетом редких нграм и сохранением вероятности для часто встречающихся нграм."
   ]
  },
  {
   "cell_type": "code",
   "execution_count": 21,
   "id": "871f1e17",
   "metadata": {},
   "outputs": [],
   "source": [
    "# функция подсчета вероятности через количество со сглаживанием Лапласа\n",
    "def calculate_ngram_prob(ngram: Tuple[str], counts: Dict[Tuple[str], int], V=None, k=0) -> float:\n",
    "    # подсчитывет ngram со сглаживанием Лапласа\n",
    "    if V is None:\n",
    "        V = len(set(word for words in counts for word in words))\n",
    "    counts = defaultdict(int, counts)\n",
    "    numerator = counts[ngram] + k\n",
    "    if len(ngram) != 1:\n",
    "        denominator = counts[ngram[:-1]] + k * V\n",
    "    else:\n",
    "        denominator = sum(map(lambda x: x[1], filter(lambda x: len(x[0]) == 1, counts.items()))) + k * V\n",
    "    prob = numerator / denominator\n",
    "    return prob"
   ]
  },
  {
   "cell_type": "code",
   "execution_count": 23,
   "id": "b103639a",
   "metadata": {},
   "outputs": [
    {
     "name": "stdout",
     "output_type": "stream",
     "text": [
      "Test 1.b passed\n"
     ]
    }
   ],
   "source": [
    "def test_calculate_ngram_prob():\n",
    "    counts = count_ngrams(['практическое сентября',\n",
    "                           'второе практическое занятие в офлайне 32 сентября в 12 часов 32 минуты',\n",
    "                           'в офлайне в 32 12'], order=4)\n",
    "    assert calculate_ngram_prob(('в', 'офлайне'), counts) == 0.5\n",
    "    assert calculate_ngram_prob(('в', ), counts) == 4/25\n",
    "    assert calculate_ngram_prob(('в', ), counts, k=0.5) == (4+0.5)/(25+0.5*12)\n",
    "    assert calculate_ngram_prob(('в', 'офлайне', 'в', '32'), counts) == 1.0\n",
    "    assert calculate_ngram_prob(('в', 'офлайне'), counts, k=1) == 0.1875\n",
    "    assert calculate_ngram_prob(('в', 'офлайне'), counts, k=0.5) == 0.25\n",
    "    assert calculate_ngram_prob(('в', 'онлайне'), counts, k=0) == 0.0\n",
    "    assert calculate_ngram_prob(('в', 'онлайне'), counts, k=1) == 0.0625\n",
    "    assert calculate_ngram_prob(('в', 'офлайне'), counts, k=0.5) == 0.25\n",
    "\n",
    "    print(\"Test 1.b passed\")\n",
    "    \n",
    "\n",
    "test_calculate_ngram_prob() "
   ]
  },
  {
   "cell_type": "markdown",
   "id": "97364849",
   "metadata": {},
   "source": [
    "Основной метрикой язковых моделей является перплексия. \n",
    "\n",
    "Перплексия  — безразмерная величина, мера того, насколько хорошо распределение вероятностей предсказывает выборку. Низкий показатель перплексии указывает на то, что распределение вероятности хорошо предсказывает выборку.\n",
    "\n",
    "$$ ppl = {P(w_1, w_2 ,..., w_N)^{- {1} \\over {N}}} $$\n"
   ]
  },
  {
   "cell_type": "code",
   "execution_count": 24,
   "id": "baa326c4",
   "metadata": {},
   "outputs": [],
   "source": [
    "# Языковая модель \n",
    "class NgramLM:\n",
    "    def __init__(self, order=3, bos=True, eos=True, k=1, predefined_vocab=None):\n",
    "        self.order = order\n",
    "        self.eos = eos\n",
    "        self.bos = bos\n",
    "        self.k = k\n",
    "        self.vocab = predefined_vocab\n",
    "        self.ngrams_count = None\n",
    "        \n",
    "    @property\n",
    "    def V(self) -> int:\n",
    "        return len(self.vocab)\n",
    "    \n",
    "    def fit(self, train_text: List[str]) -> None:\n",
    "        self.ngrams_count = defaultdict(int, count_ngrams(train_text, self.order, self.bos, self.eos))\n",
    "        self.vocab = set(word for words in self.ngrams_count for word in words)     \n",
    "    \n",
    "    def predict_ngram_log_proba(self, ngram: Tuple[str]) -> float:\n",
    "        # считаем логарифм вероятности конкретной нграмы\n",
    "        return np.log(calculate_ngram_prob(ngram, self.ngrams_count, self.V, self.k))\n",
    "           \n",
    "    def predict_log_proba(self, words: List[str]) -> float:\n",
    "        if self.bos:\n",
    "            words = ['<s>'] + words\n",
    "        if self.eos:\n",
    "            words = words + ['</s>']\n",
    "        logprob = []\n",
    "        # применяем chain rule, чтобы посчитать логарифм вероятности всей строки\n",
    "        logprob.append(self.predict_ngram_log_proba(tuple([words[0]])))\n",
    "        for word_idx in range(len(words) - self.order + 1):\n",
    "            logprob.append(self.predict_ngram_log_proba(tuple(words[word_idx:word_idx+self.order])))  \n",
    "        return sum(logprob) / len(logprob)\n",
    "        \n",
    "    def ppl(self, text: List[str]) -> float:\n",
    "        # подсчет перплексии\n",
    "        # Для того, чтобы ваш код был численно стабильным, \n",
    "        #    не считайте формулу напрямую, а воспользуйтесь переходом к логарифмам вероятностей\n",
    "        words = text[0].split()\n",
    "        perplexity = np.exp(-self.predict_log_proba(words))\n",
    "        return perplexity"
   ]
  },
  {
   "cell_type": "code",
   "execution_count": 26,
   "id": "15888623",
   "metadata": {},
   "outputs": [],
   "source": [
    "def test_lm():\n",
    "    train_data = [\"по-моему мы сэкономим уйму времени если я сойду с ума прямо сейчас\",\n",
    "                  \"если я сойду с ума прямо сейчас по-моему мы сэкономим уйму времени\",\n",
    "                  \"мы сэкономим уйму времени если я сейчас сойду с ума по-моему\"]\n",
    "    global lm\n",
    "    lm = NgramLM(order=2)\n",
    "    lm.fit(train_data)\n",
    "    assert lm.V == 14\n",
    "    assert np.isclose(lm.predict_log_proba(['мы']), lm.predict_log_proba([\"если\"]))\n",
    "    assert lm.predict_log_proba([\"по-моему\"]) > lm.predict_log_proba([\"если\"]) \n",
    "    \n",
    "    gt = ((3+1)/(41 + 14) * 1/(3+14))**(-1/2)\n",
    "    ppl = lm.ppl([''])\n",
    "    assert  np.isclose(ppl, gt), f\"{ppl=} {gt=}\"\n",
    "    \n",
    "    gt = ((3+1)/(41 + 14) * 1/(3+14) * 1/(14)) ** (-1/3)\n",
    "    ppl = lm.ppl(['ЧТО'])\n",
    "    assert  np.isclose(ppl, gt), f\"{ppl=} {gt=}\"\n",
    "    \n",
    "    test_data = [\"по-моему если я прямо сейчас сойду с ума мы сэкономим уйму времени\"]\n",
    "    ppl = lm.ppl(test_data)\n",
    "    assert round(ppl, 2) == 7.33, f\"{ppl}\"\n",
    "test_lm()"
   ]
  },
  {
   "cell_type": "markdown",
   "id": "817c85bf",
   "metadata": {},
   "source": [
    "# 2. Предсказания с помощью языковой модели (4 балла)"
   ]
  },
  {
   "cell_type": "code",
   "execution_count": 27,
   "id": "5540d073",
   "metadata": {},
   "outputs": [],
   "source": [
    "def predict_next_word(lm: NgramLM, prefix: List[str], topk=4):\n",
    "    # TODO реализуйте функцию, которая предсказывает продолжение фразы. \n",
    "    # верните topk наиболее вероятных продолжений фразы prefix \n",
    "    pred_scores = {}\n",
    "    for word in lm.vocab:\n",
    "        pred_scores[word] = lm.ppl([prefix[0] + ' ' + word])\n",
    "    return sorted(pred_scores.items(), key=lambda x: x[1])[:topk]\n",
    "    "
   ]
  },
  {
   "cell_type": "markdown",
   "id": "dff0df9b",
   "metadata": {},
   "source": [
    "Обучите языковую модель на всем тексте из этой лабораторной работы (не забудьте заранее нормализовать текст).\n",
    "\n",
    "Что предскажет модель по префиксам `по-моему`, `сэкономим`, `нграм` и `вероятности`? "
   ]
  },
  {
   "cell_type": "code",
   "execution_count": 28,
   "id": "a0372130",
   "metadata": {},
   "outputs": [
    {
     "data": {
      "text/plain": [
       "[('мы', 16.616699746389855),\n",
       " ('минуты', 18.08533939518749),\n",
       " ('двенадцать', 18.23927105604001),\n",
       " ('сентября', 18.23927105604001)]"
      ]
     },
     "execution_count": 28,
     "metadata": {},
     "output_type": "execute_result"
    }
   ],
   "source": [
    "train_data = [\"по-моему мы сэкономим уйму времени если я сойду с ума прямо сейчас\",\n",
    "              \"если я сойду с ума прямо сейчас по-моему мы сэкономим уйму времени\",\n",
    "              \"мы сэкономим уйму времени если я сейчас сойду с ума по-моему\",'практическое сентября',\n",
    "              \"второе практическое занятие пройдет в офлайне тридцать второго сентября в двенадцать часов тридцать две минуты\",\n",
    "              \"в офлайне в тридцать два двенадцать\"]\n",
    "lm = NgramLM(order=2)\n",
    "lm.fit(train_data)\n",
    "predict_next_word(lm, [\"по-моему\"])"
   ]
  },
  {
   "cell_type": "code",
   "execution_count": 29,
   "id": "95eee117",
   "metadata": {},
   "outputs": [
    {
     "data": {
      "text/plain": [
       "[('ума', 18.38940117441857),\n",
       " ('минуты', 21.50721428599597),\n",
       " ('двенадцать', 21.690270912305976),\n",
       " ('сентября', 21.690270912305976)]"
      ]
     },
     "execution_count": 29,
     "metadata": {},
     "output_type": "execute_result"
    }
   ],
   "source": [
    "predict_next_word(lm, [\"сэкономим\"][0]) "
   ]
  },
  {
   "cell_type": "code",
   "execution_count": 30,
   "id": "25e7fbdb",
   "metadata": {},
   "outputs": [
    {
     "data": {
      "text/plain": [
       "[('минуты', 20.966852818365762),\n",
       " ('двенадцать', 21.14531020899899),\n",
       " ('сентября', 21.14531020899899),\n",
       " ('времени', 21.319360362378184)]"
      ]
     },
     "execution_count": 30,
     "metadata": {},
     "output_type": "execute_result"
    }
   ],
   "source": [
    "predict_next_word(lm, [\"нграм\"][0]) "
   ]
  },
  {
   "cell_type": "code",
   "execution_count": 31,
   "id": "254af769",
   "metadata": {},
   "outputs": [
    {
     "data": {
      "text/plain": [
       "[('двенадцать', 15.45955717155684),\n",
       " ('офлайне', 16.612375295861984),\n",
       " ('минуты', 18.22945707828453),\n",
       " ('сентября', 18.384615383206736)]"
      ]
     },
     "execution_count": 31,
     "metadata": {},
     "output_type": "execute_result"
    }
   ],
   "source": [
    "predict_next_word(lm, [\"вероятности\"][0]) "
   ]
  },
  {
   "cell_type": "code",
   "execution_count": null,
   "id": "e87d429f",
   "metadata": {},
   "outputs": [],
   "source": []
  }
 ],
 "metadata": {
  "kernelspec": {
   "display_name": "venv",
   "language": "python",
   "name": "venv"
  },
  "language_info": {
   "codemirror_mode": {
    "name": "ipython",
    "version": 3
   },
   "file_extension": ".py",
   "mimetype": "text/x-python",
   "name": "python",
   "nbconvert_exporter": "python",
   "pygments_lexer": "ipython3",
   "version": "3.8.16"
  }
 },
 "nbformat": 4,
 "nbformat_minor": 5
}
